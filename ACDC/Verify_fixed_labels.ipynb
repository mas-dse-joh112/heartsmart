{
 "cells": [
  {
   "cell_type": "code",
   "execution_count": 13,
   "metadata": {
    "collapsed": false
   },
   "outputs": [],
   "source": [
    "import glob\n",
    "import numpy as np\n",
    "import os\n",
    "import matplotlib.pyplot as plt\n",
    "%matplotlib inline"
   ]
  },
  {
   "cell_type": "code",
   "execution_count": 9,
   "metadata": {
    "collapsed": true
   },
   "outputs": [],
   "source": [
    "path='/opt/output/acdc/norm/1/3L/patient012/*.npy'\n",
    "images=glob.glob(path)"
   ]
  },
  {
   "cell_type": "code",
   "execution_count": 10,
   "metadata": {
    "collapsed": false
   },
   "outputs": [
    {
     "data": {
      "text/plain": [
       "list"
      ]
     },
     "execution_count": 10,
     "metadata": {},
     "output_type": "execute_result"
    }
   ],
   "source": [
    "type(images)"
   ]
  },
  {
   "cell_type": "code",
   "execution_count": 17,
   "metadata": {
    "collapsed": false
   },
   "outputs": [
    {
     "name": "stdout",
     "output_type": "stream",
     "text": [
      "0.0\n",
      "0.0\n",
      "0.0\n",
      "0.0\n",
      "0.0\n",
      "0.0\n",
      "0.0\n",
      "0.0\n",
      "0.0\n",
      "0.0\n",
      "0.0\n",
      "0.0\n",
      "0.0\n",
      "0.0\n",
      "0.0\n",
      "0.0\n",
      "0.0\n",
      "0.0\n",
      "0.0\n",
      "0.0\n"
     ]
    },
    {
     "data": {
      "image/png": "[encoded data removed]",
      "text/plain": [
       "<Figure size 432x288 with 1 Axes>"
      ]
     },
     "metadata": {},
     "output_type": "display_data"
    }
   ],
   "source": [
    "for i in images:\n",
    "    im=np.load(i)\n",
    "    print (np.min(im))\n",
    "    plt.imshow(im, cmap=\"bone\")"
   ]
  },
  {
   "cell_type": "code",
   "execution_count": 18,
   "metadata": {
    "collapsed": true
   },
   "outputs": [],
   "source": [
    "path1='/opt/output/acdc/norm/1/3/patient012/*label.*'"
   ]
  },
  {
   "cell_type": "code",
   "execution_count": 19,
   "metadata": {
    "collapsed": true
   },
   "outputs": [],
   "source": [
    "orig_image=glob.glob(path1)"
   ]
  },
  {
   "cell_type": "code",
   "execution_count": 26,
   "metadata": {
    "collapsed": false
   },
   "outputs": [
    {
     "name": "stdout",
     "output_type": "stream",
     "text": [
      "/opt/output/acdc/norm/1/3/patient012/patient012_slice4_frame1_label.nii.npy\n",
      "[0. 1.]\n",
      "/opt/output/acdc/norm/1/3/patient012/patient012_slice6_frame13_label.nii.npy\n",
      "[0. 1.]\n",
      "/opt/output/acdc/norm/1/3/patient012/patient012_slice2_frame1_label.nii.npy\n",
      "[0. 1.]\n",
      "/opt/output/acdc/norm/1/3/patient012/patient012_slice9_frame1_label.nii.npy\n",
      "[0. 1.]\n",
      "/opt/output/acdc/norm/1/3/patient012/patient012_slice5_frame1_label.nii.npy\n",
      "[0. 1.]\n",
      "/opt/output/acdc/norm/1/3/patient012/patient012_slice10_frame1_label.nii.npy\n",
      "[0. 1.]\n",
      "/opt/output/acdc/norm/1/3/patient012/patient012_slice7_frame13_label.nii.npy\n",
      "[0. 1.]\n",
      "/opt/output/acdc/norm/1/3/patient012/patient012_slice8_frame1_label.nii.npy\n",
      "[0. 1.]\n",
      "/opt/output/acdc/norm/1/3/patient012/patient012_slice3_frame1_label.nii.npy\n",
      "[0. 1.]\n",
      "/opt/output/acdc/norm/1/3/patient012/patient012_slice1_frame13_label.nii.npy\n",
      "[1.]\n",
      "/opt/output/acdc/norm/1/3/patient012/patient012_slice6_frame1_label.nii.npy\n",
      "[0. 1.]\n",
      "/opt/output/acdc/norm/1/3/patient012/patient012_slice10_frame13_label.nii.npy\n",
      "[0. 1.]\n",
      "/opt/output/acdc/norm/1/3/patient012/patient012_slice2_frame13_label.nii.npy\n",
      "[0. 1.]\n",
      "/opt/output/acdc/norm/1/3/patient012/patient012_slice4_frame13_label.nii.npy\n",
      "[0. 1.]\n",
      "/opt/output/acdc/norm/1/3/patient012/patient012_slice8_frame13_label.nii.npy\n",
      "[0. 1.]\n",
      "/opt/output/acdc/norm/1/3/patient012/patient012_slice7_frame1_label.nii.npy\n",
      "[0. 1.]\n",
      "/opt/output/acdc/norm/1/3/patient012/patient012_slice3_frame13_label.nii.npy\n",
      "[0. 1.]\n",
      "/opt/output/acdc/norm/1/3/patient012/patient012_slice5_frame13_label.nii.npy\n",
      "[0. 1.]\n",
      "/opt/output/acdc/norm/1/3/patient012/patient012_slice1_frame1_label.nii.npy\n",
      "[0. 1.]\n",
      "/opt/output/acdc/norm/1/3/patient012/patient012_slice9_frame13_label.nii.npy\n",
      "[0. 1.]\n"
     ]
    },
    {
     "data": {
      "image/png": "[encoded data removed]",
      "text/plain": [
       "<Figure size 432x288 with 1 Axes>"
      ]
     },
     "metadata": {},
     "output_type": "display_data"
    }
   ],
   "source": [
    "for i in orig_image:\n",
    "    im=np.load(i)\n",
    "    print (i)\n",
    "    max_val=im.max()\n",
    "    im[im<max_val]=0\n",
    "    im[im==max_val]=1\n",
    "    print(np.unique(im))\n",
    "    plt.imshow(im, cmap=\"bone\")"
   ]
  },
  {
   "cell_type": "code",
   "execution_count": 27,
   "metadata": {
    "collapsed": true
   },
   "outputs": [],
   "source": [
    "im_test='/opt/output/acdc/norm/1/3/patient012/patient012_slice1_frame13_label.nii.npy'"
   ]
  },
  {
   "cell_type": "code",
   "execution_count": 28,
   "metadata": {
    "collapsed": true
   },
   "outputs": [],
   "source": [
    "test_im=np.load(im_test)"
   ]
  },
  {
   "cell_type": "code",
   "execution_count": 29,
   "metadata": {
    "collapsed": false
   },
   "outputs": [
    {
     "data": {
      "text/plain": [
       "<matplotlib.image.AxesImage at 0x7fc0bc2d5b70>"
      ]
     },
     "execution_count": 29,
     "metadata": {},
     "output_type": "execute_result"
    },
    {
     "data": {
      "image/png": "[encoded data removed]",
      "text/plain": [
       "<Figure size 432x288 with 1 Axes>"
      ]
     },
     "metadata": {},
     "output_type": "display_data"
    }
   ],
   "source": [
    "plt.imshow(test_im, cmap=\"bone\")"
   ]
  },
  {
   "cell_type": "code",
   "execution_count": null,
   "metadata": {
    "collapsed": true
   },
   "outputs": [],
   "source": []
  }
 ],
 "metadata": {
  "anaconda-cloud": {},
  "kernelspec": {
   "display_name": "Python [conda env:py35]",
   "language": "python",
   "name": "conda-env-py35-py"
  },
  "language_info": {
   "codemirror_mode": {
    "name": "ipython",
    "version": 3
   },
   "file_extension": ".py",
   "mimetype": "text/x-python",
   "name": "python",
   "nbconvert_exporter": "python",
   "pygments_lexer": "ipython3",
   "version": "3.5.5"
  }
 },
 "nbformat": 4,
 "nbformat_minor": 1
}
