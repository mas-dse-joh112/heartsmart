{
 "cells": [
  {
   "cell_type": "markdown",
   "metadata": {},
   "source": [
    "### Contour removal if more than one contour predicted based on the center of LV"
   ]
  },
  {
   "cell_type": "code",
   "execution_count": 3,
   "metadata": {},
   "outputs": [],
   "source": [
    "import numpy as np\n",
    "import matplotlib.pyplot as plt\n",
    "import numpy as np\n",
    "%matplotlib inline\n",
    "import pylab\n",
    "import skimage\n",
    "from skimage import measure,feature\n",
    "import math\n",
    "from shapely.geometry import Point\n",
    "from shapely.geometry.polygon import Polygon"
   ]
  },
  {
   "cell_type": "code",
   "execution_count": 35,
   "metadata": {},
   "outputs": [],
   "source": [
    "def fourD_add(arr):\n",
    "    t=arr\n",
    "    found_dic={}\n",
    "    #print(t.shape[0])\n",
    "    count=0\n",
    "    x=0\n",
    "    for i in range(t.shape[0]):\n",
    "        #print(np.max(t[i,:,:,0]))\n",
    "        x=x+t[i,:,:,0]\n",
    "    print(np.max(x))\n",
    "    tgt=np.where(x==np.max(x))\n",
    "    #print('tgt',tgt)\n",
    "    x1=max(tgt[0])\n",
    "    y1=max(tgt[1])\n",
    "    print('xy',x1,y1)\n",
    "    point = Point(x1, y1)    \n",
    "    print(x[x1,y1])\n",
    "    icount = 0\n",
    "\n",
    "    for t_im1 in arr:\n",
    "         \n",
    "        t_im1 = t_im1[:, :, 0] \n",
    "        icount += 1\n",
    "        #print(t_im1.shape)\n",
    "        dict_shape={}\n",
    "        cntrs=skimage.measure.find_contours(t_im1,0.1)  \n",
    "        #if icount==20:\n",
    "         #   break\n",
    "        found = []\n",
    "\n",
    "        if len(cntrs)>1:\n",
    "            #print('# of contours identified:::'+str(len(cntrs)), icount)\n",
    "            print('count',count)\n",
    "            plt.subplot(121),plt.imshow(t_im1,)\n",
    "            for i in range(len(cntrs)):\n",
    "                #print(type(cntrs[i]),cntrs[i].shape)\n",
    "                #print ('cntrs',cntrs[i])\n",
    "                polygon = Polygon(cntrs[i])  \n",
    "                if polygon.contains(point):\n",
    "                    found_dic[i]=1\n",
    "                #found=list(found_dic.keys())    \n",
    "                else:\n",
    "                    found.append(i)\n",
    "            #rint(found_dic.keys)     \n",
    "            #rint('list',found)\n",
    "            if len(found_dic)==0:\n",
    "                print('in 47...')\n",
    "                #found_dic={}\n",
    "                found=[]\n",
    "                for i1 in range(len(cntrs)):                    \n",
    "                #the point was not present in any contour; hence find nearest\n",
    "                    polygon = Polygon(cntrs[i1])\n",
    "                    found_dic[i1]=polygon.distance(point)\n",
    "                del found_dic[min(found_dic, key=found_dic.get)]\n",
    "                found=list(found_dic.keys())\n",
    "                #print('found',found)\n",
    "                #print('found_dic',found_dic)\n",
    "        for j in found:\n",
    "            dict_shape[j]=cntrs[j].shape[0]\n",
    "            for k in dict_shape:\n",
    "               #print ('deleting contour '+str(k))\n",
    "               x1=math.trunc(np.min(cntrs[k],axis=0)[0])\n",
    "               y1=math.trunc(np.min(cntrs[k],axis=0)[1])\n",
    "               x2=math.trunc(np.max(cntrs[k],axis=0)[0])\n",
    "               y2=math.trunc(np.max(cntrs[k],axis=0)[1])\n",
    "               t_im1[x1:x2+1, y1:y2+1]=0\n",
    "               plt.subplot(122),plt.imshow(t_im1,)  \n",
    "        count=count+1    \n",
    "        plt.show()"
   ]
  },
  {
   "cell_type": "code",
   "execution_count": 37,
   "metadata": {
    "scrolled": true
   },
   "outputs": [
    {
     "name": "stdout",
     "output_type": "stream",
     "text": [
      "449.0\n",
      "xy 98 88\n",
      "449.0\n",
      "count 3\n",
      "in 47...\n"
     ]
    },
    {
     "data": {
      "image/png": "[encoded data removed]",
      "text/plain": [
       "<Figure size 432x288 with 2 Axes>"
      ]
     },
     "metadata": {},
     "output_type": "display_data"
    },
    {
     "name": "stdout",
     "output_type": "stream",
     "text": [
      "count 38\n"
     ]
    },
    {
     "data": {
      "image/png": "[encoded data removed]",
      "text/plain": [
       "<Figure size 432x288 with 2 Axes>"
      ]
     },
     "metadata": {},
     "output_type": "display_data"
    },
    {
     "name": "stdout",
     "output_type": "stream",
     "text": [
      "count 41\n"
     ]
    },
    {
     "name": "stderr",
     "output_type": "stream",
     "text": [
      "/usr/local/lib/python3.5/dist-packages/matplotlib/cbook/deprecation.py:107: MatplotlibDeprecationWarning: Adding an axes using the same arguments as a previous axes currently reuses the earlier instance.  In a future version, a new instance will always be created and returned.  Meanwhile, this warning can be suppressed, and the future behavior ensured, by passing a unique label to each axes instance.\n",
      "  warnings.warn(message, mplDeprecation, stacklevel=1)\n"
     ]
    },
    {
     "data": {
      "image/png": "[encoded data removed]",
      "text/plain": [
       "<Figure size 432x288 with 2 Axes>"
      ]
     },
     "metadata": {},
     "output_type": "display_data"
    },
    {
     "name": "stdout",
     "output_type": "stream",
     "text": [
      "count 70\n"
     ]
    },
    {
     "data": {
      "image/png": "[encoded data removed]",
      "text/plain": [
       "<Figure size 432x288 with 2 Axes>"
      ]
     },
     "metadata": {},
     "output_type": "display_data"
    },
    {
     "name": "stdout",
     "output_type": "stream",
     "text": [
      "count 71\n"
     ]
    },
    {
     "data": {
      "image/png": "[encoded data removed]",
      "text/plain": [
       "<Figure size 432x288 with 2 Axes>"
      ]
     },
     "metadata": {},
     "output_type": "display_data"
    },
    {
     "name": "stdout",
     "output_type": "stream",
     "text": [
      "count 102\n"
     ]
    },
    {
     "data": {
      "image/png": "[encoded data removed]",
      "text/plain": [
       "<Figure size 432x288 with 2 Axes>"
      ]
     },
     "metadata": {},
     "output_type": "display_data"
    },
    {
     "name": "stdout",
     "output_type": "stream",
     "text": [
      "count 122\n"
     ]
    },
    {
     "data": {
      "image/png": "[encoded data removed]",
      "text/plain": [
       "<Figure size 432x288 with 2 Axes>"
      ]
     },
     "metadata": {},
     "output_type": "display_data"
    },
    {
     "name": "stdout",
     "output_type": "stream",
     "text": [
      "count 123\n"
     ]
    },
    {
     "data": {
      "image/png": "[encoded data removed]",
      "text/plain": [
       "<Figure size 432x288 with 2 Axes>"
      ]
     },
     "metadata": {},
     "output_type": "display_data"
    },
    {
     "name": "stdout",
     "output_type": "stream",
     "text": [
      "count 152\n"
     ]
    },
    {
     "data": {
      "image/png": "[encoded data removed]",
      "text/plain": [
       "<Figure size 432x288 with 2 Axes>"
      ]
     },
     "metadata": {},
     "output_type": "display_data"
    },
    {
     "name": "stdout",
     "output_type": "stream",
     "text": [
      "count 185\n"
     ]
    },
    {
     "data": {
      "image/png": "[encoded data removed]",
      "text/plain": [
       "<Figure size 432x288 with 2 Axes>"
      ]
     },
     "metadata": {},
     "output_type": "display_data"
    },
    {
     "name": "stdout",
     "output_type": "stream",
     "text": [
      "count 213\n"
     ]
    },
    {
     "data": {
      "image/png": "[encoded data removed]",
      "text/plain": [
       "<Figure size 432x288 with 2 Axes>"
      ]
     },
     "metadata": {},
     "output_type": "display_data"
    },
    {
     "name": "stdout",
     "output_type": "stream",
     "text": [
      "count 286\n"
     ]
    },
    {
     "data": {
      "image/png": "[encoded data removed]",
      "text/plain": [
       "<Figure size 432x288 with 2 Axes>"
      ]
     },
     "metadata": {},
     "output_type": "display_data"
    },
    {
     "name": "stdout",
     "output_type": "stream",
     "text": [
      "count 287\n"
     ]
    },
    {
     "data": {
      "image/png": "[encoded data removed]",
      "text/plain": [
       "<Figure size 432x288 with 2 Axes>"
      ]
     },
     "metadata": {},
     "output_type": "display_data"
    },
    {
     "name": "stdout",
     "output_type": "stream",
     "text": [
      "count 318\n"
     ]
    },
    {
     "data": {
      "image/png": "[encoded data removed]",
      "text/plain": [
       "<Figure size 432x288 with 2 Axes>"
      ]
     },
     "metadata": {},
     "output_type": "display_data"
    },
    {
     "name": "stdout",
     "output_type": "stream",
     "text": [
      "count 354\n"
     ]
    },
    {
     "data": {
      "image/png": "[encoded data removed]",
      "text/plain": [
       "<Figure size 432x288 with 2 Axes>"
      ]
     },
     "metadata": {},
     "output_type": "display_data"
    },
    {
     "name": "stdout",
     "output_type": "stream",
     "text": [
      "count 446\n"
     ]
    },
    {
     "data": {
      "image/png": "[encoded data removed]",
      "text/plain": [
       "<Figure size 432x288 with 2 Axes>"
      ]
     },
     "metadata": {},
     "output_type": "display_data"
    },
    {
     "name": "stdout",
     "output_type": "stream",
     "text": [
      "count 452\n"
     ]
    },
    {
     "data": {
      "image/png": "[encoded data removed]",
      "text/plain": [
       "<Figure size 432x288 with 2 Axes>"
      ]
     },
     "metadata": {},
     "output_type": "display_data"
    },
    {
     "name": "stdout",
     "output_type": "stream",
     "text": [
      "count 474\n"
     ]
    },
    {
     "data": {
      "image/png": "[encoded data removed]",
      "text/plain": [
       "<Figure size 432x288 with 2 Axes>"
      ]
     },
     "metadata": {},
     "output_type": "display_data"
    }
   ],
   "source": [
    "fourD_add(im)"
   ]
  },
  {
   "cell_type": "code",
   "execution_count": 292,
   "metadata": {},
   "outputs": [
    {
     "data": {
      "text/plain": [
       "<matplotlib.image.AxesImage at 0x7f0d1e8d0d68>"
      ]
     },
     "execution_count": 292,
     "metadata": {},
     "output_type": "execute_result"
    },
    {
     "data": {
      "image/png": "[encoded data removed]",
      "text/plain": [
       "<Figure size 432x288 with 1 Axes>"
      ]
     },
     "metadata": {},
     "output_type": "display_data"
    }
   ],
   "source": [
    "actual_image='/masvol/output/dsb/norm/1/3/validate/506/sax_60_IM-0256-0001.dcm.npy'\n",
    "plt.imshow(np.load(actual_image))"
   ]
  },
  {
   "cell_type": "code",
   "execution_count": 123,
   "metadata": {},
   "outputs": [
    {
     "name": "stdout",
     "output_type": "stream",
     "text": [
      "Total labels:::450\n"
     ]
    }
   ],
   "source": [
    "total_image=im.shape[0]\n",
    "print('Total labels:::'+str(total_image))\n",
    "\n",
    "#Looping through all the labels and identifying ones with more than one contour\n",
    "dict_contour_count={}\n",
    "for i in range(total_image):\n",
    "    result = im[i][:, :, 0]\n",
    "    contours = measure.find_contours(result, 0.1)\n",
    "    contours_created = skimage.measure.find_contours(result, 0.1)\n",
    "    dict_contour_count[i]=len(contours_created)"
   ]
  },
  {
   "cell_type": "code",
   "execution_count": 125,
   "metadata": {},
   "outputs": [
    {
     "name": "stdout",
     "output_type": "stream",
     "text": [
      "#of labels with more than 1 contour:::6\n"
     ]
    }
   ],
   "source": [
    "images_with_more= ([i for i in dict_contour_count if dict_contour_count[i] > 1])\n",
    "print('#of labels with more than 1 contour:::'+str(len(images_with_more)))"
   ]
  },
  {
   "cell_type": "code",
   "execution_count": 126,
   "metadata": {},
   "outputs": [
    {
     "name": "stdout",
     "output_type": "stream",
     "text": [
      "[8]\n"
     ]
    }
   ],
   "source": [
    "#trying to see if something has more than 3 contours\n",
    "print([i for i in dict_contour_count if dict_contour_count[i] > 2])"
   ]
  },
  {
   "cell_type": "code",
   "execution_count": 10,
   "metadata": {
    "scrolled": false
   },
   "outputs": [
    {
     "ename": "NameError",
     "evalue": "name 'images_with_more' is not defined",
     "output_type": "error",
     "traceback": [
      "\u001b[0;31m---------------------------------------------------------------------------\u001b[0m",
      "\u001b[0;31mNameError\u001b[0m                                 Traceback (most recent call last)",
      "\u001b[0;32m<ipython-input-10-daf7f018dbb7>\u001b[0m in \u001b[0;36m<module>\u001b[0;34m()\u001b[0m\n\u001b[1;32m      1\u001b[0m \u001b[0;31m#Verifying the images with more than 1 contour\u001b[0m\u001b[0;34m\u001b[0m\u001b[0;34m\u001b[0m\u001b[0m\n\u001b[0;32m----> 2\u001b[0;31m \u001b[0;32mfor\u001b[0m \u001b[0mi\u001b[0m \u001b[0;32min\u001b[0m \u001b[0mimages_with_more\u001b[0m\u001b[0;34m:\u001b[0m\u001b[0;34m\u001b[0m\u001b[0m\n\u001b[0m\u001b[1;32m      3\u001b[0m     \u001b[0mprint\u001b[0m\u001b[0;34m(\u001b[0m\u001b[0mi\u001b[0m\u001b[0;34m)\u001b[0m\u001b[0;34m\u001b[0m\u001b[0m\n\u001b[1;32m      4\u001b[0m     \u001b[0mresult\u001b[0m \u001b[0;34m=\u001b[0m \u001b[0mim\u001b[0m\u001b[0;34m[\u001b[0m\u001b[0mi\u001b[0m\u001b[0;34m]\u001b[0m\u001b[0;34m[\u001b[0m\u001b[0;34m:\u001b[0m\u001b[0;34m,\u001b[0m \u001b[0;34m:\u001b[0m\u001b[0;34m,\u001b[0m \u001b[0;36m0\u001b[0m\u001b[0;34m]\u001b[0m\u001b[0;34m\u001b[0m\u001b[0m\n\u001b[1;32m      5\u001b[0m     \u001b[0mpylab\u001b[0m\u001b[0;34m.\u001b[0m\u001b[0mimshow\u001b[0m\u001b[0;34m(\u001b[0m\u001b[0mresult\u001b[0m\u001b[0;34m)\u001b[0m\u001b[0;34m\u001b[0m\u001b[0m\n",
      "\u001b[0;31mNameError\u001b[0m: name 'images_with_more' is not defined"
     ]
    }
   ],
   "source": [
    "#Verifying the images with more than 1 contour\n",
    "for i in images_with_more:\n",
    "    print(i)\n",
    "    result = im[i][:, :, 0]\n",
    "    pylab.imshow(result)\n",
    "    #pylab.show()\n"
   ]
  },
  {
   "cell_type": "code",
   "execution_count": 130,
   "metadata": {},
   "outputs": [],
   "source": [
    "def clean_contours(image):\n",
    "    plt.figure(figsize=(10,10))    \n",
    "    plt.subplot(221),plt.imshow(image,)\n",
    "    plt.title('orig Image')\n",
    "    plt.subplot(222),plt.imshow(feature.canny(image))\n",
    "    plt.title('orig contour edges')\n",
    "    dict_shape={}\n",
    "    t_im1=image\n",
    "    cntrs=skimage.measure.find_contours(t_im1,0.1)\n",
    "    print('# of contours identified:::'+str(len(cntrs)))\n",
    "    for i in range(len(cntrs)):\n",
    "        print ('contour:'+str(i)+'  shape[0]:'+str(cntrs[i].shape[0]))\n",
    "        dict_shape[i]=cntrs[i].shape[0]\n",
    "    print(dict_shape)\n",
    "    del dict_shape[max(dict_shape, key=dict_shape.get)]\n",
    "    print(dict_shape)\n",
    "    for k in dict_shape:\n",
    "        print ('deleting contour '+str(k))\n",
    "        x1=math.trunc(np.min(cntrs[k],axis=0)[0])\n",
    "        y1=math.trunc(np.min(cntrs[k],axis=0)[1])\n",
    "        print(x1)\n",
    "        print(y1)\n",
    "        x2=math.trunc(np.max(cntrs[k],axis=0)[0])\n",
    "        y2=math.trunc(np.max(cntrs[k],axis=0)[1])\n",
    "        print(x2)\n",
    "        print(y2)\n",
    "        t_im1[x1:x2+1, y1:y2+1]=0\n",
    "        \n",
    "    plt.subplot(223),plt.imshow(t_im1)\n",
    "    plt.title('Fixed Image')\n",
    "    plt.subplot(224),plt.imshow(feature.canny(t_im1))\n",
    "    plt.title('Fixed contour edges')    \n",
    "        "
   ]
  },
  {
   "cell_type": "code",
   "execution_count": 18,
   "metadata": {
    "collapsed": true
   },
   "outputs": [],
   "source": [
    "def clean_contours1(image):\n",
    "    dict_shape={}\n",
    "    t_im1=image\n",
    "    cntrs=skimage.measure.find_contours(t_im1,0.1)\n",
    "    #print('# of contours identified:::'+str(len(cntrs)))\n",
    "    for i in range(len(cntrs)):\n",
    "        #print ('contour:'+str(i)+'  shape[0]:'+str(cntrs[i].shape[0]))\n",
    "        dict_shape[i]=cntrs[i].shape[0]\n",
    "    #print(dict_shape)\n",
    "    del dict_shape[max(dict_shape, key=dict_shape.get)]\n",
    "    #print(dict_shape)\n",
    "    for k in dict_shape:\n",
    "        #print ('deleting contour '+str(k))\n",
    "        x1=math.trunc(np.min(cntrs[k],axis=0)[0])\n",
    "        y1=math.trunc(np.min(cntrs[k],axis=0)[1])\n",
    "        x2=math.trunc(np.max(cntrs[k],axis=0)[0])\n",
    "        y2=math.trunc(np.max(cntrs[k],axis=0)[1])\n",
    "        t_im1[x1:x2+1, y1:y2+1]=0   "
   ]
  },
  {
   "cell_type": "code",
   "execution_count": 50,
   "metadata": {
    "collapsed": true
   },
   "outputs": [],
   "source": [
    "image_test=np.load('/masvol/output/dsb/norm/1/3/validate/540/sax_7_IM-11207-0013.dcm.npy')"
   ]
  },
  {
   "cell_type": "code",
   "execution_count": 51,
   "metadata": {},
   "outputs": [
    {
     "data": {
      "text/plain": [
       "(440, 440)"
      ]
     },
     "execution_count": 51,
     "metadata": {},
     "output_type": "execute_result"
    }
   ],
   "source": [
    "image_test.shape"
   ]
  },
  {
   "cell_type": "code",
   "execution_count": 52,
   "metadata": {},
   "outputs": [
    {
     "data": {
      "text/plain": [
       "(1, 440, 440, 1)"
      ]
     },
     "execution_count": 52,
     "metadata": {},
     "output_type": "execute_result"
    }
   ],
   "source": [
    "image_test=image_test.reshape(1,image_test.shape[0],image_test.shape[1],1)\n",
    "image_test.shape"
   ]
  },
  {
   "cell_type": "code",
   "execution_count": 10,
   "metadata": {},
   "outputs": [],
   "source": [
    "def clean_contours2(arr):\n",
    "   #print(self.test_images.shape) \n",
    "    finalArray = np.zeros((arr.shape[0], arr.shape[1], arr.shape[2],arr.shape[3]))\n",
    "    counter=-1\n",
    "    for t_im1 in arr:\n",
    "        counter=counter+1\n",
    "        t_im1 = t_im1[:, :, 0]\n",
    "        plt.subplot(121),plt.imshow(t_im1,)\n",
    "        #print(t_im1.shape)\n",
    "        dict_shape={}\n",
    "        cntrs=skimage.measure.find_contours(t_im1,0.1)\n",
    "        print('# of contours identified:::'+str(len(cntrs)))\n",
    "        if len(cntrs)>1:\n",
    "            for i in range(len(cntrs)):\n",
    "                dict_shape[i]=cntrs[i].shape[0]\n",
    "            if  len(cntrs)>0:            \n",
    "                del dict_shape[max(dict_shape, key=dict_shape.get)]\n",
    "                #print(dict_shape)\n",
    "            for k in dict_shape:\n",
    "                print ('deleting contour '+str(k))\n",
    "                x1=math.trunc(np.min(cntrs[k],axis=0)[0])\n",
    "                y1=math.trunc(np.min(cntrs[k],axis=0)[1])\n",
    "                x2=math.trunc(np.max(cntrs[k],axis=0)[0])\n",
    "                y2=math.trunc(np.max(cntrs[k],axis=0)[1])\n",
    "                t_im1[x1:x2+1, y1:y2+1]=0   \n",
    "            plt.subplot(122),plt.imshow(t_im1,)\n",
    "            #print(np.max(t_im1))    \n",
    "            t_im2=np.zeros((t_im1.shape[0],t_im1.shape[1],1))\n",
    "            t_im2[:,:,0]=t_im1\n",
    "            #print('im2',np.max(t_im2),t_im2.shape) \n",
    "            #print('counter',counter)\n",
    "            finalArray[counter]=t_im2\n",
    "            plt.show()"
   ]
  },
  {
   "cell_type": "code",
   "execution_count": null,
   "metadata": {
    "collapsed": true
   },
   "outputs": [],
   "source": [
    "    def clean_contours(arr):\n",
    "        #print(self.test_images.shape)                     \n",
    "        for t_im1  in arr:\n",
    "            t_im1 = t_im1[:, :, 0]\n",
    "            #print(t_im1.shape)\n",
    "            dict_shape={}\n",
    "            cntrs=skimage.measure.find_contours(t_im1,0.1)\n",
    "            print('# of contours identified:::'+str(len(cntrs)))\n",
    "            for i in range(len(cntrs)):\n",
    "                dict_shape[i]=cntrs[i].shape[0]\n",
    "            if  len(cntrs)>0:\n",
    "                del dict_shape[max(dict_shape, key=dict_shape.get)]\n",
    "            #print(dict_shape)\n",
    "            for k in dict_shape:\n",
    "               print ('deleting contour '+str(k))\n",
    "               x1=math.trunc(np.min(cntrs[k],axis=0)[0])\n",
    "               y1=math.trunc(np.min(cntrs[k],axis=0)[1])\n",
    "               x2=math.trunc(np.max(cntrs[k],axis=0)[0])\n",
    "               y2=math.trunc(np.max(cntrs[k],axis=0)[1])\n",
    "               t_im1[x1:x2+1, y1:y2+1]=0  "
   ]
  },
  {
   "cell_type": "code",
   "execution_count": 148,
   "metadata": {},
   "outputs": [],
   "source": [
    "def fourD_add1(arr):\n",
    "    t=arr\n",
    "    found_dic={}\n",
    "    count=0\n",
    "    #print(t.shape[0])\n",
    "    x=0\n",
    "    for i in range(t.shape[0]):\n",
    "        #print(np.max(t[i,:,:,0]))\n",
    "        x=x+t[i,:,:,0]\n",
    "    print(np.max(x))\n",
    "    tgt=np.where(x==np.max(x))\n",
    "    #print('tgt',tgt)\n",
    "    x1=max(tgt[0])\n",
    "    y1=max(tgt[1])\n",
    "    print('xy',x1,y1)\n",
    "    point = Point(x1, y1)    \n",
    "    print(x[x1,y1])\n",
    "    icount = 0\n",
    "\n",
    "    for t_im1 in arr:\n",
    "        found_dic={} \n",
    "        t_im1 = t_im1[:, :, 0]        \n",
    "        icount += 1\n",
    "        #print('count',count)\n",
    "        #print(t_im1.shape)\n",
    "        dict_shape={}\n",
    "        cntrs=skimage.measure.find_contours(t_im1,0.1)  \n",
    "        #if icount==105:\n",
    "         #   break\n",
    "        found = []\n",
    "        #print('ctrs count',len(cntrs))\n",
    "        if len(cntrs)>1:\n",
    "            #print('# of contours identified:::'+str(len(cntrs)), icount)\n",
    "            plt.subplot(121),plt.imshow(t_im1,)\n",
    "            for i in range(len(cntrs)):\n",
    "                #print(type(cntrs[i]),cntrs[i].shape)\n",
    "                #print ('cntrs',cntrs[i])\n",
    "                polygon = Polygon(cntrs[i])  \n",
    "                if polygon.contains(point):\n",
    "                    found_dic[i]=1\n",
    "                    #print('point exists')\n",
    "                    #found=list(found_dic.keys())    \n",
    "                else:\n",
    "                    found.append(i)\n",
    "                    #print('no point found')\n",
    "            if len(found_dic)==0:\n",
    "                found=[]\n",
    "                print ('No contour has the point')\n",
    "                for i1 in range(len(cntrs)):  \n",
    "                    #print (i1)\n",
    "                    found_dic[i1]=cntrs[i1].shape[0]\n",
    "                    #print('found dic',len(found_dic))\n",
    "                if  len(found_dic)>1:\n",
    "                    del found_dic[max(found_dic, key=found_dic.get)]\n",
    "                #print(dict_shape)\n",
    "                found=list(found_dic.keys())\n",
    "                #print('found',found)\n",
    "                #print('found',found)\n",
    "                #print('found_dic',found_dic)\n",
    "        count=count+1         \n",
    "        for j in found:\n",
    "            #print(j)\n",
    "            dict_shape[j]=cntrs[j].shape[0]\n",
    "            for k in dict_shape:\n",
    "               #print ('deleting contour '+str(k))\n",
    "               x1=math.trunc(np.min(cntrs[k],axis=0)[0])\n",
    "               y1=math.trunc(np.min(cntrs[k],axis=0)[1])\n",
    "               x2=math.trunc(np.max(cntrs[k],axis=0)[0])\n",
    "               y2=math.trunc(np.max(cntrs[k],axis=0)[1])\n",
    "               t_im1[x1:x2+1, y1:y2+1]=0\n",
    "               plt.subplot(122),plt.imshow(t_im1,)  \n",
    "        plt.show()\n",
    "        "
   ]
  },
  {
   "cell_type": "code",
   "execution_count": 141,
   "metadata": {},
   "outputs": [
    {
     "data": {
      "text/plain": [
       "(480, 176, 176, 1)"
      ]
     },
     "execution_count": 141,
     "metadata": {},
     "output_type": "execute_result"
    }
   ],
   "source": [
    "image='/masvol/output/dsb/norm/1/3/unet_model_validate/combined_1_3_0_176_aug_bce_predict/dsb_1_176_pred_round.npy'\n",
    "im=np.load(image)\n",
    "im.shape"
   ]
  },
  {
   "cell_type": "code",
   "execution_count": 89,
   "metadata": {},
   "outputs": [],
   "source": [
    "def fourD_add1lookback(arr):\n",
    "    t=arr\n",
    "    found_dic={}\n",
    "    #print(t.shape[0])\n",
    "    x=0\n",
    "    for i in range(t.shape[0]):\n",
    "        #print(np.max(t[i,:,:,0]))\n",
    "        x=x+t[i,:,:,0]\n",
    "    print(np.max(x))\n",
    "    tgt=np.where(x==np.max(x))\n",
    "    #print('tgt',tgt)\n",
    "    x1=max(tgt[0])\n",
    "    y1=max(tgt[1])\n",
    "    print('xy',x1,y1)\n",
    "    point = Point(x1, y1)    \n",
    "    print(x[x1,y1])\n",
    "    icount = 0\n",
    "\n",
    "    for t_im1 in arr:\n",
    "         \n",
    "        t_im1 = t_im1[:, :, 0]        \n",
    "        icount += 1\n",
    "        #print(t_im1.shape)\n",
    "        dict_shape={}\n",
    "        cntrs=skimage.measure.find_contours(t_im1,0.1)  \n",
    "        #if icount==20:\n",
    "         #   break\n",
    "        found = []\n",
    "\n",
    "\n",
    "        #print('# of contours identified:::'+str(len(cntrs)), icount)\n",
    "        plt.subplot(121),plt.imshow(t_im1,)\n",
    "        for i in range(len(cntrs)):\n",
    "            #print(type(cntrs[i]),cntrs[i].shape)\n",
    "            #print ('cntrs',cntrs[i])\n",
    "            polygon = Polygon(cntrs[i])  \n",
    "            if polygon.contains(point):\n",
    "                found_dic[i]=1\n",
    "            #found=list(found_dic.keys())    \n",
    "            else:\n",
    "                found.append(i)\n",
    "        #rint(found_dic.keys)     \n",
    "        #rint('list',found)\n",
    "        \"\"\"if len(found_dic)==0:\n",
    "            for i1 in range(len(cntrs)):  \n",
    "                found_dic[i1]=cntrs[i1].shape[0]\n",
    "                if  len(cntrs)>0:\n",
    "                    del found_dic[max(found_dic, key=found_dic.get)]\n",
    "            #print(dict_shape)\n",
    "            found=list(found_dic.keys())\n",
    "            #print('found',found)\n",
    "            #print('found_dic',found_dic)\"\"\"\n",
    "        for j in found:\n",
    "            #print(j)\n",
    "            dict_shape[j]=cntrs[j].shape[0]\n",
    "            for k in dict_shape:\n",
    "               #print ('deleting contour '+str(k))\n",
    "               x1=math.trunc(np.min(cntrs[k],axis=0)[0])\n",
    "               y1=math.trunc(np.min(cntrs[k],axis=0)[1])\n",
    "               x2=math.trunc(np.max(cntrs[k],axis=0)[0])\n",
    "               y2=math.trunc(np.max(cntrs[k],axis=0)[1])\n",
    "               t_im1[x1:x2+1, y1:y2+1]=0\n",
    "               plt.subplot(122),plt.imshow(t_im1,)  \n",
    "        plt.show()"
   ]
  },
  {
   "cell_type": "code",
   "execution_count": 4,
   "metadata": {},
   "outputs": [
    {
     "data": {
      "text/plain": [
       "(330, 176, 176, 1)"
      ]
     },
     "execution_count": 4,
     "metadata": {},
     "output_type": "execute_result"
    }
   ],
   "source": [
    "image='/masvol/output/dsb/norm/1/3/unet_model_train/combined_1_3_0_176_CLAHE_augx_bce1_crERDS2_predict/dsb_343_176_predictions.npy'\n",
    "im=np.load(image)\n",
    "im.shape"
   ]
  },
  {
   "cell_type": "code",
   "execution_count": 8,
   "metadata": {},
   "outputs": [],
   "source": [
    "pred_round_path='/masvol/output/dsb/norm/1/3/unet_model_validate/combined_1_3_0_176_CLAHE_augx_bce1_crNCR_predict/dsb_508_176_pred_round.npy'\n",
    "prediction_path='/masvol/output/dsb/norm/1/3/unet_model_validate/combined_1_3_0_176_CLAHE_augx_bce1_crNCR_predict/dsb_508_176_NCR_predictions_cleaned.npy'\n",
    "image_path='/masvol/output/dsb/norm/1/3/unet_model_validate/combined_1_3_0_176_aug_bce_predict/dsb_508_176_ts_norm.npy'\n",
    "im_clean=im"
   ]
  },
  {
   "cell_type": "code",
   "execution_count": 9,
   "metadata": {
    "scrolled": true
   },
   "outputs": [
    {
     "name": "stdout",
     "output_type": "stream",
     "text": [
      "176 176\n"
     ]
    }
   ],
   "source": [
    "ts=np.load(image_path)\n",
    "predictions=np.load(prediction_path)\n",
    "samples, x, y, z = predictions.shape\n",
    "pred_round=np.load(pred_round_path)\n",
    "print(x,y)"
   ]
  },
  {
   "cell_type": "code",
   "execution_count": null,
   "metadata": {
    "scrolled": true
   },
   "outputs": [],
   "source": [
    "l=0\n",
    "for i in range(im.shape[0]):\n",
    "    #print(image_array[i])\n",
    "    #print(ones)\n",
    "    #f, axs = plt.subplots(1,3,figsize=(15,15))\n",
    "    #plt.subplot(141),plt.imshow(ts[i].reshape(x, y))\n",
    "    #plt.title('test image {0} size:{1}'.format(image_array[i],ones))\n",
    "    #plt.xticks([]), plt.yticks([])\n",
    "    \n",
    "    #plt.subplot(142),plt.imshow(predictions[i].reshape(x, y))\n",
    "    #plt.title('prediction'), plt.xticks([]), plt.yticks([])\n",
    "    #plt.subplot(143),plt.imshow(pred_round[i].reshape(x, y))\n",
    "    #plt.subplot(154),plt.imshow(im[i].reshape(x, y))\n",
    "    #plt.title('prediction_clean'), plt.xticks([]), plt.yticks([])\n",
    "    #plt.subplot(144),plt.imshow(ts[i].reshape(x, y)), \n",
    "    #plt.imshow(predictions[i].reshape(x, y), 'binary', interpolation='none', alpha=0.3)\n",
    "    #plt.title('overlay'), plt.xticks([]), plt.yticks([])\n",
    "    #plt.show()\n",
    "    #print(l)\n",
    "    l+=1\n",
    "    "
   ]
  },
  {
   "cell_type": "code",
   "execution_count": 61,
   "metadata": {},
   "outputs": [],
   "source": [
    "def fourD_add1R(arr):\n",
    "    t=arr\n",
    "    found_dic={}\n",
    "    count=0\n",
    "    #print(t.shape[0])\n",
    "    x=0\n",
    "    for i in range(t.shape[0]):\n",
    "        #print(np.max(t[i,:,:,0]))\n",
    "        x=x+t[i,:,:,0]\n",
    "    print(np.max(x))\n",
    "    tgt=np.where(x==np.max(x))\n",
    "    #print('tgt',tgt)\n",
    "    x1=max(tgt[0])\n",
    "    y1=max(tgt[1])\n",
    "    print('xy',x1,y1)\n",
    "    point = Point(x1, y1)    \n",
    "    print(x[x1,y1])\n",
    "    icount = 0\n",
    "    n=0\n",
    "    for t_im1 in arr:\n",
    "        found_dic={} \n",
    "        t_im1 = t_im1[:, :, 0]        \n",
    "        icount += 1\n",
    "        #print('count',count)\n",
    "        #print(t_im1.shape)\n",
    "        dict_shape={}\n",
    "        cntrs=skimage.measure.find_contours(t_im1,0.1)  \n",
    "        #if icount==105:\n",
    "         #   break\n",
    "        found = []\n",
    "        #print('ctrs count',len(cntrs))\n",
    "        if len(cntrs)>1:\n",
    "            #print('# of contours identified:::'+str(len(cntrs)), icount)\n",
    "            #plt.subplot(121),plt.imshow(t_im1,)\n",
    "            try:\n",
    "\n",
    "                for i in range(len(cntrs)):\n",
    "                    #print(type(cntrs[i]),cntrs[i].shape)\n",
    "                    #print ('cntrs',cntrs[i])\n",
    "                    polygon = Polygon(cntrs[i])  \n",
    "                    if polygon.contains(point):\n",
    "                        found_dic[i]=1\n",
    "                    #found=list(found_dic.keys())    \n",
    "                    else:\n",
    "                        found.append(i)  \n",
    "                if len(found_dic)==0:\n",
    "                    n=n+1\n",
    "            except ValueError:            \n",
    "                print(len(cntrs[i]),cntrs[i]) \n",
    "        count=count+1         \n",
    "        for j in found:\n",
    "            #print(j)\n",
    "            dict_shape[j]=cntrs[j].shape[0]\n",
    "            for k in dict_shape:\n",
    "               #print ('deleting contour '+str(k))\n",
    "               x1=math.trunc(np.min(cntrs[k],axis=0)[0])\n",
    "               y1=math.trunc(np.min(cntrs[k],axis=0)[1])\n",
    "               x2=math.trunc(np.max(cntrs[k],axis=0)[0])\n",
    "               y2=math.trunc(np.max(cntrs[k],axis=0)[1])\n",
    "               t_im1[x1:x2+1, y1:y2+1]=0\n",
    "               #plt.subplot(122),plt.imshow(t_im1,)  \n",
    "        #plt.show()\n",
    "    print('n',n)"
   ]
  },
  {
   "cell_type": "code",
   "execution_count": 73,
   "metadata": {},
   "outputs": [
    {
     "data": {
      "text/plain": [
       "(270, 176, 176, 1)"
      ]
     },
     "execution_count": 73,
     "metadata": {},
     "output_type": "execute_result"
    }
   ],
   "source": [
    "image='/masvol/output/dsb/norm/1/3/unet_model_validate/combined_1_3_0_176_aug_bce_predict/dsb_508_176_pred_round.npy'\n",
    "im=np.load(image)\n",
    "im.shape"
   ]
  },
  {
   "cell_type": "code",
   "execution_count": 66,
   "metadata": {},
   "outputs": [
    {
     "data": {
      "text/plain": [
       "(330, 176, 176, 1)"
      ]
     },
     "execution_count": 66,
     "metadata": {},
     "output_type": "execute_result"
    }
   ],
   "source": [
    "image='/masvol/output/dsb/norm/1/3/unet_model_train/combined_1_3_0_176_CLAHE_augx_bce1_crERDS2_predict/dsb_343_176_predictions.npy'\n",
    "im=np.load(image)\n",
    "im.shape"
   ]
  },
  {
   "cell_type": "code",
   "execution_count": 72,
   "metadata": {
    "scrolled": false
   },
   "outputs": [
    {
     "name": "stdout",
     "output_type": "stream",
     "text": [
      "177.0\n",
      "xy 57 88\n",
      "177.0\n",
      "n 28\n"
     ]
    }
   ],
   "source": [
    "fourD_add1R(im)"
   ]
  },
  {
   "cell_type": "code",
   "execution_count": 33,
   "metadata": {},
   "outputs": [
    {
     "data": {
      "image/png": "[encoded data removed]",
      "text/plain": [
       "<Figure size 432x288 with 1 Axes>"
      ]
     },
     "metadata": {},
     "output_type": "display_data"
    }
   ],
   "source": [
    "plt.imshow(im[11,:,:,0])\n",
    "im_t=im[11,:,:,0]"
   ]
  },
  {
   "cell_type": "code",
   "execution_count": 45,
   "metadata": {
    "scrolled": false
   },
   "outputs": [
    {
     "name": "stdout",
     "output_type": "stream",
     "text": [
      "0 163 (163, 2)\n",
      "1 5 (5, 2)\n",
      "2 13 (13, 2)\n",
      "3 3 (3, 2)\n",
      "4 4 (4, 2)\n",
      "5 2 (2, 2)\n"
     ]
    }
   ],
   "source": [
    "my_ctrs=skimage.measure.find_contours(im_t,0.1) \n",
    "for i in range(len(my_ctrs)):\n",
    "    print(i, len(my_ctrs[i]),my_ctrs[i].shape)\n"
   ]
  },
  {
   "cell_type": "code",
   "execution_count": 46,
   "metadata": {},
   "outputs": [
    {
     "name": "stdout",
     "output_type": "stream",
     "text": [
      "[[174.73777732 175.        ]\n",
      " [175.         174.16103793]]\n"
     ]
    }
   ],
   "source": [
    "print(my_ctrs[5])"
   ]
  },
  {
   "cell_type": "code",
   "execution_count": 104,
   "metadata": {},
   "outputs": [],
   "source": [
    "import operator"
   ]
  },
  {
   "cell_type": "code",
   "execution_count": 199,
   "metadata": {},
   "outputs": [],
   "source": [
    "\n",
    "def remove_ctrs(arr):\n",
    "    t=arr\n",
    "    found_dic={}\n",
    "    count=0\n",
    "    #print(t.shape[0])\n",
    "    x=0\n",
    "    for i in range(t.shape[0]):\n",
    "        #print(np.max(t[i,:,:,0]))\n",
    "        x=x+t[i,:,:,0]\n",
    "    print(np.max(x))\n",
    "    tgt=np.where(x==np.max(x))\n",
    "    #print('tgt',tgt)\n",
    "    x1=max(tgt[0])\n",
    "    y1=max(tgt[1])\n",
    "    print('xy',x1,y1)\n",
    "    point = Point(x1, y1)    \n",
    "    print(x[x1,y1])\n",
    "    icount = 0\n",
    "    n=0\n",
    "    for t_im1 in arr:\n",
    "        found_dic={} \n",
    "        t_im1 = t_im1[:, :, 0]        \n",
    "        icount += 1\n",
    "        #print('count',count)\n",
    "        #print(t_im1.shape)\n",
    "        dict_shape={}\n",
    "        remove_dict={}\n",
    "        sorted_keys=[]\n",
    "        fill_found=[]\n",
    "        cntrs=skimage.measure.find_contours(t_im1,0.1)  \n",
    "        for i in range(len(cntrs)):\n",
    "            #print ('contour:'+str(i)+'  shape[0]:'+str(cntrs[i].shape[0]))\n",
    "            dict_shape[i]=cntrs[i].shape[0]  \n",
    "        sorted_keys = sorted(dict_shape, key=dict_shape.get,reverse=True) \n",
    "\n",
    "        print('dict_shape',dict_shape)\n",
    "        print('sorted_keys',sorted_keys)\n",
    "        #if icount==15:\n",
    "            #break\n",
    "        found = []\n",
    "        in_loop=0\n",
    "        #print('ctrs count',len(cntrs))\n",
    "        if len(cntrs)>1:\n",
    "            #print('# of contours identified:::'+str(len(cntrs)), icount)\n",
    "            plt.subplot(121),plt.imshow(t_im1,)\n",
    "            try:\n",
    "\n",
    "                for i in sorted_keys:\n",
    "                    #print(type(cntrs[i]),cntrs[i].shape)\n",
    "                    #print ('cntrs',cntrs[i])\n",
    "                    in_loop+=1\n",
    "                    if len(found_dic)==0:\n",
    "                        polygon = Polygon(cntrs[i])  \n",
    "                        if polygon.contains(point):\n",
    "                            found_dic[i]=1\n",
    "                            for j in range(in_loop,len(sorted_keys)):\n",
    "                                polygon1 = Polygon(cntrs[sorted_keys[j]]) \n",
    "                                if polygon.contains(polygon1):\n",
    "                                    print('Yes the polygon contains sub polygon')\n",
    "                                    fill_found.append(sorted_keys[j])\n",
    "                                else:\n",
    "                                    found.append(sorted_keys[j])\n",
    "                            print('Found after polygon contain',found)        \n",
    "                        #found=list(found_dic.keys())   \n",
    "\n",
    "                        else:\n",
    "                            found.append(i)  \n",
    "                            print('Since polygon did not contain, found is ',found)\n",
    "                    else:\n",
    "                        continue \n",
    "                        print('since already found a contour, found is', found)\n",
    "            except ValueError:            \n",
    "                print(len(cntrs[i]),cntrs[i]) \n",
    "        count=count+1    \n",
    "        print('found',found)\n",
    "        remove_dict={}\n",
    "\n",
    "        for k in fill_found:\n",
    "            print(k)\n",
    "            print ('filling contour '+str(k))\n",
    "            x1=math.trunc(np.min(cntrs[k],axis=0)[0])\n",
    "            y1=math.trunc(np.min(cntrs[k],axis=0)[1])\n",
    "            x2=math.trunc(np.max(cntrs[k],axis=0)[0])\n",
    "            y2=math.trunc(np.max(cntrs[k],axis=0)[1])\n",
    "            t_im1[x1:x2+1, y1:y2+1]=1   \n",
    "        for k in found:\n",
    "            print(k)\n",
    "            print ('deleting contour '+str(k))\n",
    "            x1=math.trunc(np.min(cntrs[k],axis=0)[0])\n",
    "            y1=math.trunc(np.min(cntrs[k],axis=0)[1])\n",
    "            x2=math.trunc(np.max(cntrs[k],axis=0)[0])\n",
    "            y2=math.trunc(np.max(cntrs[k],axis=0)[1])\n",
    "            t_im1[x1:x2+1, y1:y2+1]=0\n",
    "        \n",
    "        plt.subplot(122),plt.imshow(t_im1,)  \n",
    "        plt.show()\n",
    "    print('n',n)"
   ]
  },
  {
   "cell_type": "code",
   "execution_count": 200,
   "metadata": {},
   "outputs": [
    {
     "data": {
      "text/plain": [
       "(270, 176, 176, 1)"
      ]
     },
     "execution_count": 200,
     "metadata": {},
     "output_type": "execute_result"
    }
   ],
   "source": [
    "image='/masvol/output/dsb/norm/1/3/unet_model_validate/combined_1_3_0_176_aug_bce_predict/dsb_508_176_pred_round.npy'\n",
    "im=np.load(image)\n",
    "im.shape"
   ]
  },
  {
   "cell_type": "code",
   "execution_count": 205,
   "metadata": {},
   "outputs": [],
   "source": [
    "def remove_ctrsAll(arr):\n",
    "    t=arr\n",
    "    found_dic={}\n",
    "    count=0\n",
    "    #print(t.shape[0])\n",
    "    x=0\n",
    "    for i in range(t.shape[0]):\n",
    "        #print(np.max(t[i,:,:,0]))\n",
    "        x=x+t[i,:,:,0]\n",
    "    print(np.max(x))\n",
    "    tgt=np.where(x==np.max(x))\n",
    "    #print('tgt',tgt)\n",
    "    x1=max(tgt[0])\n",
    "    y1=max(tgt[1])\n",
    "    print('xy',x1,y1)\n",
    "    point = Point(x1, y1)    \n",
    "    print(x[x1,y1])\n",
    "    icount = 0\n",
    "    n=0\n",
    "    for t_im1 in arr:\n",
    "        found_dic={} \n",
    "        t_im1 = t_im1[:, :, 0]        \n",
    "        icount += 1\n",
    "        #print('count',count)\n",
    "        #print(t_im1.shape)\n",
    "        dict_shape={}\n",
    "        remove_dict={}\n",
    "        sorted_keys=[]\n",
    "        fill_found=[]\n",
    "        cntrs=skimage.measure.find_contours(t_im1,0.1)  \n",
    "        for i in range(len(cntrs)):\n",
    "            #print ('contour:'+str(i)+'  shape[0]:'+str(cntrs[i].shape[0]))\n",
    "            dict_shape[i]=cntrs[i].shape[0]  \n",
    "        sorted_keys = sorted(dict_shape, key=dict_shape.get,reverse=True) \n",
    "\n",
    "        #print('dict_shape',dict_shape)\n",
    "        #print('sorted_keys',sorted_keys)\n",
    "        #if icount==15:\n",
    "            #break\n",
    "        found = []\n",
    "        in_loop=0\n",
    "        #print('ctrs count',len(cntrs))\n",
    "        #if len(cntrs)>1:\n",
    "            #print('# of contours identified:::'+str(len(cntrs)), icount)\n",
    "        #plt.subplot(121),plt.imshow(t_im1,)\n",
    "        try:\n",
    "\n",
    "            for i in sorted_keys:\n",
    "                #print(type(cntrs[i]),cntrs[i].shape)\n",
    "                #print ('cntrs',cntrs[i])\n",
    "                in_loop+=1\n",
    "                if len(found_dic)==0:\n",
    "                    polygon = Polygon(cntrs[i])  \n",
    "                    if polygon.contains(point):\n",
    "                        found_dic[i]=1\n",
    "                        for j in range(in_loop,len(sorted_keys)):\n",
    "                            polygon1 = Polygon(cntrs[sorted_keys[j]]) \n",
    "                            if polygon.contains(polygon1):\n",
    "                                print('Yes the polygon contains sub polygon')\n",
    "                                fill_found.append(sorted_keys[j])\n",
    "                            else:\n",
    "                                found.append(sorted_keys[j])\n",
    "                        print('Found after polygon contain',found)        \n",
    "                    #found=list(found_dic.keys())   \n",
    "\n",
    "                    else:\n",
    "                        found.append(i)  \n",
    "                        print('Since polygon did not contain, found is ',found)\n",
    "                else:\n",
    "                    continue \n",
    "                    print('since already found a contour, found is', found)\n",
    "        except ValueError:            \n",
    "            print(len(cntrs[i]),cntrs[i]) \n",
    "        count=count+1    \n",
    "        print('found',found)\n",
    "        remove_dict={}\n",
    "\n",
    "        for k in fill_found:\n",
    "            print(k)\n",
    "            print ('filling contour '+str(k))\n",
    "            x1=math.trunc(np.min(cntrs[k],axis=0)[0])\n",
    "            y1=math.trunc(np.min(cntrs[k],axis=0)[1])\n",
    "            x2=math.trunc(np.max(cntrs[k],axis=0)[0])\n",
    "            y2=math.trunc(np.max(cntrs[k],axis=0)[1])\n",
    "            t_im1[x1:x2+1, y1:y2+1]=1   \n",
    "        for k in found:\n",
    "            print(k)\n",
    "            print ('deleting contour '+str(k))\n",
    "            x1=math.trunc(np.min(cntrs[k],axis=0)[0])\n",
    "            y1=math.trunc(np.min(cntrs[k],axis=0)[1])\n",
    "            x2=math.trunc(np.max(cntrs[k],axis=0)[0])\n",
    "            y2=math.trunc(np.max(cntrs[k],axis=0)[1])\n",
    "            t_im1[x1:x2+1, y1:y2+1]=0\n",
    "        \n",
    "        plt.subplot(122),plt.imshow(t_im1,)  \n",
    "        #plt.show()\n",
    "    #print('n',n)"
   ]
  },
  {
   "cell_type": "code",
   "execution_count": 211,
   "metadata": {},
   "outputs": [
    {
     "data": {
      "text/plain": [
       "(450, 176, 176, 1)"
      ]
     },
     "execution_count": 211,
     "metadata": {},
     "output_type": "execute_result"
    }
   ],
   "source": [
    "image='/masvol/output/dsb/norm/1/3/unet_model_validate/combined_1_3_0_176_aug_bce_predict/dsb_506_176_pred_round.npy'\n",
    "im=np.load(image)\n",
    "im.shape"
   ]
  },
  {
   "cell_type": "code",
   "execution_count": null,
   "metadata": {},
   "outputs": [],
   "source": []
  }
 ],
 "metadata": {
  "anaconda-cloud": {},
  "kernelspec": {
   "display_name": "Python 3",
   "language": "python",
   "name": "python3"
  },
  "language_info": {
   "codemirror_mode": {
    "name": "ipython",
    "version": 3
   },
   "file_extension": ".py",
   "mimetype": "text/x-python",
   "name": "python",
   "nbconvert_exporter": "python",
   "pygments_lexer": "ipython3",
   "version": "3.5.2"
  }
 },
 "nbformat": 4,
 "nbformat_minor": 1
}
