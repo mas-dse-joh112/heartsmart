{
 "cells": [
  {
   "cell_type": "code",
   "execution_count": 4,
   "metadata": {
    "collapsed": true
   },
   "outputs": [],
   "source": [
    "#The notebook verifies if all the nifti images are oriented \n",
    "#at the same angle to make sure no further preprocessing image orientation is needed\n",
    "import nibabel as nib\n",
    "import os\n",
    "import matplotlib.pyplot as plt\n",
    "%matplotlib inline\n",
    "import pandas as pd"
   ]
  },
  {
   "cell_type": "code",
   "execution_count": 5,
   "metadata": {
    "collapsed": true
   },
   "outputs": [],
   "source": [
    "dir_path='..PATH...' #path to original patient labels\n",
    "patients = os.listdir(dir_path)\n",
    "dic_patient={}\n",
    "for s in patients:\n",
    "    label_dir=dir_path+s+'/labels/'\n",
    "    image_name=label_dir+os.listdir(label_dir)[0]\n",
    "    image=nib.load(image_name)\n",
    "    \"\"\"print(str(image.header.get('quatern_b').item(0))+'  '+\n",
    "                    str(image.header.get('quatern_c').item(0))+'  '+str(image.header.get('quatern_d').item(0)))\"\"\"\n",
    "    dic_patient[s]=[image.header.get('quatern_b').item(0),\n",
    "                    image.header.get('quatern_c').item(0),\n",
    "                    image.header.get('quatern_d').item(0)]"
   ]
  },
  {
   "cell_type": "code",
   "execution_count": 46,
   "metadata": {
    "collapsed": true
   },
   "outputs": [],
   "source": [
    "df=pd.concat({k: pd.Series(v) for k, v in dic_patient.items()}, axis=1)"
   ]
  },
  {
   "cell_type": "code",
   "execution_count": 47,
   "metadata": {
    "collapsed": true
   },
   "outputs": [],
   "source": [
    "tdf=df.transpose()"
   ]
  },
  {
   "cell_type": "code",
   "execution_count": 48,
   "metadata": {
    "collapsed": true
   },
   "outputs": [],
   "source": [
    "tdf.columns=['quatern_b','quatern_c','quatern_d']"
   ]
  },
  {
   "cell_type": "code",
   "execution_count": 49,
   "metadata": {
    "collapsed": true
   },
   "outputs": [],
   "source": [
    "tdf['quatern_a'] = tdf.apply(lambda row: 1-(row.quatern_b + row.quatern_c +row.quatern_d) , axis=1)"
   ]
  },
  {
   "cell_type": "code",
   "execution_count": 51,
   "metadata": {
    "collapsed": true
   },
   "outputs": [],
   "source": [
    "tdf['p']=tdf.apply(lambda row: row.quatern_a*row.quatern_a + \n",
    "                   row.quatern_b*row.quatern_b -\n",
    "                   row.quatern_c*row.quatern_c-\n",
    "                   row.quatern_d*row.quatern_d , axis=1)\n",
    "tdf['q']=tdf.apply(lambda row: row.quatern_a*row.quatern_a + \n",
    "                   row.quatern_c*row.quatern_c -\n",
    "                   row.quatern_b*row.quatern_b-\n",
    "                   row.quatern_d*row.quatern_d , axis=1)\n",
    "tdf['r']=tdf.apply(lambda row: row.quatern_a*row.quatern_a + \n",
    "                   row.quatern_d*row.quatern_d -\n",
    "                   row.quatern_c*row.quatern_c-\n",
    "                   row.quatern_b*row.quatern_b , axis=1)"
   ]
  },
  {
   "cell_type": "code",
   "execution_count": 58,
   "metadata": {},
   "outputs": [
    {
     "data": {
      "text/plain": [
       "quatern_b    65\n",
       "quatern_c    65\n",
       "quatern_d    65\n",
       "quatern_a    65\n",
       "p            65\n",
       "q            65\n",
       "r            65\n",
       "dtype: int64"
      ]
     },
     "execution_count": 58,
     "metadata": {},
     "output_type": "execute_result"
    }
   ],
   "source": [
    "tdf[tdf['quatern_d']>0].count()"
   ]
  },
  {
   "cell_type": "code",
   "execution_count": 59,
   "metadata": {},
   "outputs": [
    {
     "data": {
      "text/plain": [
       "quatern_b    35\n",
       "quatern_c    35\n",
       "quatern_d    35\n",
       "quatern_a    35\n",
       "p            35\n",
       "q            35\n",
       "r            35\n",
       "dtype: int64"
      ]
     },
     "execution_count": 59,
     "metadata": {},
     "output_type": "execute_result"
    }
   ],
   "source": [
    "tdf[tdf['quatern_c']>0].count()"
   ]
  }
 ],
 "metadata": {
  "kernelspec": {
   "display_name": "Python 3",
   "language": "python",
   "name": "python3"
  },
  "language_info": {
   "codemirror_mode": {
    "name": "ipython",
    "version": 3
   },
   "file_extension": ".py",
   "mimetype": "text/x-python",
   "name": "python",
   "nbconvert_exporter": "python",
   "pygments_lexer": "ipython3",
   "version": "3.5.2"
  }
 },
 "nbformat": 4,
 "nbformat_minor": 2
}
