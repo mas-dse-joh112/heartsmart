{
 "cells": [
  {
   "cell_type": "markdown",
   "metadata": {},
   "source": [
    "### Convert the 4D image array and 3d label array into 2D arrays and arrange them in folders at patient level"
   ]
  },
  {
   "cell_type": "code",
   "execution_count": 3,
   "metadata": {},
   "outputs": [
    {
     "name": "stderr",
     "output_type": "stream",
     "text": [
      "/usr/local/lib/python3.5/dist-packages/dicom/__init__.py:53: UserWarning: \n",
      "This code is using an older version of pydicom, which is no longer \n",
      "maintained as of Jan 2017.  You can access the new pydicom features and API \n",
      "by installing `pydicom` from PyPI.\n",
      "See 'Transitioning to pydicom 1.x' section at pydicom.readthedocs.org \n",
      "for more information.\n",
      "\n",
      "  warnings.warn(msg)\n",
      "/usr/local/lib/python3.5/dist-packages/h5py/__init__.py:36: FutureWarning: Conversion of the second argument of issubdtype from `float` to `np.floating` is deprecated. In future, it will be treated as `np.float64 == np.dtype(float).type`.\n",
      "  from ._conv import register_converters as _register_converters\n"
     ]
    }
   ],
   "source": [
    "import os\n",
    "import nibabel as nib\n",
    "import matplotlib.pyplot as plt\n",
    "%matplotlib inline"
   ]
  },
  {
   "cell_type": "code",
   "execution_count": 10,
   "metadata": {},
   "outputs": [],
   "source": [
    "nii_data_path = \"/masvol\"#PATH\n",
    "dicom_output_path = \"/masvol\"#Path\n",
    "patients = os.listdir(nii_data_path)"
   ]
  },
  {
   "cell_type": "code",
   "execution_count": 8,
   "metadata": {},
   "outputs": [
    {
     "ename": "FileNotFoundError",
     "evalue": "[Errno 2] No such file or directory: ''",
     "output_type": "error",
     "traceback": [
      "\u001b[0;31m---------------------------------------------------------------------------\u001b[0m",
      "\u001b[0;31mFileNotFoundError\u001b[0m                         Traceback (most recent call last)",
      "\u001b[0;32m<ipython-input-8-d1260f5ef639>\u001b[0m in \u001b[0;36m<module>\u001b[0;34m()\u001b[0m\n\u001b[0;32m----> 1\u001b[0;31m \u001b[0mpatients\u001b[0m \u001b[0;34m=\u001b[0m \u001b[0mos\u001b[0m\u001b[0;34m.\u001b[0m\u001b[0mlistdir\u001b[0m\u001b[0;34m(\u001b[0m\u001b[0mnii_data_path\u001b[0m\u001b[0;34m)\u001b[0m\u001b[0;34m\u001b[0m\u001b[0m\n\u001b[0m\u001b[1;32m      2\u001b[0m \u001b[0;32mfor\u001b[0m \u001b[0ms\u001b[0m \u001b[0;32min\u001b[0m \u001b[0mpatients\u001b[0m\u001b[0;34m:\u001b[0m\u001b[0;34m\u001b[0m\u001b[0m\n\u001b[1;32m      3\u001b[0m     \u001b[0msliceCount\u001b[0m\u001b[0;34m=\u001b[0m\u001b[0;36m0\u001b[0m\u001b[0;34m\u001b[0m\u001b[0m\n\u001b[1;32m      4\u001b[0m     \u001b[0mframeCount\u001b[0m\u001b[0;34m=\u001b[0m\u001b[0;36m0\u001b[0m\u001b[0;34m\u001b[0m\u001b[0m\n\u001b[1;32m      5\u001b[0m     \u001b[0mNiftyImg\u001b[0m \u001b[0;34m=\u001b[0m \u001b[0mnib\u001b[0m\u001b[0;34m.\u001b[0m\u001b[0mload\u001b[0m\u001b[0;34m(\u001b[0m\u001b[0mnii_data_path\u001b[0m \u001b[0;34m+\u001b[0m \u001b[0ms\u001b[0m\u001b[0;34m+\u001b[0m\u001b[0;34m'/'\u001b[0m \u001b[0;34m+\u001b[0m \u001b[0ms\u001b[0m\u001b[0;34m+\u001b[0m\u001b[0;34m'_4d.nii.gz'\u001b[0m\u001b[0;34m)\u001b[0m\u001b[0;34m\u001b[0m\u001b[0m\n",
      "\u001b[0;31mFileNotFoundError\u001b[0m: [Errno 2] No such file or directory: ''"
     ]
    }
   ],
   "source": [
    "for s in patients:\n",
    "    sliceCount=0\n",
    "    frameCount=0\n",
    "    NiftyImg = nib.load(nii_data_path + s+'/' + s+'_4d.nii.gz')  \n",
    "    #print(NiftyImg.header) \n",
    "    first_dir=\"\"\"..PATH..\"\"\"+str(s)\n",
    "    if not os.path.exists(first_dir):\n",
    "        os.makedirs(first_dir)\n",
    "    for slice in range(0,NiftyImg.shape[2]):\n",
    "        sliceCount=slice+1\n",
    "        out_dir=first_dir+\"/\"+str(s)+'_slice'+str(sliceCount)\n",
    "        if not os.path.exists(out_dir):\n",
    "            os.makedirs(out_dir)\n",
    "        for frame in range(0,NiftyImg.shape[3]):\n",
    "            frameCount=frame+1\n",
    "            img_name=s+'_slice'+str(sliceCount)+'_frame'+str(frameCount)+'.nii'\n",
    "            #print(img_name)\n",
    "            matrix=NiftyImg.get_data()[:,:,slice,frame]\n",
    "            #print(matrix.shape)\n",
    "            new_img = nib.Nifti1Image(matrix, NiftyImg.affine, NiftyImg.header)\n",
    "            #print(type(new_img))    \n",
    "            nib.save(new_img, out_dir+'/'+str(img_name))    "
   ]
  },
  {
   "cell_type": "code",
   "execution_count": 28,
   "metadata": {
    "collapsed": true
   },
   "outputs": [],
   "source": [
    "# Making 3D nifti\n",
    "NiftyImg3d = nib.load(\"acdc_dicom/training/patient002/patient002_4d.nii.gz\")  \n",
    "out_dir='acdc_dicom/NIFTI_3D/'\n",
    "for slice in range(0,NiftyImg3d.shape[2]):\n",
    "    matrix=NiftyImg3d.get_data()[:,:,slice,:]\n",
    "    img_name=s+'patient002'+str(slice+1)+'.nii.gz'\n",
    "    new_img = nib.Nifti1Image(matrix, NiftyImg3d.affine, NiftyImg3d.header)\n",
    "            #print(type(new_img))    \n",
    "    nib.save(new_img, out_dir+'/'+str(img_name))    "
   ]
  },
  {
   "cell_type": "code",
   "execution_count": null,
   "metadata": {
    "collapsed": true
   },
   "outputs": [],
   "source": [
    "label='../acdc_dicom/TestDataDicom/patient001/labels/"
   ]
  }
 ],
 "metadata": {
  "kernelspec": {
   "display_name": "Python 3",
   "language": "python",
   "name": "python3"
  },
  "language_info": {
   "codemirror_mode": {
    "name": "ipython",
    "version": 3
   },
   "file_extension": ".py",
   "mimetype": "text/x-python",
   "name": "python",
   "nbconvert_exporter": "python",
   "pygments_lexer": "ipython3",
   "version": "3.5.2"
  }
 },
 "nbformat": 4,
 "nbformat_minor": 2
}
