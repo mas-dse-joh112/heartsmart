{
 "cells": [
  {
   "cell_type": "code",
   "execution_count": 2,
   "metadata": {},
   "outputs": [],
   "source": [
    "import dicom\n",
    "import os\n",
    "import numpy as np\n",
    "import glob\n",
    "import cv2\n",
    "%matplotlib inline\n",
    "import matplotlib.pyplot as py\n",
    "import SimpleITK as sitk\n",
    "from PIL import Image\n",
    "from scipy.misc import imrotate"
   ]
  },
  {
   "cell_type": "code",
   "execution_count": 3,
   "metadata": {
    "collapsed": true
   },
   "outputs": [],
   "source": [
    "def getAlignImg(t,label = None):#!!!notice, only take uint8 type for the imrotate function!!!\n",
    "    f = lambda x:np.asarray([float(a) for a in x]);\n",
    "    o = f(t.ImageOrientationPatient);\n",
    "    o1 = o[:3];\n",
    "    o2 = o[3:];\n",
    "    oh = np.cross(o1,o2);\n",
    "    or1 = np.asarray([0.6,0.6,-0.2]);\n",
    "    o2new = np.cross(oh,or1);\n",
    "    theta = np.arccos(np.dot(o2,o2new)/np.sqrt(np.sum(o2**2)*np.sum(o2new**2)))*180/3.1416;\n",
    "    theta = theta * np.sign(np.dot(oh,np.cross(o2,o2new)));\n",
    "    im_max = np.percentile(t.pixel_array.flatten(),99);\n",
    "    res = imrotate(np.array(np.clip(np.array(t.pixel_array,dtype=np.float)/im_max*256,0,255),dtype=np.uint8),90);\n",
    "    if label is None:\n",
    "        return res;\n",
    "    else:\n",
    "        lab = imrotate(label,theta);\n",
    "        return res,lab"
   ]
  },
  {
   "cell_type": "code",
   "execution_count": 4,
   "metadata": {
    "collapsed": true
   },
   "outputs": [],
   "source": [
    "def Orientation_M1 (img):\n",
    "    if img.InPlanePhaseEncodingDirection=='COL':\n",
    "        img_new=cv2.transpose(img.pixel_array)\n",
    "        #py.imshow(img_new)\n",
    "        img_new = cv2.flip(img_new, 0)\n",
    "        return img_new\n",
    "    else:\n",
    "        #print 'Row Oriented'\n",
    "        return img.pixel_array"
   ]
  },
  {
   "cell_type": "code",
   "execution_count": 5,
   "metadata": {
    "collapsed": true
   },
   "outputs": [],
   "source": [
    "def get_NewOrientation(img_array):\n",
    "    y, x = np.nonzero(img_array)\n",
    "    x = x - np.mean(x)\n",
    "    y = y - np.mean(y)\n",
    "    coords = np.vstack([x, y])\n",
    "    cov = np.cov(coords)\n",
    "    evals, evecs = np.linalg.eig(cov)\n",
    "    sort_indices = np.argsort(evals)[::-1]\n",
    "    x_v1, y_v1 = evecs[:, sort_indices[0]]  # Eigenvector with largest eigenvalue\n",
    "    x_v2, y_v2 = evecs[:, sort_indices[1]]\n",
    "    return (x_v1,y_v1), (x_v2,y_v2)"
   ]
  },
  {
   "cell_type": "code",
   "execution_count": 6,
   "metadata": {
    "collapsed": true
   },
   "outputs": [],
   "source": [
    "Kaggle_train = \"/Users/laurawilke/Documents/DSE/lwilke/Capstone/Data/Sample data ( kaggle)/*/study/*/*\"\n",
    "#Get all the file names for the Kaggle Images\n",
    "lstFilesKaggle_train=glob.glob(Kaggle_train)\n",
    "#Get a list of all the paths for the sax images\n",
    "lstFilesKaggle_train_sax = [s for s in lstFilesKaggle_train if \"sax\" in s]"
   ]
  },
  {
   "cell_type": "code",
   "execution_count": 7,
   "metadata": {
    "collapsed": true
   },
   "outputs": [],
   "source": [
    "img={}\n",
    "get_align_img=[]\n",
    "M1=[]\n",
    "\n",
    "for i in range(37):\n",
    "    rand=np.random.randint(0,len(lstFilesKaggle_train_sax))\n",
    "    tmp_img=dicom.read_file(lstFilesKaggle_train_sax[rand])\n",
    "    img[lstFilesKaggle_train_sax[rand]]=tmp_img\n",
    "    align=getAlignImg(tmp_img,label=None)\n",
    "    get_align_img.append(align)\n",
    "    orient=Orientation_M1(tmp_img)\n",
    "    M1.append(orient)"
   ]
  },
  {
   "cell_type": "code",
   "execution_count": 8,
   "metadata": {
    "collapsed": true
   },
   "outputs": [],
   "source": [
    "keys=img.keys()"
   ]
  },
  {
   "cell_type": "code",
   "execution_count": 9,
   "metadata": {},
   "outputs": [
    {
     "name": "stdout",
     "output_type": "stream",
     "text": [
      "((0.99788836658886149, -0.064952350431789985), (0.064952350431789985, 0.99788836658886149))\n",
      "((0.92216577258129706, -0.38679489122730087), (0.38679489122730087, 0.92216577258129706))\n",
      "((-0.1582852483914631, -0.98739342723235324), (-0.98739342723235324, 0.1582852483914631))\n"
     ]
    }
   ],
   "source": [
    "original=get_NewOrientation(img[keys[0]].pixel_array)\n",
    "get_align_or=get_NewOrientation(get_align_img[0])\n",
    "M1_or=get_NewOrientation(M1[0])\n",
    "print original\n",
    "print get_align_or\n",
    "print M1_or"
   ]
  },
  {
   "cell_type": "code",
   "execution_count": 10,
   "metadata": {},
   "outputs": [
    {
     "name": "stdout",
     "output_type": "stream",
     "text": [
      "((-0.15487426265498236, -0.98793418949192957), (-0.98793418949192957, 0.15487426265498236))\n",
      "((0.92165225897705005, -0.38801689850121301), (0.38801689850121301, 0.92165225897705005))\n",
      "((-0.15762786186331748, -0.98749858590501227), (-0.98749858590501227, 0.15762786186331748))\n"
     ]
    }
   ],
   "source": [
    "original=get_NewOrientation(img[keys[2]].pixel_array)\n",
    "get_align_or=get_NewOrientation(get_align_img[2])\n",
    "M1_or=get_NewOrientation(M1[2])\n",
    "print original\n",
    "print get_align_or\n",
    "print M1_or"
   ]
  },
  {
   "cell_type": "code",
   "execution_count": 11,
   "metadata": {},
   "outputs": [
    {
     "name": "stdout",
     "output_type": "stream",
     "text": [
      "((-0.014241238295045606, -0.99989858842375812), (-0.99989858842375812, 0.014241238295045606))\n",
      "((-0.35812400593319177, -0.93367403111276648), (-0.93367403111276648, 0.35812400593319177))\n",
      "((-0.087045324544114386, -0.99620435226664694), (-0.99620435226664694, 0.087045324544114386))\n"
     ]
    }
   ],
   "source": [
    "original=get_NewOrientation(img[keys[15]].pixel_array)\n",
    "get_align_or=get_NewOrientation(get_align_img[15])\n",
    "M1_or=get_NewOrientation(M1[15])\n",
    "print original\n",
    "print get_align_or\n",
    "print M1_or"
   ]
  },
  {
   "cell_type": "code",
   "execution_count": 12,
   "metadata": {},
   "outputs": [
    {
     "name": "stdout",
     "output_type": "stream",
     "text": [
      "((-0.1582852483914631, -0.98739342723235324), (-0.98739342723235324, 0.1582852483914631))\n",
      "((0.91185805306035739, -0.41050565290745317), (0.41050565290745317, 0.91185805306035739))\n",
      "((-0.20388285752061081, -0.97899529131106167), (-0.97899529131106167, 0.20388285752061081))\n"
     ]
    }
   ],
   "source": [
    "original=get_NewOrientation(img[keys[30]].pixel_array)\n",
    "get_align_or=get_NewOrientation(get_align_img[30])\n",
    "M1_or=get_NewOrientation(M1[30])\n",
    "print original\n",
    "print get_align_or\n",
    "print M1_or"
   ]
  },
  {
   "cell_type": "code",
   "execution_count": null,
   "metadata": {
    "collapsed": true
   },
   "outputs": [],
   "source": []
  }
 ],
 "metadata": {
  "kernelspec": {
   "display_name": "Python 2",
   "language": "python",
   "name": "python2"
  },
  "language_info": {
   "codemirror_mode": {
    "name": "ipython",
    "version": 2
   },
   "file_extension": ".py",
   "mimetype": "text/x-python",
   "name": "python",
   "nbconvert_exporter": "python",
   "pygments_lexer": "ipython2",
   "version": "2.7.14"
  },
  "latex_envs": {
   "LaTeX_envs_menu_present": true,
   "autocomplete": true,
   "bibliofile": "biblio.bib",
   "cite_by": "apalike",
   "current_citInitial": 1,
   "eqLabelWithNumbers": true,
   "eqNumInitial": 1,
   "hotkeys": {
    "equation": "Ctrl-E",
    "itemize": "Ctrl-I"
   },
   "labels_anchors": false,
   "latex_user_defs": false,
   "report_style_numbering": false,
   "user_envs_cfg": false
  }
 },
 "nbformat": 4,
 "nbformat_minor": 2
}
