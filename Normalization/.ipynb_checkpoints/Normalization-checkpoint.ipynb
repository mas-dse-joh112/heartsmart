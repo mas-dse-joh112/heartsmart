{
 "cells": [
  {
   "cell_type": "code",
   "execution_count": 1,
   "metadata": {
    "collapsed": true
   },
   "outputs": [],
   "source": [
    "import dicom\n",
    "import os\n",
    "import numpy as np\n",
    "import glob\n",
    "import cv2\n",
    "%matplotlib inline\n",
    "import matplotlib.pyplot as py\n",
    "import SimpleITK as sitk\n",
    "from PIL import Image\n",
    "from scipy.misc import imrotate"
   ]
  },
  {
   "cell_type": "code",
   "execution_count": 2,
   "metadata": {
    "collapsed": true
   },
   "outputs": [],
   "source": [
    "#Put Data Paths"
   ]
  },
  {
   "cell_type": "markdown",
   "metadata": {},
   "source": [
    "Function to get the eigen vector for the image orientation"
   ]
  },
  {
   "cell_type": "code",
   "execution_count": 6,
   "metadata": {
    "collapsed": true
   },
   "outputs": [],
   "source": [
    "#Get Eigen Vectors and Values for 2D Image\n",
    "def get_NewOrientation(img_array):\n",
    "    y, x = np.nonzero(img_array)\n",
    "    x = x - np.mean(x)\n",
    "    y = y - np.mean(y)\n",
    "    coords = np.vstack([x, y])\n",
    "    cov = np.cov(coords)\n",
    "    evals, evecs = np.linalg.eig(cov)\n",
    "    sort_indices = np.argsort(evals)[::-1]\n",
    "    x_v1, y_v1 = evecs[:, sort_indices[0]]  # Eigenvector with largest eigenvalue\n",
    "    x_v2, y_v2 = evecs[:, sort_indices[1]]\n",
    "    return (x_v1,y_v1), (x_v2,y_v2)"
   ]
  },
  {
   "cell_type": "markdown",
   "metadata": {},
   "source": [
    "Method 1: First perfor Orientation_M1. Then do get_NewOrientation and store the output to get the eigen vectors for the image. Take Orientation_M1 output and feed it into reScale. Take reScale output and make it the input into get_square_crop. Last step is contrast. Once that is done, get the shape of the image and save that to get the new image size. "
   ]
  },
  {
   "cell_type": "code",
   "execution_count": 3,
   "metadata": {
    "collapsed": true
   },
   "outputs": [],
   "source": [
    "#Orientation\n",
    "def Orientation_M1 (img):\n",
    "    if img.InPlanePhaseEncodingDirection=='COL':\n",
    "        new_img=cv2.transpose(img.pixel_array)\n",
    "        #py.imshow(img_new)\n",
    "        new_img = cv2.flip(new_img, 0)\n",
    "        return new_img\n",
    "    else:\n",
    "    #    print 'Row Oriented'\n",
    "        return img.pixel_array"
   ]
  },
  {
   "cell_type": "code",
   "execution_count": null,
   "metadata": {
    "collapsed": true
   },
   "outputs": [],
   "source": [
    "#Function of Rescaling the pixels after Orientation\n",
    "def reScale(img, scale):\n",
    "    return cv2.resize(img, (0, 0), fx=scale, fy=scale)"
   ]
  },
  {
   "cell_type": "code",
   "execution_count": null,
   "metadata": {
    "collapsed": true
   },
   "outputs": [],
   "source": [
    "#After Rescaling; get square crop\n",
    "def get_square_crop(img, base_size=256, crop_size=256):\n",
    "    res = img\n",
    "    height, width = res.shape\n",
    "    if height < base_size:\n",
    "        diff = base_size - height\n",
    "        extend_top = diff / 2\n",
    "        extend_bottom = diff - extend_top\n",
    "        res = cv2.copyMakeBorder(res, extend_top, extend_bottom, 0, 0, borderType=cv2.BORDER_CONSTANT, value=0)\n",
    "        height = base_size\n",
    "\n",
    "    if width < base_size:\n",
    "        diff = base_size - width\n",
    "        extend_top = diff / 2\n",
    "        extend_bottom = diff - extend_top\n",
    "        res = cv2.copyMakeBorder(res, 0, 0, extend_top, extend_bottom, borderType=cv2.BORDER_CONSTANT, value=0)\n",
    "        width = base_size\n",
    "\n",
    "    crop_y_start = (height - crop_size) / 2\n",
    "    crop_x_start = (width - crop_size) / 2\n",
    "    res = res[crop_y_start:(crop_y_start + crop_size), crop_x_start:(crop_x_start + crop_size)]\n",
    "    return res"
   ]
  },
  {
   "cell_type": "code",
   "execution_count": 4,
   "metadata": {
    "collapsed": true
   },
   "outputs": [],
   "source": [
    "#contrast Change; perform after get_square_crop\n",
    "def contrast(img):\n",
    "    clahe = cv2.createCLAHE(tileGridSize=(1, 1))\n",
    "    return clahe.apply(img)"
   ]
  },
  {
   "cell_type": "markdown",
   "metadata": {},
   "source": [
    "Method 2: Perform getAlignImg and then do get_NewOrientation and save the output. Take the output from getAlignImg and feed it into crop_size. The img_L input will be consistent for all the images. It needs to be the minimum of the most common image size for all the slices / frames. Then save the shape of the image to see if the images are the same size. "
   ]
  },
  {
   "cell_type": "code",
   "execution_count": null,
   "metadata": {
    "collapsed": true
   },
   "outputs": [],
   "source": [
    "#Orientation around theta and contrast normalization\n",
    "def getAlignImg(t,label = None):#!!!notice, only take uint8 type for the imrotate function!!!\n",
    "    f = lambda x:np.asarray([float(a) for a in x]);\n",
    "    o = f(t.ImageOrientationPatient);\n",
    "    o1 = o[:3];\n",
    "    o2 = o[3:];\n",
    "    oh = np.cross(o1,o2);\n",
    "    or1 = np.asarray([0.6,0.6,-0.2]);\n",
    "    o2new = np.cross(oh,or1);\n",
    "    theta = np.arccos(np.dot(o2,o2new)/np.sqrt(np.sum(o2**2)*np.sum(o2new**2)))*180/3.1416;\n",
    "    theta = theta * np.sign(np.dot(oh,np.cross(o2,o2new)));\n",
    "    im_max = np.percentile(t.pixel_array.flatten(),99);\n",
    "    res = imrotate(np.array(np.clip(np.array(t.pixel_array,dtype=np.float)/im_max*256,0,255),dtype=np.uint8),theta);\n",
    "    if label is None:\n",
    "        return res;\n",
    "    else:\n",
    "        lab = imrotate(label,theta);\n",
    "        return res,lab"
   ]
  },
  {
   "cell_type": "code",
   "execution_count": null,
   "metadata": {
    "collapsed": true
   },
   "outputs": [],
   "source": [
    "img_L=int(np.min(res.shape)) #NEEDS to be the most common minimum image shape for all the slices"
   ]
  },
  {
   "cell_type": "code",
   "execution_count": null,
   "metadata": {
    "collapsed": true
   },
   "outputs": [],
   "source": [
    "def crop_size(res, img_L):\n",
    "    shift  = np.array([0,0]) \n",
    "    if res.shape[0]>res.shape[1]:\n",
    "        s = (res.shape[0]-res.shape[1])//2;\n",
    "        res = res[s:s+res.shape[1],:];\n",
    "        shift[1] = s;\n",
    "    else:\n",
    "        s = (res.shape[1]-res.shape[0])//2;\n",
    "        res = res[:,s:s+res.shape[0]];\n",
    "        shift[0] = s;\n",
    "\n",
    "        #crop or stretch to the same size\n",
    "    if img_L>0 and (res.shape[0] != img_L):\n",
    "        #print(\"crop or fill\",filename);\n",
    "        if res.shape[0]>img_L:#because h=w after crop\n",
    "            s = (res.shape[0]-img_L)//2;\n",
    "            res = res[s:s+img_L,s:s+img_L];\n",
    "            shift = shift + s;\n",
    "        else:\n",
    "            s = (img_L-res.shape[0])//2;\n",
    "            res2 = np.zeros((self.img_L,img_L));\n",
    "            res2[s:s+res.shape[0],s:s+res.shape[0]] = res;\n",
    "            res = res2;\n",
    "            shift = shift - s;\n",
    "    return res"
   ]
  }
 ],
 "metadata": {
  "kernelspec": {
   "display_name": "Python 2",
   "language": "python",
   "name": "python2"
  },
  "language_info": {
   "codemirror_mode": {
    "name": "ipython",
    "version": 2
   },
   "file_extension": ".py",
   "mimetype": "text/x-python",
   "name": "python",
   "nbconvert_exporter": "python",
   "pygments_lexer": "ipython2",
   "version": "2.7.14"
  },
  "latex_envs": {
   "LaTeX_envs_menu_present": true,
   "autocomplete": true,
   "bibliofile": "biblio.bib",
   "cite_by": "apalike",
   "current_citInitial": 1,
   "eqLabelWithNumbers": true,
   "eqNumInitial": 1,
   "hotkeys": {
    "equation": "Ctrl-E",
    "itemize": "Ctrl-I"
   },
   "labels_anchors": false,
   "latex_user_defs": false,
   "report_style_numbering": false,
   "user_envs_cfg": false
  }
 },
 "nbformat": 4,
 "nbformat_minor": 2
}
