{
 "cells": [
  {
   "cell_type": "code",
   "execution_count": 1,
   "metadata": {
    "collapsed": true
   },
   "outputs": [],
   "source": [
    "import dicom\n",
    "import os\n",
    "import numpy as np\n",
    "import glob\n",
    "import cv2\n",
    "%matplotlib inline\n",
    "import matplotlib.pyplot as py\n",
    "import SimpleITK as sitk\n",
    "from PIL import Image\n",
    "from scipy.misc import imrotate"
   ]
  },
  {
   "cell_type": "code",
   "execution_count": 2,
   "metadata": {
    "collapsed": true
   },
   "outputs": [],
   "source": [
    "def getAlignImg(t,label = None):#!!!notice, only take uint8 type for the imrotate function!!!\n",
    "    f = lambda x:np.asarray([float(a) for a in x]);\n",
    "    o = f(t.ImageOrientationPatient);\n",
    "    o1 = o[:3];\n",
    "    o2 = o[3:];\n",
    "    oh = np.cross(o1,o2);\n",
    "    or1 = np.asarray([0.6,0.6,-0.2]);\n",
    "    o2new = np.cross(oh,or1);\n",
    "    theta = np.arccos(np.dot(o2,o2new)/np.sqrt(np.sum(o2**2)*np.sum(o2new**2)))*180/3.1416;\n",
    "    print np.arccos(np.dot(o2,o2new)/np.sqrt(np.sum(o2**2)*np.sum(o2new**2)))\n",
    "    theta = theta * np.sign(np.dot(oh,np.cross(o2,o2new)));\n",
    "    im_max = np.percentile(t.pixel_array.flatten(),99);\n",
    "    res = imrotate(np.array(np.clip(np.array(t.pixel_array,dtype=np.float)/im_max*256,0,255),dtype=np.uint8),90);\n",
    "    if label is None:\n",
    "        return res;\n",
    "    else:\n",
    "        lab = imrotate(label,theta);\n",
    "        return res,lab"
   ]
  },
  {
   "cell_type": "code",
   "execution_count": 3,
   "metadata": {
    "collapsed": true
   },
   "outputs": [],
   "source": [
    "def Orientation_M1 (img):\n",
    "    if img.InPlanePhaseEncodingDirection=='COL':\n",
    "        img_new=cv2.transpose(img.pixel_array)\n",
    "        #py.imshow(img_new)\n",
    "        img_new = cv2.flip(img_new, 0)\n",
    "        return img_new\n",
    "    else:\n",
    "        #print 'Row Oriented'\n",
    "        return img.pixel_array"
   ]
  },
  {
   "cell_type": "code",
   "execution_count": 4,
   "metadata": {
    "collapsed": true
   },
   "outputs": [],
   "source": [
    "def get_NewOrientation(img_array):\n",
    "    y, x = np.nonzero(img_array)\n",
    "    x = x - np.mean(x)\n",
    "    y = y - np.mean(y)\n",
    "    coords = np.vstack([x, y])\n",
    "    cov = np.cov(coords)\n",
    "    evals, evecs = np.linalg.eig(cov)\n",
    "    sort_indices = np.argsort(evals)[::-1]\n",
    "    x_v1, y_v1 = evecs[:, sort_indices[0]]  # Eigenvector with largest eigenvalue\n",
    "    x_v2, y_v2 = evecs[:, sort_indices[1]]\n",
    "    return (x_v1,y_v1), (x_v2,y_v2)"
   ]
  },
  {
   "cell_type": "code",
   "execution_count": 5,
   "metadata": {
    "collapsed": true
   },
   "outputs": [],
   "source": [
    "L=glob.glob(\"/Users/egouda/Downloads/train/*/*/*/*\")"
   ]
  },
  {
   "cell_type": "code",
   "execution_count": 6,
   "metadata": {
    "collapsed": true
   },
   "outputs": [],
   "source": [
    "L=glob.glob(\"/Users/egouda/Downloads/train/*/*/*/*\")\n",
    "# Kaggle_train = \"/Users/laurawilke/Documents/DSE/lwilke/Capstone/Data/Sample data ( kaggle)/*/study/*/*\"\n",
    "#Get all the file names for the Kaggle Images\n",
    "lstFilesKaggle_train=L\n",
    "#Get a list of all the paths for the sax images\n",
    "lstFilesKaggle_train_sax = [s for s in lstFilesKaggle_train if \"sax\" in s]"
   ]
  },
  {
   "cell_type": "code",
   "execution_count": 7,
   "metadata": {},
   "outputs": [
    {
     "data": {
      "text/plain": [
       "161910"
      ]
     },
     "execution_count": 7,
     "metadata": {},
     "output_type": "execute_result"
    }
   ],
   "source": [
    "len(lstFilesKaggle_train_sax)"
   ]
  },
  {
   "cell_type": "code",
   "execution_count": 8,
   "metadata": {},
   "outputs": [
    {
     "name": "stdout",
     "output_type": "stream",
     "text": [
      "0.293075287128\n",
      "0.455067010622\n",
      "1.21083894184\n",
      "1.07000427448\n",
      "0.269769662896\n",
      "0.28648796882\n",
      "0.191959984671\n",
      "1.14876728404\n",
      "0.123140074775\n",
      "0.187995383054\n",
      "0.00862532632363\n",
      "0.227258906081\n",
      "0.255999649497\n",
      "0.182474050727\n",
      "0.0727450683364\n",
      "0.125286643292\n",
      "0.22114271599\n",
      "0.817054549631\n",
      "0.316750764516\n",
      "0.169530082836\n",
      "0.11653538867\n",
      "0.0996775661401\n",
      "0.258081061252\n",
      "0.267931650078\n",
      "0.169153949732\n",
      "0.130449590981\n",
      "1.17786740183\n",
      "1.16783081657\n",
      "0.314713674303\n",
      "0.281021538366\n",
      "0.022822491473\n",
      "0.0328551479709\n",
      "0.154611837133\n",
      "1.27107940405\n",
      "0.219314132628\n",
      "0.0258067068491\n",
      "0.24710345451\n"
     ]
    }
   ],
   "source": [
    "img={}\n",
    "get_align_img=[]\n",
    "M1=[]\n",
    "\n",
    "for i in range(37):\n",
    "    rand=np.random.randint(0,len(lstFilesKaggle_train_sax))\n",
    "    tmp_img=dicom.read_file(lstFilesKaggle_train_sax[rand])\n",
    "    img[lstFilesKaggle_train_sax[rand]]=tmp_img\n",
    "    align=getAlignImg(tmp_img,label=None)\n",
    "    get_align_img.append(align)\n",
    "    orient=Orientation_M1(tmp_img)\n",
    "    M1.append(orient)"
   ]
  },
  {
   "cell_type": "code",
   "execution_count": 9,
   "metadata": {},
   "outputs": [
    {
     "data": {
      "text/plain": [
       "[array([[0, 0, 0, ..., 0, 0, 0],\n",
       "        [0, 0, 0, ..., 0, 0, 0],\n",
       "        [0, 0, 0, ..., 0, 0, 0],\n",
       "        ..., \n",
       "        [0, 0, 0, ..., 0, 0, 0],\n",
       "        [0, 0, 0, ..., 0, 0, 0],\n",
       "        [0, 0, 0, ..., 0, 0, 0]], dtype=uint16),\n",
       " array([[0, 0, 0, ..., 0, 0, 0],\n",
       "        [0, 0, 0, ..., 0, 0, 0],\n",
       "        [0, 0, 0, ..., 0, 0, 0],\n",
       "        ..., \n",
       "        [0, 0, 0, ..., 0, 0, 1],\n",
       "        [0, 0, 0, ..., 0, 1, 0],\n",
       "        [0, 0, 0, ..., 0, 0, 0]], dtype=uint16),\n",
       " array([[0, 0, 0, ..., 0, 0, 0],\n",
       "        [0, 0, 0, ..., 0, 0, 0],\n",
       "        [0, 0, 0, ..., 0, 0, 0],\n",
       "        ..., \n",
       "        [0, 0, 0, ..., 0, 0, 0],\n",
       "        [0, 0, 0, ..., 0, 0, 0],\n",
       "        [0, 0, 0, ..., 0, 0, 0]], dtype=uint16),\n",
       " array([[0, 0, 0, ..., 0, 0, 0],\n",
       "        [0, 0, 0, ..., 0, 0, 0],\n",
       "        [0, 0, 0, ..., 0, 0, 0],\n",
       "        ..., \n",
       "        [0, 0, 0, ..., 0, 0, 0],\n",
       "        [0, 0, 0, ..., 0, 0, 0],\n",
       "        [0, 0, 0, ..., 0, 0, 0]], dtype=uint16),\n",
       " array([[0, 0, 0, ..., 0, 0, 0],\n",
       "        [0, 0, 0, ..., 0, 0, 0],\n",
       "        [0, 0, 0, ..., 0, 0, 0],\n",
       "        ..., \n",
       "        [0, 3, 3, ..., 4, 4, 0],\n",
       "        [0, 3, 3, ..., 4, 4, 0],\n",
       "        [0, 3, 3, ..., 4, 0, 0]], dtype=uint16),\n",
       " array([[  0,   0,   0, ...,   0,   0,   0],\n",
       "        [  0,   0,   0, ...,   0,   0,   0],\n",
       "        [  0,   0,   0, ...,   0,   0,   0],\n",
       "        ..., \n",
       "        [  0,   0,   0, ..., 118, 117,   0],\n",
       "        [  0,   0,   0, ..., 131, 137,   0],\n",
       "        [  0,   0,   0, ..., 119, 135,   0]], dtype=uint16),\n",
       " array([[0, 0, 0, ..., 0, 0, 0],\n",
       "        [0, 0, 0, ..., 0, 0, 0],\n",
       "        [0, 0, 0, ..., 0, 0, 0],\n",
       "        ..., \n",
       "        [0, 4, 4, ..., 0, 0, 0],\n",
       "        [0, 3, 3, ..., 0, 0, 0],\n",
       "        [0, 4, 3, ..., 0, 0, 0]], dtype=uint16),\n",
       " array([[0, 0, 0, ..., 0, 0, 0],\n",
       "        [0, 0, 0, ..., 0, 0, 0],\n",
       "        [0, 0, 0, ..., 0, 0, 0],\n",
       "        ..., \n",
       "        [6, 1, 0, ..., 0, 0, 0],\n",
       "        [4, 2, 1, ..., 0, 0, 0],\n",
       "        [0, 0, 0, ..., 0, 0, 0]], dtype=uint16),\n",
       " array([[ 0,  0,  0, ...,  0,  0,  0],\n",
       "        [ 0,  0,  0, ...,  0,  0,  0],\n",
       "        [ 0,  0,  0, ...,  0,  0,  0],\n",
       "        ..., \n",
       "        [ 0, 12, 12, ...,  0,  0,  0],\n",
       "        [ 0, 11, 10, ...,  0,  0,  0],\n",
       "        [ 0, 11, 10, ...,  0,  0,  0]], dtype=uint16),\n",
       " array([[0, 0, 0, ..., 0, 0, 0],\n",
       "        [0, 0, 0, ..., 0, 0, 0],\n",
       "        [0, 0, 0, ..., 0, 0, 0],\n",
       "        ..., \n",
       "        [0, 2, 2, ..., 0, 0, 0],\n",
       "        [0, 3, 2, ..., 0, 0, 0],\n",
       "        [0, 3, 2, ..., 0, 0, 0]], dtype=uint16),\n",
       " array([[ 0,  0,  0, ...,  0,  0,  0],\n",
       "        [ 0,  0,  0, ...,  0,  0,  0],\n",
       "        [ 0,  0,  0, ...,  0,  0,  0],\n",
       "        ..., \n",
       "        [ 0, 56, 97, ..., 22, 17,  0],\n",
       "        [ 0, 55, 66, ...,  0,  0,  0],\n",
       "        [ 0, 54, 43, ...,  0,  0,  0]], dtype=uint16),\n",
       " array([[0, 0, 0, ..., 0, 0, 0],\n",
       "        [0, 2, 3, ..., 0, 0, 0],\n",
       "        [0, 5, 5, ..., 0, 0, 0],\n",
       "        ..., \n",
       "        [0, 5, 5, ..., 0, 0, 0],\n",
       "        [0, 5, 5, ..., 0, 0, 0],\n",
       "        [0, 5, 5, ..., 0, 0, 0]], dtype=uint16),\n",
       " array([[ 0,  0,  0, ...,  0,  0,  0],\n",
       "        [ 0,  0,  0, ...,  0,  0,  0],\n",
       "        [ 0,  0,  0, ...,  0,  0,  0],\n",
       "        ..., \n",
       "        [ 0,  2,  2, ..., 10, 13,  0],\n",
       "        [ 0,  2,  2, ..., 13, 14,  0],\n",
       "        [ 0,  2,  2, ..., 15, 16,  0]], dtype=uint16),\n",
       " array([[ 0,  0,  0, ...,  0,  0,  0],\n",
       "        [ 0, 95, 88, ...,  0,  0,  0],\n",
       "        [ 0, 96, 66, ...,  0,  0,  0],\n",
       "        ..., \n",
       "        [ 0,  0,  0, ...,  7,  7,  0],\n",
       "        [ 0,  0,  0, ...,  5,  6,  0],\n",
       "        [ 0,  0,  0, ...,  0,  0,  0]], dtype=uint16),\n",
       " array([[  0,   0,   0, ...,   0,   0,   0],\n",
       "        [  0,   0,   0, ...,   0,   0,   0],\n",
       "        [  0,  21,  24, ...,   0,   0,   0],\n",
       "        ..., \n",
       "        [  0, 128, 118, ...,   0,   0,   0],\n",
       "        [  0, 120, 109, ...,   0,   0,   0],\n",
       "        [  0, 110,  99, ...,   0,   0,   0]], dtype=uint16),\n",
       " array([[ 0,  0,  0, ...,  0,  0,  0],\n",
       "        [ 0, 32, 32, ...,  0,  0,  0],\n",
       "        [ 0, 34, 32, ...,  0,  0,  0],\n",
       "        ..., \n",
       "        [ 0,  1,  1, ...,  0,  0,  0],\n",
       "        [ 0,  0,  0, ...,  0,  0,  0],\n",
       "        [ 0,  0,  0, ...,  0,  0,  0]], dtype=uint16),\n",
       " array([[ 0,  0,  0, ...,  0,  0,  0],\n",
       "        [ 0,  0,  0, ...,  0,  0,  0],\n",
       "        [ 0,  0,  0, ...,  0,  0,  0],\n",
       "        ..., \n",
       "        [ 0,  4,  5, ..., 17, 18,  0],\n",
       "        [ 0,  4,  4, ..., 17, 16,  0],\n",
       "        [ 0,  5,  4, ..., 20, 18,  0]], dtype=uint16),\n",
       " array([[  0,   0,   0, ...,   0,   0,   0],\n",
       "        [  0,   0,   0, ...,   0,   0,   0],\n",
       "        [  0,   0,   0, ...,   0,   0,   0],\n",
       "        ..., \n",
       "        [  0,   0,   0, ...,  75,  91, 102],\n",
       "        [  0,   0,   0, ...,  75,  93, 104],\n",
       "        [  0,   0,   0, ...,   0,   0,   0]], dtype=uint16),\n",
       " array([[ 0,  0,  0, ...,  0,  0,  0],\n",
       "        [ 0,  0,  0, ...,  0,  0,  0],\n",
       "        [ 0,  0,  0, ...,  0,  0,  0],\n",
       "        ..., \n",
       "        [ 0,  3,  3, ..., 40, 26,  0],\n",
       "        [ 0,  0,  0, ..., 39, 28,  0],\n",
       "        [ 0,  0,  0, ...,  0,  0,  0]], dtype=uint16),\n",
       " array([[ 0,  0,  0, ...,  0,  0,  0],\n",
       "        [ 0,  3,  3, ...,  0,  0,  0],\n",
       "        [ 0, 10, 12, ...,  0,  0,  0],\n",
       "        ..., \n",
       "        [ 0, 13, 14, ...,  0,  0,  0],\n",
       "        [ 0, 13, 15, ...,  0,  0,  0],\n",
       "        [ 0, 12, 15, ...,  0,  0,  0]], dtype=uint16),\n",
       " array([[  0,   0,   0, ...,   0,   0,   0],\n",
       "        [  0,   0,   0, ...,   0,   0,   0],\n",
       "        [  0,   0,   0, ...,   0,   0,   0],\n",
       "        ..., \n",
       "        [  0,   0,   0, ..., 164, 126,   0],\n",
       "        [  0,   0,   0, ..., 170, 139,   0],\n",
       "        [  0,   0,   0, ..., 168, 162,   0]], dtype=uint16),\n",
       " array([[  0,   0,   0, ...,   0,   0,   0],\n",
       "        [  0,   0,   0, ...,   0,   0,   0],\n",
       "        [  0,  30,  29, ...,   0,   0,   0],\n",
       "        ..., \n",
       "        [  0, 246, 223, ...,   0,   0,   0],\n",
       "        [  0, 217, 262, ...,   0,   0,   0],\n",
       "        [  0, 237, 304, ...,   0,   0,   0]], dtype=uint16),\n",
       " array([[0, 0, 0, ..., 0, 0, 0],\n",
       "        [0, 0, 0, ..., 0, 0, 0],\n",
       "        [0, 9, 9, ..., 0, 0, 0],\n",
       "        ..., \n",
       "        [0, 0, 0, ..., 0, 0, 0],\n",
       "        [0, 0, 0, ..., 0, 0, 0],\n",
       "        [0, 0, 0, ..., 0, 0, 0]], dtype=uint16),\n",
       " array([[ 0,  0,  0, ...,  0,  0,  0],\n",
       "        [ 0,  0,  1, ...,  0,  0,  0],\n",
       "        [ 0,  0,  1, ...,  0,  0,  0],\n",
       "        ..., \n",
       "        [ 0, 10,  9, ..., 75, 57,  0],\n",
       "        [ 0, 10,  9, ..., 67, 52,  0],\n",
       "        [ 0,  9,  8, ..., 60, 44,  0]], dtype=uint16),\n",
       " array([[ 0,  0,  0, ...,  0,  0,  0],\n",
       "        [ 0,  8, 11, ...,  0,  0,  0],\n",
       "        [ 0,  8, 12, ...,  0,  0,  0],\n",
       "        ..., \n",
       "        [ 0,  5,  5, ...,  0,  0,  0],\n",
       "        [ 0,  4,  5, ...,  0,  0,  0],\n",
       "        [ 0,  2,  2, ...,  0,  0,  0]], dtype=uint16),\n",
       " array([[ 0,  0,  0, ...,  0,  0,  0],\n",
       "        [ 0,  0,  0, ...,  0,  0,  0],\n",
       "        [ 0,  0,  0, ...,  0,  0,  0],\n",
       "        ..., \n",
       "        [ 0,  0,  0, ..., 10, 10,  0],\n",
       "        [ 0,  0,  0, ...,  8,  0,  0],\n",
       "        [ 0,  0,  0, ...,  0,  0,  0]], dtype=uint16),\n",
       " array([[ 0,  0,  0, ...,  0,  0,  0],\n",
       "        [ 0,  0,  0, ...,  0,  0,  0],\n",
       "        [ 0,  0,  0, ...,  0,  0,  0],\n",
       "        ..., \n",
       "        [ 0,  0,  0, ..., 16, 15,  0],\n",
       "        [ 0,  0,  0, ...,  0,  0,  0],\n",
       "        [ 0,  0,  0, ...,  0,  0,  0]], dtype=uint16),\n",
       " array([[0, 0, 0, ..., 4, 4, 0],\n",
       "        [0, 0, 0, ..., 4, 3, 0],\n",
       "        [0, 0, 0, ..., 4, 3, 0],\n",
       "        ..., \n",
       "        [0, 0, 0, ..., 6, 8, 0],\n",
       "        [0, 0, 0, ..., 0, 0, 0],\n",
       "        [0, 0, 0, ..., 0, 0, 0]], dtype=uint16),\n",
       " array([[0, 0, 0, ..., 0, 0, 0],\n",
       "        [0, 0, 0, ..., 0, 0, 0],\n",
       "        [0, 0, 0, ..., 0, 0, 0],\n",
       "        ..., \n",
       "        [0, 0, 0, ..., 0, 0, 0],\n",
       "        [0, 0, 0, ..., 0, 0, 0],\n",
       "        [0, 0, 0, ..., 0, 0, 0]], dtype=uint16),\n",
       " array([[0, 0, 0, ..., 0, 0, 0],\n",
       "        [0, 5, 5, ..., 0, 0, 0],\n",
       "        [0, 5, 5, ..., 0, 0, 0],\n",
       "        ..., \n",
       "        [0, 0, 0, ..., 0, 0, 0],\n",
       "        [0, 0, 0, ..., 0, 0, 0],\n",
       "        [0, 0, 0, ..., 0, 0, 0]], dtype=uint16),\n",
       " array([[  0,   0,   0, ...,   0,   0,   0],\n",
       "        [  0,  47,  43, ...,   0,   0,   0],\n",
       "        [  0,  93,  71, ...,   0,   0,   0],\n",
       "        ..., \n",
       "        [  0, 159, 162, ...,   0,   0,   0],\n",
       "        [  0,   0,   0, ...,   0,   0,   0],\n",
       "        [  0,   0,   0, ...,   0,   0,   0]], dtype=uint16),\n",
       " array([[  0,   0,   0, ...,   0,   0,   0],\n",
       "        [  0,   0,   0, ...,   0,   0,   0],\n",
       "        [  0, 406, 413, ...,   0,   0,   0],\n",
       "        ..., \n",
       "        [  0,   8,  23, ...,   0,   0,   0],\n",
       "        [  0,  14,  29, ...,   0,   0,   0],\n",
       "        [  0,  18,  29, ...,   0,   0,   0]], dtype=uint16),\n",
       " array([[  0,   0,   0, ...,   0,   0,   0],\n",
       "        [  0,   0,   0, ...,   0,   0,   0],\n",
       "        [  0,   0,  65, ...,   0,   0,   0],\n",
       "        ..., \n",
       "        [  0, 167, 164, ...,  20,  22,   0],\n",
       "        [  0, 161, 160, ...,  17,  19,   0],\n",
       "        [  0, 161, 158, ...,   0,   0,   0]], dtype=uint16),\n",
       " array([[1, 1, 1, ..., 1, 0, 0],\n",
       "        [1, 1, 0, ..., 6, 0, 0],\n",
       "        [1, 1, 0, ..., 6, 0, 0],\n",
       "        ..., \n",
       "        [0, 0, 0, ..., 0, 0, 0],\n",
       "        [0, 0, 0, ..., 0, 0, 0],\n",
       "        [0, 0, 0, ..., 0, 0, 0]], dtype=uint16),\n",
       " array([[ 0,  0,  0, ...,  0,  0,  0],\n",
       "        [ 0,  6,  7, ...,  0,  0,  0],\n",
       "        [ 0, 13, 12, ...,  0,  0,  0],\n",
       "        ..., \n",
       "        [ 0, 16, 17, ...,  0,  0,  0],\n",
       "        [ 0, 14, 15, ...,  0,  0,  0],\n",
       "        [ 0, 11, 14, ...,  0,  0,  0]], dtype=uint16),\n",
       " array([[0, 0, 0, ..., 0, 0, 0],\n",
       "        [0, 0, 0, ..., 0, 0, 0],\n",
       "        [0, 0, 0, ..., 0, 0, 0],\n",
       "        ..., \n",
       "        [0, 0, 0, ..., 0, 0, 0],\n",
       "        [0, 0, 0, ..., 0, 0, 0],\n",
       "        [0, 0, 0, ..., 0, 0, 0]], dtype=uint16),\n",
       " array([[  0,   0,   0, ...,   0,   0,   0],\n",
       "        [  0,   0,   0, ...,   0,   0,   0],\n",
       "        [  0,   0,   0, ...,   0,   0,   0],\n",
       "        ..., \n",
       "        [  0,   0,   0, ..., 128, 122,   0],\n",
       "        [  0,   0,   0, ..., 117, 150,   0],\n",
       "        [  0,   0,   0, ..., 111, 140,   0]], dtype=uint16)]"
      ]
     },
     "execution_count": 9,
     "metadata": {},
     "output_type": "execute_result"
    }
   ],
   "source": [
    "M1"
   ]
  },
  {
   "cell_type": "code",
   "execution_count": 10,
   "metadata": {},
   "outputs": [],
   "source": [
    "keys=img.keys()"
   ]
  },
  {
   "cell_type": "code",
   "execution_count": 21,
   "metadata": {},
   "outputs": [
    {
     "name": "stdout",
     "output_type": "stream",
     "text": [
      "((-0.065161225602084594, -0.99787474899309592), (-0.99787474899309592, 0.065161225602084594))\n",
      "((0.87384387431585797, -0.4862066261587259), (0.4862066261587259, 0.87384387431585797))\n",
      "((-0.13381899072357301, -0.99100579096275931), (-0.99100579096275931, 0.13381899072357301))\n"
     ]
    }
   ],
   "source": [
    "original=get_NewOrientation(img[keys[0]].pixel_array)\n",
    "get_align_or=get_NewOrientation(get_align_img[0])\n",
    "M1_or=get_NewOrientation(M1[0])\n",
    "print original\n",
    "print get_align_or\n",
    "print M1_or"
   ]
  },
  {
   "cell_type": "code",
   "execution_count": 12,
   "metadata": {},
   "outputs": [
    {
     "ename": "NameError",
     "evalue": "name 'angle' is not defined",
     "output_type": "error",
     "traceback": [
      "\u001b[0;31m---------------------------------------------------------------------------\u001b[0m",
      "\u001b[0;31mNameError\u001b[0m                                 Traceback (most recent call last)",
      "\u001b[0;32m<ipython-input-12-4bcdf9371866>\u001b[0m in \u001b[0;36m<module>\u001b[0;34m()\u001b[0m\n\u001b[0;32m----> 1\u001b[0;31m \u001b[0mangle\u001b[0m\u001b[0;34m(\u001b[0m\u001b[0moriginal\u001b[0m\u001b[0;34m[\u001b[0m\u001b[0;36m0\u001b[0m\u001b[0;34m]\u001b[0m\u001b[0;34m,\u001b[0m \u001b[0mget_align_or\u001b[0m\u001b[0;34m[\u001b[0m\u001b[0;36m0\u001b[0m\u001b[0;34m]\u001b[0m\u001b[0;34m)\u001b[0m\u001b[0;34m\u001b[0m\u001b[0m\n\u001b[0m",
      "\u001b[0;31mNameError\u001b[0m: name 'angle' is not defined"
     ]
    }
   ],
   "source": [
    "angle(original[0], get_align_or[0])"
   ]
  },
  {
   "cell_type": "code",
   "execution_count": 13,
   "metadata": {},
   "outputs": [
    {
     "name": "stdout",
     "output_type": "stream",
     "text": [
      "((0.0075236365458200075, -0.99997169704603461), (-0.99997169704603461, -0.0075236365458200075))\n",
      "((-0.33210315745326946, -0.94324307196478741), (-0.94324307196478741, 0.33210315745326946))\n",
      "((0.016969243778263903, -0.99985601201652718), (-0.99985601201652718, -0.016969243778263903))\n"
     ]
    }
   ],
   "source": [
    "original=get_NewOrientation(img[keys[2]].pixel_array)\n",
    "get_align_or=get_NewOrientation(get_align_img[2])\n",
    "M1_or=get_NewOrientation(M1[2])\n",
    "print original\n",
    "print get_align_or\n",
    "print M1_or"
   ]
  },
  {
   "cell_type": "code",
   "execution_count": 15,
   "metadata": {},
   "outputs": [
    {
     "name": "stdout",
     "output_type": "stream",
     "text": [
      "((-0.031323969490264364, -0.99950928406662287), (-0.99950928406662287, 0.031323969490264364))\n",
      "((0.93574247510053155, -0.35268402330234799), (0.35268402330234799, 0.93574247510053155))\n",
      "((-0.054118111940873639, -0.99853454119522334), (-0.99853454119522334, 0.054118111940873639))\n"
     ]
    }
   ],
   "source": [
    "original=get_NewOrientation(img[keys[8]].pixel_array)\n",
    "get_align_or=get_NewOrientation(get_align_img[8])\n",
    "M1_or=get_NewOrientation(M1[8])\n",
    "print original\n",
    "print get_align_or\n",
    "print M1_or"
   ]
  },
  {
   "cell_type": "code",
   "execution_count": 16,
   "metadata": {},
   "outputs": [
    {
     "name": "stdout",
     "output_type": "stream",
     "text": [
      "(-0.040494080799142039, -0.99917977832832094)\n",
      "((0.97244842737810877, -0.2331181161768493), (0.2331181161768493, 0.97244842737810877))\n",
      "((-0.044160489954171038, -0.99902444971432369), (-0.99902444971432369, 0.044160489954171038))\n"
     ]
    }
   ],
   "source": [
    "original=get_NewOrientation(img[keys[5]].pixel_array)\n",
    "get_align_or=get_NewOrientation(get_align_img[5])\n",
    "M1_or=get_NewOrientation(M1[5])\n",
    "print original[0]\n",
    "print get_align_or\n",
    "print M1_or"
   ]
  },
  {
   "cell_type": "code",
   "execution_count": 18,
   "metadata": {
    "collapsed": true
   },
   "outputs": [],
   "source": [
    "\n",
    "import math\n",
    "\n",
    "def dotproduct(v1, v2):\n",
    "  return sum((a*b) for a, b in zip(v1, v2))\n",
    "\n",
    "def length(v):\n",
    "  return math.sqrt(dotproduct(v, v))\n",
    "\n",
    "def angle(v1, v2):\n",
    "  return math.acos(dotproduct(v1, v2) / (length(v1) * length(v2)))"
   ]
  },
  {
   "cell_type": "code",
   "execution_count": 23,
   "metadata": {},
   "outputs": [
    {
     "data": {
      "text/plain": [
       "0.0690142121543562"
      ]
     },
     "execution_count": 23,
     "metadata": {},
     "output_type": "execute_result"
    }
   ],
   "source": [
    "angle((-0.065161225602084594, -0.99787474899309592), (-0.13381899072357301, -0.99100579096275931))"
   ]
  },
  {
   "cell_type": "code",
   "execution_count": 25,
   "metadata": {},
   "outputs": [
    {
     "data": {
      "text/plain": [
       "3.954223082865079"
      ]
     },
     "execution_count": 25,
     "metadata": {},
     "output_type": "execute_result"
    }
   ],
   "source": [
    "math.degrees(0.0690142121543562)"
   ]
  },
  {
   "cell_type": "code",
   "execution_count": 26,
   "metadata": {},
   "outputs": [
    {
     "data": {
      "text/plain": [
       "36864"
      ]
     },
     "execution_count": 26,
     "metadata": {},
     "output_type": "execute_result"
    }
   ],
   "source": [
    "192*192"
   ]
  },
  {
   "cell_type": "code",
   "execution_count": 27,
   "metadata": {},
   "outputs": [
    {
     "data": {
      "text/plain": [
       "65536"
      ]
     },
     "execution_count": 27,
     "metadata": {},
     "output_type": "execute_result"
    }
   ],
   "source": [
    "256*256"
   ]
  },
  {
   "cell_type": "code",
   "execution_count": 28,
   "metadata": {},
   "outputs": [
    {
     "data": {
      "text/plain": [
       "28672"
      ]
     },
     "execution_count": 28,
     "metadata": {},
     "output_type": "execute_result"
    }
   ],
   "source": [
    "65536-36864"
   ]
  },
  {
   "cell_type": "code",
   "execution_count": 29,
   "metadata": {},
   "outputs": [
    {
     "data": {
      "text/plain": [
       "0.7777777777777778"
      ]
     },
     "execution_count": 29,
     "metadata": {},
     "output_type": "execute_result"
    }
   ],
   "source": [
    "28672.0/36864"
   ]
  },
  {
   "cell_type": "code",
   "execution_count": null,
   "metadata": {
    "collapsed": true
   },
   "outputs": [],
   "source": []
  }
 ],
 "metadata": {
  "kernelspec": {
   "display_name": "Python 2",
   "language": "python",
   "name": "python2"
  },
  "language_info": {
   "codemirror_mode": {
    "name": "ipython",
    "version": 2
   },
   "file_extension": ".py",
   "mimetype": "text/x-python",
   "name": "python",
   "nbconvert_exporter": "python",
   "pygments_lexer": "ipython2",
   "version": "2.7.14"
  },
  "latex_envs": {
   "LaTeX_envs_menu_present": true,
   "autocomplete": true,
   "bibliofile": "biblio.bib",
   "cite_by": "apalike",
   "current_citInitial": 1,
   "eqLabelWithNumbers": true,
   "eqNumInitial": 1,
   "hotkeys": {
    "equation": "Ctrl-E",
    "itemize": "Ctrl-I"
   },
   "labels_anchors": false,
   "latex_user_defs": false,
   "report_style_numbering": false,
   "user_envs_cfg": false
  }
 },
 "nbformat": 4,
 "nbformat_minor": 2
}
