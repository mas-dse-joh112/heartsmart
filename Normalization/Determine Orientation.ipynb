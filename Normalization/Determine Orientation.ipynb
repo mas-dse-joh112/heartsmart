{
 "cells": [
  {
   "cell_type": "code",
   "execution_count": 1,
   "metadata": {
    "collapsed": true
   },
   "outputs": [],
   "source": [
    "import dicom\n",
    "import os\n",
    "import numpy as np\n",
    "import glob\n",
    "import cv2\n",
    "%matplotlib inline\n",
    "import matplotlib.pyplot as py\n",
    "import SimpleITK as sitk\n",
    "from PIL import Image\n",
    "from scipy.misc import imrotate"
   ]
  },
  {
   "cell_type": "code",
   "execution_count": 2,
   "metadata": {
    "collapsed": true
   },
   "outputs": [],
   "source": [
    "def getAlignImg(t,label = None):#!!!notice, only take uint8 type for the imrotate function!!!\n",
    "    f = lambda x:np.asarray([float(a) for a in x]);\n",
    "    o = f(t.ImageOrientationPatient);\n",
    "    o1 = o[:3];\n",
    "    o2 = o[3:];\n",
    "    oh = np.cross(o1,o2);\n",
    "    or1 = np.asarray([0.6,0.6,-0.2]);\n",
    "    o2new = np.cross(oh,or1);\n",
    "    theta = np.arccos(np.dot(o2,o2new)/np.sqrt(np.sum(o2**2)*np.sum(o2new**2)))*180/3.1416;\n",
    "    theta = theta * np.sign(np.dot(oh,np.cross(o2,o2new)));\n",
    "    im_max = np.percentile(t.pixel_array.flatten(),99);\n",
    "    res = imrotate(np.array(np.clip(np.array(t.pixel_array,dtype=np.float)/im_max*256,0,255),dtype=np.uint8),90);\n",
    "    if label is None:\n",
    "        return res;\n",
    "    else:\n",
    "        lab = imrotate(label,theta);\n",
    "        return res,lab"
   ]
  },
  {
   "cell_type": "code",
   "execution_count": 3,
   "metadata": {
    "collapsed": true
   },
   "outputs": [],
   "source": [
    "def Orientation_M1 (img):\n",
    "    if img.InPlanePhaseEncodingDirection=='COL':\n",
    "        img_new=cv2.transpose(img.pixel_array)\n",
    "        #py.imshow(img_new)\n",
    "        img_new = cv2.flip(img_new, 0)\n",
    "        return img_new\n",
    "    else:\n",
    "        #print 'Row Oriented'\n",
    "        return img"
   ]
  },
  {
   "cell_type": "code",
   "execution_count": 4,
   "metadata": {
    "collapsed": true
   },
   "outputs": [],
   "source": [
    "def get_NewOrientation(img_array):\n",
    "    y, x = np.nonzero(img_array)\n",
    "    x = x - np.mean(x)\n",
    "    y = y - np.mean(y)\n",
    "    coords = np.vstack([x, y])\n",
    "    cov = np.cov(coords)\n",
    "    evals, evecs = np.linalg.eig(cov)\n",
    "    sort_indices = np.argsort(evals)[::-1]\n",
    "    x_v1, y_v1 = evecs[:, sort_indices[0]]  # Eigenvector with largest eigenvalue\n",
    "    x_v2, y_v2 = evecs[:, sort_indices[1]]\n",
    "    return (x_v1,y_v1), (x_v2,y_v2)"
   ]
  },
  {
   "cell_type": "code",
   "execution_count": 5,
   "metadata": {
    "collapsed": true
   },
   "outputs": [],
   "source": [
    "Kaggle_train = \"/Users/laurawilke/Documents/DSE/lwilke/Capstone/Data/Sample data ( kaggle)/*/study/*/*\"\n",
    "#Get all the file names for the Kaggle Images\n",
    "lstFilesKaggle_train=glob.glob(Kaggle_train)\n",
    "#Get a list of all the paths for the sax images\n",
    "lstFilesKaggle_train_sax = [s for s in lstFilesKaggle_train if \"sax\" in s]"
   ]
  },
  {
   "cell_type": "code",
   "execution_count": 8,
   "metadata": {
    "collapsed": true
   },
   "outputs": [
    {
     "name": "stdout",
     "output_type": "stream",
     "text": [
      "Row Oriented\n",
      "Row Oriented\n",
      "Row Oriented\n",
      "Row Oriented\n",
      "Row Oriented\n",
      "Row Oriented\n",
      "Row Oriented\n",
      "Row Oriented\n",
      "Row Oriented\n",
      "Row Oriented\n",
      "Row Oriented\n",
      "Row Oriented\n",
      "Row Oriented\n",
      "Row Oriented\n",
      "Row Oriented\n",
      "Row Oriented\n",
      "Row Oriented\n",
      "Row Oriented\n"
     ]
    }
   ],
   "source": [
    "img={}\n",
    "get_align_img=[]\n",
    "M1=[]\n",
    "\n",
    "for i in range(37):\n",
    "    rand=np.random.randint(0,len(lstFilesKaggle_train_sax))\n",
    "    tmp_img=dicom.read_file(lstFilesKaggle_train_sax[rand])\n",
    "    img[lstFilesKaggle_train_sax[rand]]=tmp_img\n",
    "    align=getAlignImg(tmp_img,label=None)\n",
    "    get_align_img.append(align)\n",
    "    orient=Orientation_M1(tmp_img)\n",
    "    M1.append(orient)"
   ]
  },
  {
   "cell_type": "code",
   "execution_count": 9,
   "metadata": {
    "collapsed": true
   },
   "outputs": [],
   "source": [
    "keys=img.keys()"
   ]
  },
  {
   "cell_type": "code",
   "execution_count": 12,
   "metadata": {},
   "outputs": [
    {
     "name": "stdout",
     "output_type": "stream",
     "text": [
      "((0.99620435226664694, -0.08704532454411433), (0.08704532454411433, 0.99620435226664694))\n",
      "((-0.373785746717963, -0.92751507564594049), (-0.92751507564594049, 0.373785746717963))\n",
      "((-0.070182368805234874, -0.99753417741393013), (-0.99753417741393013, 0.070182368805234874))\n"
     ]
    }
   ],
   "source": [
    "original=get_NewOrientation(img[keys[0]].pixel_array)\n",
    "get_align_or=get_NewOrientation(get_align_img[0])\n",
    "M1_or=get_NewOrientation(M1[0])\n",
    "print original\n",
    "print get_align_or\n",
    "print M1_or"
   ]
  },
  {
   "cell_type": "code",
   "execution_count": 13,
   "metadata": {},
   "outputs": [
    {
     "name": "stdout",
     "output_type": "stream",
     "text": [
      "((-0.059014867157064999, -0.99825710388378097), (-0.99825710388378097, 0.059014867157064999))\n",
      "((-0.35813747532260026, -0.9336688646246879), (-0.9336688646246879, 0.35813747532260026))\n",
      "((-0.087120166581441574, -0.99619780996287188), (-0.99619780996287188, 0.087120166581441574))\n"
     ]
    }
   ],
   "source": [
    "original=get_NewOrientation(img[keys[2]].pixel_array)\n",
    "get_align_or=get_NewOrientation(get_align_img[2])\n",
    "M1_or=get_NewOrientation(M1[2])\n",
    "print original\n",
    "print get_align_or\n",
    "print M1_or"
   ]
  },
  {
   "cell_type": "code",
   "execution_count": 14,
   "metadata": {},
   "outputs": [
    {
     "name": "stdout",
     "output_type": "stream",
     "text": [
      "((0.99667802706424469, -0.081442681484125368), (0.081442681484125368, 0.99667802706424469))\n",
      "((-0.36474711731689674, -0.93110662139682687), (-0.93110662139682687, 0.36474711731689674))\n",
      "((-0.081341924680573913, -0.99668625519230469), (-0.99668625519230469, 0.081341924680573913))\n"
     ]
    }
   ],
   "source": [
    "original=get_NewOrientation(img[keys[15]].pixel_array)\n",
    "get_align_or=get_NewOrientation(get_align_img[15])\n",
    "M1_or=get_NewOrientation(M1[15])\n",
    "print original\n",
    "print get_align_or\n",
    "print M1_or"
   ]
  },
  {
   "cell_type": "code",
   "execution_count": 15,
   "metadata": {},
   "outputs": [
    {
     "name": "stdout",
     "output_type": "stream",
     "text": [
      "((-0.20805728298674747, -0.9781166428377408), (-0.9781166428377408, 0.20805728298674747))\n",
      "((-0.36362733432022448, -0.93154450335728345), (-0.93154450335728345, 0.36362733432022448))\n",
      "((-0.081341924680573913, -0.99668625519230469), (-0.99668625519230469, 0.081341924680573913))\n"
     ]
    }
   ],
   "source": [
    "original=get_NewOrientation(img[keys[30]].pixel_array)\n",
    "get_align_or=get_NewOrientation(get_align_img[30])\n",
    "M1_or=get_NewOrientation(M1[30])\n",
    "print original\n",
    "print get_align_or\n",
    "print M1_or"
   ]
  },
  {
   "cell_type": "code",
   "execution_count": null,
   "metadata": {
    "collapsed": true
   },
   "outputs": [],
   "source": []
  }
 ],
 "metadata": {
  "kernelspec": {
   "display_name": "Python 2",
   "language": "python",
   "name": "python2"
  },
  "language_info": {
   "codemirror_mode": {
    "name": "ipython",
    "version": 2
   },
   "file_extension": ".py",
   "mimetype": "text/x-python",
   "name": "python",
   "nbconvert_exporter": "python",
   "pygments_lexer": "ipython2",
   "version": "2.7.11"
  }
 },
 "nbformat": 4,
 "nbformat_minor": 2
}
