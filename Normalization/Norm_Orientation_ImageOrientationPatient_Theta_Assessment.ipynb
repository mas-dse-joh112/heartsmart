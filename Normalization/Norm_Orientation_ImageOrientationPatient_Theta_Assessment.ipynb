{
 "cells": [
  {
   "cell_type": "code",
   "execution_count": 12,
   "metadata": {
    "collapsed": true
   },
   "outputs": [],
   "source": [
    "import dicom\n",
    "import os\n",
    "import numpy as np\n",
    "import glob\n",
    "import cv2\n",
    "%matplotlib inline\n",
    "import matplotlib.pyplot as plt\n",
    "import SimpleITK as sitk\n",
    "from PIL import Image\n",
    "from scipy.misc import imrotate\n",
    "import pandas as pd\n",
    "from scipy import stats"
   ]
  },
  {
   "cell_type": "code",
   "execution_count": 2,
   "metadata": {
    "collapsed": true
   },
   "outputs": [],
   "source": [
    "#Function to find the theta to rotate the image around for each image\n",
    "def findTheta(o):\n",
    "    T=[]\n",
    "    for i in range(len(o)):\n",
    "        o1 = o[i][:3];\n",
    "        o2 = o[i][3:];\n",
    "        oh = np.cross(o1,o2);\n",
    "        or1 = np.asarray([0.6,0.6,-0.2]);\n",
    "        o2new = np.cross(oh,or1);\n",
    "        theta = np.arccos(np.dot(o2,o2new)/np.sqrt(np.sum([i ** 2 for i in o2])*np.sum([i ** 2 for i in o2new])))*180/3.1416\n",
    "        theta = theta * np.sign(np.dot(oh,np.cross(o2,o2new)));\n",
    "        T.append(theta)\n",
    "    \n",
    "    return T"
   ]
  },
  {
   "cell_type": "code",
   "execution_count": 3,
   "metadata": {
    "collapsed": true
   },
   "outputs": [],
   "source": [
    "# Read in the metadata excel file \n",
    "MetaData=pd.read_excel('ALL_Merged_Path_except_ACDC.xlsx')"
   ]
  },
  {
   "cell_type": "code",
   "execution_count": 4,
   "metadata": {
    "collapsed": true
   },
   "outputs": [],
   "source": [
    "# Get the sax_image metadata \n",
    "sax_img=MetaData[MetaData['Image info'].str.contains('sax') | MetaData['Source'].str.contains('Sunny')]\n",
    "sax_img_Kaggle=MetaData[MetaData['Image info'].str.contains('sax')]\n",
    "sax_img_Sunny=MetaData[MetaData['Source'].str.contains('Sunny')]"
   ]
  },
  {
   "cell_type": "code",
   "execution_count": 5,
   "metadata": {
    "collapsed": true
   },
   "outputs": [],
   "source": [
    "# Convert to list\n",
    "#IOP_all=MetaData['ImageOrientationPatient'].tolist()\n",
    "IOP_sax=sax_img['ImageOrientationPatient'].tolist()\n",
    "IOP_sax_Kaggle=sax_img_Kaggle['ImageOrientationPatient'].tolist()\n",
    "IOP_sax_Sunny=sax_img_Sunny['ImageOrientationPatient'].tolist()"
   ]
  },
  {
   "cell_type": "code",
   "execution_count": 6,
   "metadata": {
    "collapsed": true
   },
   "outputs": [],
   "source": [
    "# Function to convert unicode array to an array of floats \n",
    "def convertUnicode(IOP):\n",
    "    orient_pat=[]\n",
    "    for i in range(len(IOP)):\n",
    "        #print i\n",
    "        tmp=[]\n",
    "        a=str(IOP[i])\n",
    "        #print a\n",
    "        a=a.split(',')\n",
    "        a=[i.strip('\\[') for i in a]\n",
    "        a=[i.strip('\\]') for i in a]\n",
    "        a=[i.strip('\\'') for i in a]\n",
    "        for j in range(len(a)):\n",
    "            if j==0:\n",
    "                #print j, a[j]\n",
    "                t=float(a[j])\n",
    "            else:\n",
    "                #print j, a[j][2:]\n",
    "                t=float(a[j][2:])\n",
    "            tmp.append(t)\n",
    "        orient_pat.append(tmp)\n",
    "    return orient_pat"
   ]
  },
  {
   "cell_type": "code",
   "execution_count": 7,
   "metadata": {
    "collapsed": true
   },
   "outputs": [],
   "source": [
    "# Get the theats for each sax slice\n",
    "#thetas_all=findTheta(convertUnicode(IOP_all))\n",
    "thetas_sax=findTheta(convertUnicode(IOP_sax))\n",
    "thetas_sax_Kaggle=findTheta(convertUnicode(IOP_sax_Kaggle))\n",
    "thetas_sax_Sunny=findTheta(convertUnicode(IOP_sax_Sunny))"
   ]
  },
  {
   "cell_type": "code",
   "execution_count": 8,
   "metadata": {},
   "outputs": [
    {
     "name": "stdout",
     "output_type": "stream",
     "text": [
      "Kaggle & Sunny: min: -140.748417126 median: -5.92374306814 mode: ModeResult(mode=array([ 44.99989477]), count=array([6413])) max: 166.733289841\n",
      "Kaggle: min: -42.7883000329 median: -8.82906014642 mode: ModeResult(mode=array([-11.67612435]), count=array([990])) max: 84.4538311468\n",
      "Sunny: min: -140.748417126 median: 27.5373403901 mode: ModeResult(mode=array([ 44.99989477]), count=array([6263])) max: 166.733289841\n"
     ]
    }
   ],
   "source": [
    "# Prints the min, median, mode, and max for the thetas for the K+S, K and S datasets\n",
    "Min=np.min(thetas_sax)\n",
    "median=np.median(thetas_sax)\n",
    "mode=stats.mode(thetas_sax)\n",
    "Max=np.max(thetas_sax)\n",
    "Min_Kaggle=np.min(thetas_sax_Kaggle)\n",
    "median_Kaggle=np.median(thetas_sax_Kaggle)\n",
    "mode_Kaggle=stats.mode(thetas_sax_Kaggle)\n",
    "Max_Kaggle=np.max(thetas_sax_Kaggle)\n",
    "Min_Sunny=np.min(thetas_sax_Sunny)\n",
    "median_Sunny=np.median(thetas_sax_Sunny)\n",
    "mode_Sunny=stats.mode(thetas_sax_Sunny)\n",
    "Max_Sunny=np.max(thetas_sax_Sunny)\n",
    "print \"Kaggle & Sunny: min: %s median: %s mode: %s max: %s\" %(Min, median,mode, Max)\n",
    "print \"Kaggle: min: %s median: %s mode: %s max: %s\" %(Min_Kaggle, median_Kaggle,mode_Kaggle, Max_Kaggle)\n",
    "print \"Sunny: min: %s median: %s mode: %s max: %s\" %(Min_Sunny, median_Sunny, mode_Sunny,Max_Sunny)\n",
    "                                                    "
   ]
  },
  {
   "cell_type": "code",
   "execution_count": 13,
   "metadata": {},
   "outputs": [
    {
     "data": {
      "text/plain": [
       "(array([  2.51000000e+02,   0.00000000e+00,   2.21800000e+03,\n",
       "          2.03820000e+04,   1.69032000e+05,   2.61830000e+04,\n",
       "          5.55310000e+04,   5.01200000e+03,   2.40000000e+02,\n",
       "          1.56000000e+02]),\n",
       " array([-140.74841713, -110.00024643,  -79.25207573,  -48.50390504,\n",
       "         -17.75573434,   12.99243636,   43.74060705,   74.48877775,\n",
       "         105.23694845,  135.98511914,  166.73328984]),\n",
       " <a list of 10 Patch objects>)"
      ]
     },
     "execution_count": 13,
     "metadata": {},
     "output_type": "execute_result"
    },
    {
     "data": {
      "image/png": "[encoded data removed]",
      "text/plain": [
       "<matplotlib.figure.Figure at 0x1275ed090>"
      ]
     },
     "metadata": {},
     "output_type": "display_data"
    }
   ],
   "source": [
    "#Plots histogram of the theats\n",
    "plt.hist(thetas_sax, bins=10)"
   ]
  },
  {
   "cell_type": "markdown",
   "metadata": {},
   "source": [
    "This shows the angles that each image is rotated around"
   ]
  },
  {
   "cell_type": "code",
   "execution_count": null,
   "metadata": {
    "collapsed": true
   },
   "outputs": [],
   "source": []
  }
 ],
 "metadata": {
  "kernelspec": {
   "display_name": "Python 2",
   "language": "python",
   "name": "python2"
  },
  "language_info": {
   "codemirror_mode": {
    "name": "ipython",
    "version": 2
   },
   "file_extension": ".py",
   "mimetype": "text/x-python",
   "name": "python",
   "nbconvert_exporter": "python",
   "pygments_lexer": "ipython2",
   "version": "2.7.11"
  }
 },
 "nbformat": 4,
 "nbformat_minor": 2
}
