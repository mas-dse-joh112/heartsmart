{
 "cells": [
  {
   "cell_type": "code",
   "execution_count": 17,
   "metadata": {
    "collapsed": true
   },
   "outputs": [],
   "source": [
    "import dicom\n",
    "import os\n",
    "import numpy as np\n",
    "import glob\n",
    "import pandas as pd\n",
    "from scipy.misc import imrotate\n",
    "import matplotlib.image as mpimg\n",
    "import matplotlib.pyplot as plt"
   ]
  },
  {
   "cell_type": "code",
   "execution_count": 2,
   "metadata": {
    "collapsed": true
   },
   "outputs": [],
   "source": [
    "PathDicom = \"/Users/laurawilke/Documents/DSE/lwilke/Capstone/Data/Sample data ( kaggle)/*/*/*/*\""
   ]
  },
  {
   "cell_type": "code",
   "execution_count": 45,
   "metadata": {
    "collapsed": true
   },
   "outputs": [],
   "source": [
    "lstFilesDCM=[]\n",
    "lstFilesDCM=glob.glob(PathDicom)\n",
    "lstFilesDCM=[s for s in lstFilesDCM if \"sax\" in s]"
   ]
  },
  {
   "cell_type": "code",
   "execution_count": 46,
   "metadata": {},
   "outputs": [],
   "source": [
    "File_name=[x.strip('\\/Users/laurawilke/Documents/DSE/lwilke/Capstone/Data/Sample data ( kaggle)/') for x in lstFilesDCM]"
   ]
  },
  {
   "cell_type": "code",
   "execution_count": 47,
   "metadata": {},
   "outputs": [],
   "source": [
    "test=[x.split('/') for x in File_name]"
   ]
  },
  {
   "cell_type": "code",
   "execution_count": 48,
   "metadata": {
    "collapsed": true
   },
   "outputs": [],
   "source": [
    "Patient=[x[0] for x in test]\n",
    "Slice=[x[2] for x in test]\n",
    "Image=[x[3] for x in test]"
   ]
  },
  {
   "cell_type": "code",
   "execution_count": 153,
   "metadata": {},
   "outputs": [],
   "source": [
    "IOP_1=[]\n",
    "IOP_2=[]\n",
    "IPP=[]\n",
    "d_slice_location=[]\n",
    "for i in range(len(lstFilesDCM)):\n",
    "    d = dicom.read_file(lstFilesDCM[i])\n",
    "    IPP.append(d.ImagePositionPatient)\n",
    "    IOP_1.append(d.ImageOrientationPatient[0:3])\n",
    "    IOP_2.append(d.ImageOrientationPatient[3:6])\n",
    "    d_slice_location.append(d.SliceLocation)"
   ]
  },
  {
   "cell_type": "code",
   "execution_count": 154,
   "metadata": {
    "collapsed": true
   },
   "outputs": [],
   "source": [
    "slice_location=[]\n",
    "for i in range(len(lstFilesDCM)):\n",
    "    slice_location.append(np.dot(IPP[i],np.cross(IOP_1[i],IOP_2[i])))"
   ]
  },
  {
   "cell_type": "code",
   "execution_count": 155,
   "metadata": {},
   "outputs": [],
   "source": [
    "df=pd.DataFrame(File_name, columns=['FileName'])"
   ]
  },
  {
   "cell_type": "code",
   "execution_count": 156,
   "metadata": {},
   "outputs": [],
   "source": [
    "df['PatientID']= Patient\n",
    "df['Slice']= Slice\n",
    "df['Image']= Image\n",
    "df['RowOrientation']=IOP_1\n",
    "df['ColOrientation']=IOP_2\n",
    "df['Position']=IPP\n",
    "df['SliceLocation']=slice_location\n",
    "df['DicomSliceLocation']=d_slice_location\n",
    "df['Row_Z']=[x[2] for x in df['RowOrientation']]\n",
    "df['Col_Z']=[x[2] for x in df['ColOrientation']]"
   ]
  },
  {
   "cell_type": "code",
   "execution_count": 157,
   "metadata": {},
   "outputs": [
    {
     "data": {
      "text/plain": [
       "array(['1', '494', '372'], dtype=object)"
      ]
     },
     "execution_count": 157,
     "metadata": {},
     "output_type": "execute_result"
    }
   ],
   "source": [
    "df['PatientID'].unique()"
   ]
  },
  {
   "cell_type": "code",
   "execution_count": 106,
   "metadata": {},
   "outputs": [
    {
     "data": {
      "text/plain": [
       "array([-0.88631907])"
      ]
     },
     "execution_count": 106,
     "metadata": {},
     "output_type": "execute_result"
    }
   ],
   "source": [
    "df[df['PatientID']=='372']['Col_Z'].unique()"
   ]
  },
  {
   "cell_type": "code",
   "execution_count": 159,
   "metadata": {},
   "outputs": [
    {
     "data": {
      "text/html": [
       "<div>\n",
       "<style>\n",
       "    .dataframe thead tr:only-child th {\n",
       "        text-align: right;\n",
       "    }\n",
       "\n",
       "    .dataframe thead th {\n",
       "        text-align: left;\n",
       "    }\n",
       "\n",
       "    .dataframe tbody tr th {\n",
       "        vertical-align: top;\n",
       "    }\n",
       "</style>\n",
       "<table border=\"1\" class=\"dataframe\">\n",
       "  <thead>\n",
       "    <tr style=\"text-align: right;\">\n",
       "      <th></th>\n",
       "      <th>SliceLocation</th>\n",
       "      <th>DicomSliceLocation</th>\n",
       "    </tr>\n",
       "    <tr>\n",
       "      <th>Slice</th>\n",
       "      <th></th>\n",
       "      <th></th>\n",
       "    </tr>\n",
       "  </thead>\n",
       "  <tbody>\n",
       "    <tr>\n",
       "      <th>sax_18</th>\n",
       "      <td>-111.366493</td>\n",
       "      <td>-111.366493</td>\n",
       "    </tr>\n",
       "    <tr>\n",
       "      <th>sax_17</th>\n",
       "      <td>-111.366487</td>\n",
       "      <td>-111.366487</td>\n",
       "    </tr>\n",
       "    <tr>\n",
       "      <th>sax_38</th>\n",
       "      <td>-111.366487</td>\n",
       "      <td>-111.366487</td>\n",
       "    </tr>\n",
       "    <tr>\n",
       "      <th>sax_15</th>\n",
       "      <td>-101.346516</td>\n",
       "      <td>-101.346516</td>\n",
       "    </tr>\n",
       "    <tr>\n",
       "      <th>sax_16</th>\n",
       "      <td>-101.346487</td>\n",
       "      <td>-101.346487</td>\n",
       "    </tr>\n",
       "    <tr>\n",
       "      <th>sax_14</th>\n",
       "      <td>-91.326518</td>\n",
       "      <td>-91.326518</td>\n",
       "    </tr>\n",
       "    <tr>\n",
       "      <th>sax_13</th>\n",
       "      <td>-81.306517</td>\n",
       "      <td>-81.306517</td>\n",
       "    </tr>\n",
       "    <tr>\n",
       "      <th>sax_12</th>\n",
       "      <td>-71.286516</td>\n",
       "      <td>-71.286516</td>\n",
       "    </tr>\n",
       "    <tr>\n",
       "      <th>sax_57</th>\n",
       "      <td>-71.286516</td>\n",
       "      <td>-71.286516</td>\n",
       "    </tr>\n",
       "    <tr>\n",
       "      <th>sax_11</th>\n",
       "      <td>-71.286474</td>\n",
       "      <td>-71.286474</td>\n",
       "    </tr>\n",
       "    <tr>\n",
       "      <th>sax_10</th>\n",
       "      <td>-61.266473</td>\n",
       "      <td>-61.266473</td>\n",
       "    </tr>\n",
       "    <tr>\n",
       "      <th>sax_9</th>\n",
       "      <td>-51.246474</td>\n",
       "      <td>-51.246474</td>\n",
       "    </tr>\n",
       "    <tr>\n",
       "      <th>sax_8</th>\n",
       "      <td>-41.226474</td>\n",
       "      <td>-41.226474</td>\n",
       "    </tr>\n",
       "    <tr>\n",
       "      <th>sax_7</th>\n",
       "      <td>-31.206474</td>\n",
       "      <td>-31.206474</td>\n",
       "    </tr>\n",
       "    <tr>\n",
       "      <th>sax_6</th>\n",
       "      <td>-21.186474</td>\n",
       "      <td>-21.186474</td>\n",
       "    </tr>\n",
       "    <tr>\n",
       "      <th>sax_5</th>\n",
       "      <td>-11.166474</td>\n",
       "      <td>-11.166474</td>\n",
       "    </tr>\n",
       "  </tbody>\n",
       "</table>\n",
       "</div>"
      ],
      "text/plain": [
       "        SliceLocation  DicomSliceLocation\n",
       "Slice                                    \n",
       "sax_18    -111.366493         -111.366493\n",
       "sax_17    -111.366487         -111.366487\n",
       "sax_38    -111.366487         -111.366487\n",
       "sax_15    -101.346516         -101.346516\n",
       "sax_16    -101.346487         -101.346487\n",
       "sax_14     -91.326518          -91.326518\n",
       "sax_13     -81.306517          -81.306517\n",
       "sax_12     -71.286516          -71.286516\n",
       "sax_57     -71.286516          -71.286516\n",
       "sax_11     -71.286474          -71.286474\n",
       "sax_10     -61.266473          -61.266473\n",
       "sax_9      -51.246474          -51.246474\n",
       "sax_8      -41.226474          -41.226474\n",
       "sax_7      -31.206474          -31.206474\n",
       "sax_6      -21.186474          -21.186474\n",
       "sax_5      -11.166474          -11.166474"
      ]
     },
     "execution_count": 159,
     "metadata": {},
     "output_type": "execute_result"
    }
   ],
   "source": [
    "df[df['PatientID']=='1'][['Slice','SliceLocation','DicomSliceLocation']].groupby('Slice').max().sort_values(['SliceLocation'])"
   ]
  },
  {
   "cell_type": "code",
   "execution_count": null,
   "metadata": {
    "collapsed": true
   },
   "outputs": [],
   "source": []
  }
 ],
 "metadata": {
  "kernelspec": {
   "display_name": "Python 2",
   "language": "python",
   "name": "python2"
  },
  "language_info": {
   "codemirror_mode": {
    "name": "ipython",
    "version": 2
   },
   "file_extension": ".py",
   "mimetype": "text/x-python",
   "name": "python",
   "nbconvert_exporter": "python",
   "pygments_lexer": "ipython2",
   "version": "2.7.11"
  }
 },
 "nbformat": 4,
 "nbformat_minor": 2
}
