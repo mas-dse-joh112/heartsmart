{
 "cells": [
  {
   "cell_type": "code",
   "execution_count": null,
   "metadata": {},
   "outputs": [],
   "source": [
    "import pydicom as dm\n",
    "import pylab\n",
    "#import cv2\n",
    "import pylab\n",
    "import numpy as np\n",
    "import pylab as pl\n",
    "import scipy.misc \n",
    "import numpy as np\n",
    "import matplotlib.pyplot as plt\n",
    "import glob\n",
    "from skimage import data, color\n",
    "from skimage.transform import hough_circle, hough_circle_peaks\n",
    "from skimage.feature import canny\n",
    "from skimage.draw import circle_perimeter\n",
    "from skimage.util import img_as_ubyte\n",
    "from skimage.util import crop, pad     \n"
   ]
  },
  {
   "cell_type": "code",
   "execution_count": null,
   "metadata": {},
   "outputs": [],
   "source": [
    "hough_radii = np.arange(20, 35, 2)\n"
   ]
  },
  {
   "cell_type": "code",
   "execution_count": null,
   "metadata": {},
   "outputs": [],
   "source": [
    "hough_radii"
   ]
  },
  {
   "cell_type": "markdown",
   "metadata": {},
   "source": [
    "# Patient id "
   ]
  },
  {
   "cell_type": "code",
   "execution_count": null,
   "metadata": {
    "collapsed": true
   },
   "outputs": [],
   "source": [
    "n=429"
   ]
  },
  {
   "cell_type": "code",
   "execution_count": null,
   "metadata": {
    "collapsed": true
   },
   "outputs": [],
   "source": [
    "def Patient_slice_get_sax_slice(path,patient):\n",
    "    fullpath=str(path)+str(patient)+'/study/sax_*/'\n",
    "    L=glob.glob(fullpath)\n",
    "    F=[]\n",
    "    for i in L:\n",
    "        F.append(i.split('_')[1].split('/')[0])\n",
    "    return F"
   ]
  },
  {
   "cell_type": "code",
   "execution_count": null,
   "metadata": {
    "collapsed": true
   },
   "outputs": [],
   "source": [
    "def Get_images_path_patient_sax_slice(path,patient,saxslice):\n",
    "        fullpath=str(path)+str(patient)+'/study/sax_'+saxslice+'/*'\n",
    "        L=glob.glob(fullpath)\n",
    "        return L"
   ]
  },
  {
   "cell_type": "code",
   "execution_count": null,
   "metadata": {
    "collapsed": true
   },
   "outputs": [],
   "source": [
    "def fourier_transform(L):\n",
    "    ds = dm.read_file(L[0])\n",
    "    finalArray = np.zeros((ds.pixel_array.shape[0], ds.pixel_array.shape[1], len(L)))\n",
    "    for index, image in enumerate(L):\n",
    "        ds = dm.read_file(L[index])\n",
    "        toFill = ds.pixel_array\n",
    "        finalArray[:, :, index] = toFill\n",
    "    ff=np.fft.fft(finalArray)\n",
    "    return ff"
   ]
  },
  {
   "cell_type": "code",
   "execution_count": null,
   "metadata": {
    "collapsed": true
   },
   "outputs": [],
   "source": [
    "def harmonic_number(L,n):\n",
    "    B=fourier_transform(L)\n",
    "    harmonic_n = np.abs(B[:,:,n])\n",
    "    pylab.imshow(harmonic_n)\n",
    "    pylab.show() \n",
    "    return  harmonic_n  \n",
    "    "
   ]
  },
  {
   "cell_type": "code",
   "execution_count": null,
   "metadata": {
    "collapsed": true
   },
   "outputs": [],
   "source": [
    "def crop_image(  image,  crop_mask  ):\n",
    "    \n",
    "    ''' Crop the non_zeros pixels of an image  to a new image \n",
    "         \n",
    "         \n",
    "    '''\n",
    "    pxlst = np.where(crop_mask.ravel())[0]\n",
    "    dims = crop_mask.shape\n",
    "    imgwidthy = dims[1]   #dimension in y, but in plot being x\n",
    "    imgwidthx = dims[0]   #dimension in x, but in plot being y\n",
    "    #x and y are flipped???\n",
    "    #matrix notation!!!\n",
    "    pixely = pxlst%imgwidthy\n",
    "    pixelx = pxlst//imgwidthy\n",
    "\n",
    "    minpixelx = np.min(pixelx)\n",
    "    minpixely = np.min(pixely)\n",
    "    maxpixelx = np.max(pixelx)\n",
    "    maxpixely = np.max(pixely) \n",
    "    crops = crop_mask*image\n",
    "    img_crop = crop(  crops, ((minpixelx, imgwidthx -  maxpixelx -1 ),\n",
    "                                (minpixely, imgwidthy -  maxpixely -1 )) )\n",
    "    return img_crop "
   ]
  },
  {
   "cell_type": "code",
   "execution_count": null,
   "metadata": {
    "collapsed": true
   },
   "outputs": [],
   "source": [
    "def high_variance(L):\n",
    "    x=0\n",
    "    y=0\n",
    "    for i in L:\n",
    "        ds = dm.read_file(i)\n",
    "        x=ds.pixel_array+x\n",
    "    x=x/(len(L)) \n",
    "    for j in L:\n",
    "        ds = dm.read_file(j)\n",
    "        y=(ds.pixel_array-x)**2+y\n",
    "        y=y/(len(L))\n",
    "    return y   "
   ]
  },
  {
   "cell_type": "code",
   "execution_count": null,
   "metadata": {
    "collapsed": true
   },
   "outputs": [],
   "source": [
    "G=Patient_slice_get_sax_slice('/Users/egouda/Downloads/train/',n)"
   ]
  },
  {
   "cell_type": "code",
   "execution_count": null,
   "metadata": {},
   "outputs": [],
   "source": [
    " D=[]\n",
    "E=[]\n",
    "for i in G:\n",
    "    print (i)\n",
    "    LL=Get_images_path_patient_sax_slice('/Users/egouda/Downloads/train/',n,i)\n",
    "    A=harmonic_number(LL,1)\n",
    "    B=high_variance(LL)\n",
    "    D.append(A)\n",
    "    E.append(B)\n",
    "    \n",
    "    "
   ]
  },
  {
   "cell_type": "code",
   "execution_count": null,
   "metadata": {
    "collapsed": true
   },
   "outputs": [],
   "source": [
    "F=[]"
   ]
  },
  {
   "cell_type": "code",
   "execution_count": null,
   "metadata": {
    "collapsed": true
   },
   "outputs": [],
   "source": [
    "for i in range(len(D)):\n",
    "    x=D[i]+E[i]\n",
    "    F.append(x)          \n",
    "               "
   ]
  },
  {
   "cell_type": "code",
   "execution_count": null,
   "metadata": {},
   "outputs": [],
   "source": [
    "for t in F:\n",
    "    pylab.imshow(t)\n",
    "    pylab.show()\n",
    "    "
   ]
  },
  {
   "cell_type": "code",
   "execution_count": null,
   "metadata": {
    "collapsed": true
   },
   "outputs": [],
   "source": [
    "Total_final_array=np.zeros((F[1].shape[0],F[1].shape[1]))\n",
    "Total_final_array_Fourier = np.zeros((D[1].shape[0],D[1].shape[1]))\n",
    "Total_final_array_Varience=np.zeros((E[1].shape[0],E[1].shape[1]))"
   ]
  },
  {
   "cell_type": "code",
   "execution_count": null,
   "metadata": {},
   "outputs": [],
   "source": [
    "print (Total_final_array_Fourier.shape)\n",
    "print (Total_final_array_Varience.shape)\n",
    "print (Total_final_array.shape)"
   ]
  },
  {
   "cell_type": "code",
   "execution_count": null,
   "metadata": {
    "collapsed": true
   },
   "outputs": [],
   "source": [
    "# kernal=np.ones((5,5),'uint8')\n",
    "# for i in F:\n",
    "#     result = cv2.GaussianBlur(i, (5, 5), 0)\n",
    "#     erode=cv2.erode(result,kernal,iterations=5)\n",
    "#     dilate=cv2.dilate(erode,kernal,iterations=5)\n",
    "#     Total_final_array=Total_final_array+dilate\n",
    "    "
   ]
  },
  {
   "cell_type": "code",
   "execution_count": null,
   "metadata": {
    "collapsed": true
   },
   "outputs": [],
   "source": [
    "Total_final_array_Varience=np.zeros((E[1].shape[0],E[1].shape[1]))\n",
    "for i in E:\n",
    "    #result = cv2.GaussianBlur(i, (5, 5), 0)\n",
    "    #erode=cv2.erode(result,kernal,iterations=5)\n",
    "    #dilate=cv2.dilate(erode,kernal,iterations=5)\n",
    "    Total_final_array_Varience=Total_final_array_Varience+i"
   ]
  },
  {
   "cell_type": "code",
   "execution_count": null,
   "metadata": {
    "collapsed": true
   },
   "outputs": [],
   "source": [
    "Total_final_array_Fourier=np.zeros((E[1].shape[0],E[1].shape[1]))\n",
    "for i in D:\n",
    "    #result = cv2.GaussianBlur(i, (5, 5), 0)\n",
    "    #erode=cv2.erode(result,kernal,iterations=5)\n",
    "    #dilate=cv2.dilate(erode,kernal,iterations=5)\n",
    "    Total_final_array_Fourier=Total_final_array_Fourier+i"
   ]
  },
  {
   "cell_type": "code",
   "execution_count": null,
   "metadata": {},
   "outputs": [],
   "source": [
    "pylab.imshow(Total_final_array_Fourier)\n",
    "pylab.show() "
   ]
  },
  {
   "cell_type": "code",
   "execution_count": null,
   "metadata": {},
   "outputs": [],
   "source": [
    "pylab.imshow(Total_final_array_Varience)\n",
    "pylab.show() "
   ]
  },
  {
   "cell_type": "code",
   "execution_count": null,
   "metadata": {
    "collapsed": true
   },
   "outputs": [],
   "source": [
    "Total_final_array=Total_final_array_Varience+Total_final_array_Fourier"
   ]
  },
  {
   "cell_type": "code",
   "execution_count": null,
   "metadata": {},
   "outputs": [],
   "source": [
    "pylab.imshow(Total_final_array)\n",
    "pylab.show()"
   ]
  },
  {
   "cell_type": "code",
   "execution_count": null,
   "metadata": {},
   "outputs": [],
   "source": [
    "for j in E:\n",
    "    pylab.imshow(j)\n",
    "    pylab.show() \n",
    "    "
   ]
  },
  {
   "cell_type": "code",
   "execution_count": null,
   "metadata": {
    "collapsed": true
   },
   "outputs": [],
   "source": [
    "# Load picture and detect edges\n",
    "V=[]\n",
    "for i in F:   \n",
    "    image = i\n",
    "    edges = canny(image, sigma=3, low_threshold=10, high_threshold=100)\n",
    "\n",
    "\n",
    "    # Detect two radii\n",
    "    hough_radii = np.arange(20, 35, 2)\n",
    "    hough_res = hough_circle(edges, hough_radii)\n",
    "\n",
    "    # Select the most prominent 5 circles\n",
    "    accums, cx, cy, radii = hough_circle_peaks(hough_res, hough_radii,\n",
    "                                               total_num_peaks=5)\n",
    "\n",
    "    # Draw them\n",
    "    #fig, ax = plt.subplots(ncols=1, nrows=1, figsize=(10, 4))\n",
    "    image = color.gray2rgb(image)\n",
    "    for center_y, center_x, radius in zip(cy, cx, radii):\n",
    "        circy, circx = circle_perimeter(center_y, center_x, radius)\n",
    "        image[circy, circx] = (220, 20, 20)\n",
    "    #ax.imshow(image)\n",
    "    #plt.show()\n",
    "    imagex=image[:,:,1]-image[:,:,0]\n",
    "    V.append(imagex)"
   ]
  },
  {
   "cell_type": "code",
   "execution_count": null,
   "metadata": {},
   "outputs": [],
   "source": [
    "Total_final_array_H=np.zeros((F[1].shape[0],F[1].shape[1]))\n",
    "for i in V:\n",
    "    Total_final_array_H=Total_final_array_H+i\n",
    "    pylab.imshow(i)\n",
    "    pylab.show()\n"
   ]
  },
  {
   "cell_type": "code",
   "execution_count": null,
   "metadata": {},
   "outputs": [],
   "source": [
    "Total_final_array_H"
   ]
  },
  {
   "cell_type": "code",
   "execution_count": null,
   "metadata": {},
   "outputs": [],
   "source": [
    "edges = canny( Total_final_array_H, sigma=3, low_threshold=10, high_threshold=20)\n",
    "height=Total_final_array_H.shape[0]\n",
    "width=Total_final_array_H.shape[1]\n",
    "binary = np.zeros([height,width],'uint8')\n",
    "for row in range(0,height):\n",
    "    for col in range(0, width):\n",
    "        if edges.sum(axis=0)[col]*edges.sum(axis=1)[row]>0 :\n",
    "            binary[row][col]=1"
   ]
  },
  {
   "cell_type": "code",
   "execution_count": null,
   "metadata": {
    "collapsed": true
   },
   "outputs": [],
   "source": [
    "# Bx=[]\n",
    "# for i in V:\n",
    "#     edges = canny(i, sigma=3, low_threshold=10, high_threshold=20)\n",
    "#     Bx.append(edges)\n",
    "#     pylab.imshow(edges)\n",
    "#     pylab.show()"
   ]
  },
  {
   "cell_type": "code",
   "execution_count": null,
   "metadata": {
    "collapsed": true
   },
   "outputs": [],
   "source": [
    "# for i in Bx:\n",
    "#     pylab.imshow(i)\n",
    "#     pylab.show()\n",
    "    "
   ]
  },
  {
   "cell_type": "code",
   "execution_count": null,
   "metadata": {
    "collapsed": true
   },
   "outputs": [],
   "source": [
    "# binary = np.zeros([height,width],'uint8')\n",
    "# for i in Bx:\n",
    "#     binary=binary+i\n",
    "#     pylab.imshow(binary)\n",
    "#     pylab.show()\n",
    "    "
   ]
  },
  {
   "cell_type": "code",
   "execution_count": null,
   "metadata": {
    "collapsed": true,
    "scrolled": true
   },
   "outputs": [],
   "source": [
    "# edges = canny(binary, sigma=3, low_threshold=10, high_threshold=10)"
   ]
  },
  {
   "cell_type": "code",
   "execution_count": null,
   "metadata": {
    "collapsed": true
   },
   "outputs": [],
   "source": [
    "# pylab.imshow(binary)\n",
    "# pylab.show()"
   ]
  },
  {
   "cell_type": "code",
   "execution_count": null,
   "metadata": {},
   "outputs": [],
   "source": [
    "pylab.imshow(binary)\n",
    "pylab.show()"
   ]
  },
  {
   "cell_type": "code",
   "execution_count": null,
   "metadata": {},
   "outputs": [],
   "source": [
    "from skimage import measure\n",
    "contours = measure.find_contours(binary,0.8)"
   ]
  },
  {
   "cell_type": "code",
   "execution_count": null,
   "metadata": {},
   "outputs": [],
   "source": [
    "contours[1].shape"
   ]
  },
  {
   "cell_type": "code",
   "execution_count": null,
   "metadata": {},
   "outputs": [],
   "source": [
    "fig, ax = plt.subplots()\n",
    "ax.imshow(binary, interpolation='nearest', cmap=plt.cm.gray)\n",
    "\n",
    "for n, contour in enumerate(contours):\n",
    "    ax.plot(contour[:, 1], contour[:, 0], linewidth=2)\n",
    "\n",
    "ax.axis('image')\n",
    "ax.set_xticks([])\n",
    "ax.set_yticks([])\n",
    "plt.show()\n"
   ]
  },
  {
   "cell_type": "code",
   "execution_count": null,
   "metadata": {
    "collapsed": true
   },
   "outputs": [],
   "source": [
    "X=[]\n",
    "Y=[]\n",
    "for i in G:\n",
    "    LL=Get_images_path_patient_sax_slice('/Users/egouda/Downloads/train/',n,i)\n",
    "    for j in LL:\n",
    "        ds = dm.read_file(j)\n",
    "        t=ds.pixel_array\n",
    "        c=crop_image(t,binary)\n",
    "        d=t*binary\n",
    "        X.append(c)\n",
    "        Y.append(d)"
   ]
  },
  {
   "cell_type": "code",
   "execution_count": null,
   "metadata": {
    "scrolled": false
   },
   "outputs": [],
   "source": [
    "for i in Y:\n",
    "    pylab.imshow(i,cmap=pylab.cm.bone)\n",
    "    pylab.show()"
   ]
  },
  {
   "cell_type": "code",
   "execution_count": null,
   "metadata": {},
   "outputs": [],
   "source": [
    "for i in X:\n",
    "    pylab.imshow(i,cmap=pylab.cm.bone)\n",
    "    pylab.show()"
   ]
  },
  {
   "cell_type": "code",
   "execution_count": null,
   "metadata": {
    "collapsed": true
   },
   "outputs": [],
   "source": [
    "# Load picture and detect edges\n",
    "V=[]\n",
    "for i in X:   \n",
    "    image = i\n",
    "    edges = canny(image, sigma=3, low_threshold=10, high_threshold=100)\n",
    "\n",
    "\n",
    "    # Detect two radii\n",
    "    hough_radii = np.arange(20, 35, 2)\n",
    "    hough_res = hough_circle(edges, hough_radii)\n",
    "\n",
    "    # Select the most prominent 5 circles\n",
    "    accums, cx, cy, radii = hough_circle_peaks(hough_res, hough_radii,\n",
    "                                               total_num_peaks=5)\n",
    "\n",
    "    # Draw them\n",
    "    #fig, ax = plt.subplots(ncols=1, nrows=1, figsize=(10, 4))\n",
    "    image = color.gray2rgb(image)\n",
    "    for center_y, center_x, radius in zip(cy, cx, radii):\n",
    "        circy, circx = circle_perimeter(center_y, center_x, radius)\n",
    "        #image[circy, circx] = (220, 20, 20)\n",
    "    #ax.imshow(image)\n",
    "    #plt.show()\n",
    "    imagex=image[:,:,1]-image[:,:,0]\n",
    "    V.append(imagex)"
   ]
  },
  {
   "cell_type": "code",
   "execution_count": null,
   "metadata": {},
   "outputs": [],
   "source": [
    "len(V)"
   ]
  },
  {
   "cell_type": "code",
   "execution_count": null,
   "metadata": {
    "collapsed": true
   },
   "outputs": [],
   "source": [
    "def dislplay_list(L):\n",
    "    for i in L:\n",
    "        pylab.imshow(i)\n",
    "        pylab.show()\n",
    "        "
   ]
  },
  {
   "cell_type": "code",
   "execution_count": null,
   "metadata": {},
   "outputs": [],
   "source": [
    "dislplay_list(V)"
   ]
  },
  {
   "cell_type": "code",
   "execution_count": null,
   "metadata": {},
   "outputs": [],
   "source": [
    "import numpy as np\n",
    "from sklearn.decomposition import PCA\n",
    "X =np.zeros((ds.pixel_array.shape[0], ds.pixel_array.shape[1], 30))\n",
    "pca = PCA(n_components=1)\n",
    "pca.componrnt = True\n",
    "newX = pca.fit_transform(X)\n",
    "print (newX)"
   ]
  },
  {
   "cell_type": "code",
   "execution_count": null,
   "metadata": {
    "collapsed": true
   },
   "outputs": [],
   "source": [
    "len(D)"
   ]
  },
  {
   "cell_type": "code",
   "execution_count": null,
   "metadata": {
    "collapsed": true
   },
   "outputs": [],
   "source": [
    "Bx=[]\n",
    "for i in D:\n",
    "    x=i.flatten()\n",
    "    Bx.append(x)"
   ]
  },
  {
   "cell_type": "code",
   "execution_count": null,
   "metadata": {
    "collapsed": true
   },
   "outputs": [],
   "source": [
    "i.shape"
   ]
  },
  {
   "cell_type": "code",
   "execution_count": null,
   "metadata": {
    "collapsed": true
   },
   "outputs": [],
   "source": [
    "import pandas as pd"
   ]
  },
  {
   "cell_type": "code",
   "execution_count": null,
   "metadata": {
    "collapsed": true
   },
   "outputs": [],
   "source": [
    "df = pd.DataFrame(Bx)\n"
   ]
  },
  {
   "cell_type": "code",
   "execution_count": null,
   "metadata": {
    "collapsed": true
   },
   "outputs": [],
   "source": [
    "df.transpose().values"
   ]
  },
  {
   "cell_type": "code",
   "execution_count": null,
   "metadata": {
    "collapsed": true
   },
   "outputs": [],
   "source": [
    "import numpy as np\n",
    "from sklearn.decomposition import PCA\n",
    "X =df.transpose().values\n",
    "pca = PCA(n_components=1)\n",
    "pca.componrnt = True\n",
    "newX = pca.fit_transform(X)\n",
    "print (newX)"
   ]
  },
  {
   "cell_type": "code",
   "execution_count": null,
   "metadata": {},
   "outputs": [],
   "source": [
    "newX"
   ]
  },
  {
   "cell_type": "code",
   "execution_count": null,
   "metadata": {
    "collapsed": true
   },
   "outputs": [],
   "source": [
    "img_PCA=newX.reshape((180, 256))*newX.reshape((180, 256))"
   ]
  },
  {
   "cell_type": "code",
   "execution_count": null,
   "metadata": {},
   "outputs": [],
   "source": [
    "np.log(img_PCA)"
   ]
  },
  {
   "cell_type": "code",
   "execution_count": null,
   "metadata": {},
   "outputs": [],
   "source": [
    "pylab.imshow(np.log(img_PCA)*np.log(img_PCA)*np.log(img_PCA))\n",
    "pylab.show()"
   ]
  },
  {
   "cell_type": "code",
   "execution_count": null,
   "metadata": {
    "collapsed": true
   },
   "outputs": [],
   "source": [
    "PCA_image=np.log(img_PCA)*np.log(img_PCA)*np.log(img_PCA)\n"
   ]
  },
  {
   "cell_type": "code",
   "execution_count": null,
   "metadata": {
    "collapsed": true
   },
   "outputs": [],
   "source": [
    "# Load picture and detect edges\n",
    "image = PCA_image\n",
    "edges = canny(image, sigma=3, low_threshold=10, high_threshold=100)\n",
    "\n",
    "\n",
    "# Detect two radii\n",
    "hough_radii = np.arange(20, 35, 2)\n",
    "hough_res = hough_circle(edges, hough_radii)\n",
    "\n",
    "# Select the most prominent 5 circles\n",
    "accums, cx, cy, radii = hough_circle_peaks(hough_res, hough_radii,\n",
    "                                           total_num_peaks=5)\n",
    "\n",
    "# Draw them\n",
    "fig, ax = plt.subplots(ncols=1, nrows=1, figsize=(10, 4))\n",
    "image = color.gray2rgb(image)\n",
    "for center_y, center_x, radius in zip(cy, cx, radii):\n",
    "    circy, circx = circle_perimeter(center_y, center_x, radius)\n",
    "    image[circy, circx] = (220, 20, 20)\n",
    "#ax.imshow(image)\n",
    "#plt.show()"
   ]
  },
  {
   "cell_type": "code",
   "execution_count": null,
   "metadata": {
    "collapsed": true
   },
   "outputs": [],
   "source": [
    "imagex=image[:,:,1]-image[:,:,0]"
   ]
  },
  {
   "cell_type": "code",
   "execution_count": null,
   "metadata": {},
   "outputs": [],
   "source": [
    "pylab.imshow(imagex)\n",
    "pylab.show()"
   ]
  },
  {
   "cell_type": "code",
   "execution_count": null,
   "metadata": {
    "collapsed": true
   },
   "outputs": [],
   "source": [
    "edges = canny(imagex, sigma=3, low_threshold=10, high_threshold=50)"
   ]
  },
  {
   "cell_type": "code",
   "execution_count": null,
   "metadata": {
    "collapsed": true
   },
   "outputs": [],
   "source": []
  },
  {
   "cell_type": "code",
   "execution_count": null,
   "metadata": {
    "collapsed": true
   },
   "outputs": [],
   "source": [
    "height=imagex.shape[0]\n",
    "width=imagex.shape[1]\n",
    "binary = np.zeros([height,width],'uint8')\n",
    "\n",
    "\n",
    "for row in range(0,height):\n",
    "    for col in range(0, width):\n",
    "        if Total_final_array[row][col]*edges.sum(axis=0)[col]*edges.sum(axis=1)[row]>0 :\n",
    "            binary[row][col]=1"
   ]
  },
  {
   "cell_type": "code",
   "execution_count": null,
   "metadata": {},
   "outputs": [],
   "source": [
    "pylab.imshow(binary)\n",
    "pylab.show()"
   ]
  },
  {
   "cell_type": "code",
   "execution_count": null,
   "metadata": {},
   "outputs": [],
   "source": [
    "\n",
    "import matplotlib.pyplot as plt\n",
    "\n",
    "from skimage import measure\n",
    "\n",
    "\n",
    "\n",
    "\n",
    "# Find contours at a constant value of 0.8\n",
    "contours = measure.find_contours(imagex, 0.8)\n",
    "\n",
    "# Display the image and plot all contours found\n",
    "fig, ax = plt.subplots()\n",
    "ax.imshow(imagex, interpolation='nearest', cmap=plt.cm.gray)\n",
    "\n",
    "for n, contour in enumerate(contours):\n",
    "    ax.plot(contour[:, 1], contour[:, 0], linewidth=2)\n",
    "\n",
    "ax.axis('image')\n",
    "ax.set_xticks([])\n",
    "ax.set_yticks([])\n",
    "plt.show()"
   ]
  },
  {
   "cell_type": "code",
   "execution_count": null,
   "metadata": {
    "collapsed": true
   },
   "outputs": [],
   "source": [
    "X=[]\n",
    "for i in G:\n",
    "    LL=Get_images_path_patient_sax_slice('/Users/egouda/Downloads/train/',n,i)\n",
    "    for j in LL:\n",
    "        ds = dm.read_file(j)\n",
    "        t=ds.pixel_array\n",
    "        c=crop_image(t,binary)\n",
    "        X.append(c)"
   ]
  },
  {
   "cell_type": "code",
   "execution_count": null,
   "metadata": {},
   "outputs": [],
   "source": [
    "for i in X:\n",
    "    pylab.imshow(i,cmap=pylab.cm.bone)\n",
    "    pylab.show()"
   ]
  },
  {
   "cell_type": "code",
   "execution_count": null,
   "metadata": {
    "collapsed": true
   },
   "outputs": [],
   "source": [
    "P=[]\n",
    "for i in G:\n",
    "    LL=Get_images_path_patient_sax_slice('/Users/egouda/Downloads/train/',n,i)\n",
    "    for j in LL:\n",
    "            ds = dm.read_file(j)\n",
    "            x=ds.pixel_array.flatten()\n",
    "            P.append(x)"
   ]
  },
  {
   "cell_type": "code",
   "execution_count": null,
   "metadata": {},
   "outputs": [],
   "source": [
    "n"
   ]
  },
  {
   "cell_type": "code",
   "execution_count": null,
   "metadata": {},
   "outputs": [],
   "source": [
    "ds.pixel_array.shape"
   ]
  },
  {
   "cell_type": "code",
   "execution_count": null,
   "metadata": {},
   "outputs": [],
   "source": [
    "len(P)"
   ]
  },
  {
   "cell_type": "code",
   "execution_count": null,
   "metadata": {
    "collapsed": true
   },
   "outputs": [],
   "source": [
    "df = pd.DataFrame(P)"
   ]
  },
  {
   "cell_type": "code",
   "execution_count": null,
   "metadata": {},
   "outputs": [],
   "source": [
    "df"
   ]
  },
  {
   "cell_type": "code",
   "execution_count": null,
   "metadata": {},
   "outputs": [],
   "source": [
    "import numpy as np\n",
    "from sklearn.decomposition import PCA\n",
    "X =df.transpose().values\n",
    "pca = PCA(n_components=1)\n",
    "pca.componrnt = True\n",
    "newX = pca.fit_transform(X)\n",
    "print (newX)"
   ]
  },
  {
   "cell_type": "code",
   "execution_count": null,
   "metadata": {},
   "outputs": [],
   "source": [
    "newX.shape"
   ]
  },
  {
   "cell_type": "code",
   "execution_count": null,
   "metadata": {
    "collapsed": true
   },
   "outputs": [],
   "source": [
    "img_PCA=newX.reshape((256, 230))"
   ]
  },
  {
   "cell_type": "code",
   "execution_count": null,
   "metadata": {},
   "outputs": [],
   "source": [
    "(img_PCA)**2"
   ]
  },
  {
   "cell_type": "code",
   "execution_count": null,
   "metadata": {},
   "outputs": [],
   "source": [
    "TT=np.log(img_PCA)\n"
   ]
  },
  {
   "cell_type": "code",
   "execution_count": null,
   "metadata": {},
   "outputs": [],
   "source": [
    "pylab.imshow(TT)\n",
    "pylab.show()"
   ]
  },
  {
   "cell_type": "code",
   "execution_count": null,
   "metadata": {},
   "outputs": [],
   "source": [
    "D=[]\n",
    "E=[]\n",
    "for i in G:\n",
    "    print i\n",
    "    LL=Get_images_path_patient_sax_slice('/Users/egouda/Downloads/train/',n,i)\n",
    "    A=harmonic_number(LL,1)\n",
    "    B=high_variance(LL)\n",
    "    D.append(A)\n",
    "    E.append(B)"
   ]
  },
  {
   "cell_type": "code",
   "execution_count": null,
   "metadata": {
    "collapsed": true
   },
   "outputs": [],
   "source": [
    "Total_final_array_PCA=np.zeros((D[1].shape[0],D[1].shape[1]))\n",
    "for i in D:\n",
    "    #result = cv2.GaussianBlur(i, (5, 5), 0)\n",
    "    #erode=cv2.erode(result,kernal,iterations=5)\n",
    "    #dilate=cv2.dilate(erode,kernal,iterations=5)\n",
    "    Total_final_array_PCA=Total_final_array_PCA+i"
   ]
  },
  {
   "cell_type": "code",
   "execution_count": null,
   "metadata": {},
   "outputs": [],
   "source": [
    "pylab.imshow(TT)\n",
    "pylab.show()"
   ]
  },
  {
   "cell_type": "code",
   "execution_count": null,
   "metadata": {},
   "outputs": [],
   "source": [
    "pylab.imshow(Total_final_array_PCA-TT)\n",
    "pylab.show()"
   ]
  },
  {
   "cell_type": "code",
   "execution_count": null,
   "metadata": {
    "collapsed": true
   },
   "outputs": [],
   "source": []
  }
 ],
 "metadata": {
  "kernelspec": {
   "display_name": "Python 3",
   "language": "python",
   "name": "python3"
  },
  "language_info": {
   "codemirror_mode": {
    "name": "ipython",
    "version": 3
   },
   "file_extension": ".py",
   "mimetype": "text/x-python",
   "name": "python",
   "nbconvert_exporter": "python",
   "pygments_lexer": "ipython3",
   "version": "3.6.0"
  },
  "latex_envs": {
   "LaTeX_envs_menu_present": true,
   "autocomplete": true,
   "bibliofile": "biblio.bib",
   "cite_by": "apalike",
   "current_citInitial": 1,
   "eqLabelWithNumbers": true,
   "eqNumInitial": 1,
   "hotkeys": {
    "equation": "Ctrl-E",
    "itemize": "Ctrl-I"
   },
   "labels_anchors": false,
   "latex_user_defs": false,
   "report_style_numbering": false,
   "user_envs_cfg": false
  }
 },
 "nbformat": 4,
 "nbformat_minor": 2
}
