{
 "cells": [
  {
   "cell_type": "code",
   "execution_count": 1,
   "metadata": {},
   "outputs": [
    {
     "name": "stderr",
     "output_type": "stream",
     "text": [
      "/usr/local/lib/python3.5/dist-packages/dicom/__init__.py:53: UserWarning: \n",
      "This code is using an older version of pydicom, which is no longer \n",
      "maintained as of Jan 2017.  You can access the new pydicom features and API \n",
      "by installing `pydicom` from PyPI.\n",
      "See 'Transitioning to pydicom 1.x' section at pydicom.readthedocs.org \n",
      "for more information.\n",
      "\n",
      "  warnings.warn(msg)\n",
      "/usr/local/lib/python3.5/dist-packages/h5py/__init__.py:36: FutureWarning: Conversion of the second argument of issubdtype from `float` to `np.floating` is deprecated. In future, it will be treated as `np.float64 == np.dtype(float).type`.\n",
      "  from ._conv import register_converters as _register_converters\n"
     ]
    }
   ],
   "source": [
    "import dicom\n",
    "import numpy as np\n",
    "import os\n",
    "import glob\n",
    "import nibabel as nib"
   ]
  },
  {
   "cell_type": "code",
   "execution_count": 2,
   "metadata": {},
   "outputs": [],
   "source": [
    "ACDCimgpath='/opt/data/acdc/niftidata/'\n",
    "ACDClblpath='/opt/output/acdc/norm/1/3/labels/'"
   ]
  },
  {
   "cell_type": "code",
   "execution_count": 3,
   "metadata": {},
   "outputs": [],
   "source": [
    "ACDClbls=glob.glob(ACDClblpath)"
   ]
  },
  {
   "cell_type": "code",
   "execution_count": null,
   "metadata": {},
   "outputs": [
    {
     "name": "stdout",
     "output_type": "stream",
     "text": [
      "A slice has one frame\n",
      "slice8 ['frame1']\n",
      "A slice has one frame\n",
      "slice1 ['frame1']\n",
      "A slice has one frame\n",
      "slice1 ['frame1']\n",
      "A slice has one frame\n",
      "slice2 ['frame1']\n",
      "A slice has one frame\n",
      "slice1 ['frame1']\n",
      "A slice has one frame\n",
      "slice9 ['frame1']\n",
      "A slice has one frame\n",
      "slice10 ['frame1']\n",
      "A slice has one frame\n",
      "slice2 ['frame1']\n",
      "A slice has one frame\n",
      "slice14 ['frame1']\n",
      "A slice has one frame\n",
      "slice8 ['frame1']\n",
      "A slice has one frame\n",
      "slice14 ['frame1']\n",
      "A slice has one frame\n",
      "slice10 ['frame1']\n",
      "A slice has one frame\n",
      "slice1 ['frame1']\n",
      "A slice has one frame\n",
      "slice10 ['frame1']\n",
      "A slice has one frame\n",
      "slice9 ['frame1']\n",
      "A slice has one frame\n",
      "slice10 ['frame1']\n",
      "A slice has one frame\n",
      "slice10 ['frame1']\n",
      "A slice has one frame\n",
      "slice1 ['frame1']\n",
      "A slice has one frame\n",
      "slice11 ['frame1']\n",
      "A slice has one frame\n",
      "slice2 ['frame1']\n",
      "A slice has one frame\n",
      "slice1 ['frame1']\n",
      "A slice has one frame\n",
      "slice8 ['frame1']\n",
      "A slice has one frame\n",
      "slice8 ['frame1']\n",
      "A slice has one frame\n",
      "slice16 ['frame1']\n",
      "A slice has one frame\n",
      "slice1 ['frame1']\n",
      "A slice has one frame\n",
      "slice1 ['frame1']\n",
      "A slice has one frame\n",
      "slice8 ['frame1']\n",
      "A slice has one frame\n",
      "slice1 ['frame1']\n"
     ]
    }
   ],
   "source": [
    "#Find Patients\n",
    "results = []\n",
    "for root, _, files in os.walk(ACDClblpath):\n",
    "    rootnode = root.split(\"/\")\n",
    "    label = rootnode[-2]\n",
    "    patient = rootnode[-1]\n",
    "    patient_path = ACDClblpath + patient\n",
    "    \n",
    "    results.append(patientVolume(patient_path))\n",
    "    \n",
    "    \n",
    "    #print ('rootnode', rootnode, label, patient, files, tempdir)"
   ]
  },
  {
   "cell_type": "code",
   "execution_count": null,
   "metadata": {},
   "outputs": [],
   "source": [
    "results"
   ]
  },
  {
   "cell_type": "code",
   "execution_count": 16,
   "metadata": {},
   "outputs": [],
   "source": [
    "def patientVolume(patient_path):\n",
    "    for root,_, files in os.walk(patient_path):\n",
    "        norm = None\n",
    "        slicedict={}\n",
    "        #slicenumbers=[]\n",
    "        for i in files:\n",
    "            filenode = i.split(\"_\")\n",
    "            #print (filenode)\n",
    "            slicenum = filenode[1]\n",
    "            frame = filenode[2]\n",
    "            lblpath = root +'/'+ i\n",
    "        \n",
    "            #print (i, slicenum, frame)\n",
    "            origframepath = getNiftiHeader(patient, slicenum, frame)\n",
    "\n",
    "            origimg = nib.load(origframepath[2])\n",
    "        \n",
    "            if norm is not None:\n",
    "                ps = origimg.header.get('pixdim')[1]\n",
    "            else: \n",
    "                ps = 1\n",
    "        \n",
    "            thickness = origimg.header.get('pixdim')[3]\n",
    "            lbl = np.load(lblpath)\n",
    "        \n",
    "            frac = getfrac(lbl)\n",
    "            #area = frac * ps * len(lbl)\n",
    "            area = getarea(lbl, frac, ps)\n",
    "            volume = thickness * area\n",
    "            #volume = (thickness/2) * area\n",
    "        \n",
    "            if slicenum in slicedict:\n",
    "                slicedict[slicenum].update({frame:\n",
    "                                            {'fraction': frac,\n",
    "                                             'Area': area, \n",
    "                                             'Volume': volume}})\n",
    "            else:\n",
    "                slicedict[slicenum] = {frame:\n",
    "                                    {'fraction': frac,\n",
    "                                    'Area': area, \n",
    "                                    'Volume': volume}}\n",
    "        \n",
    "        \n",
    "        #slicenumbers[slicenum]=([frame, frac, area, volume])\n",
    "        #print ('rootnode', filenode,slicenum, frame, origframepath, frac, volume)\n",
    "        #print (slicenum, frame, frac, volume)\n",
    "        #return frac, area, volume\n",
    "        ESF, ESV, EDF, EDV = getVolumes(slicedict)\n",
    "        return (patient, ESV, EDV)"
   ]
  },
  {
   "cell_type": "code",
   "execution_count": 21,
   "metadata": {},
   "outputs": [],
   "source": [
    "def getVolumes(slicedict):\n",
    "    ESF = []\n",
    "    ESVlist = []\n",
    "    EDF = []\n",
    "    EDVlist = []\n",
    "    ESArea = []\n",
    "    EDArea = []\n",
    "    SL = []\n",
    "    #print (slicedict)\n",
    "    for key in slicedict:\n",
    "        frames = list(slicedict[key].keys())\n",
    "        #print (frames)\n",
    "        if len(frames) > 2:\n",
    "            print ('A slice has more than two frames')\n",
    "        \n",
    "        if len(frames) < 2:\n",
    "            print ('A slice has one frame')\n",
    "            print (key, frames)\n",
    "            \n",
    "        if len(frames) == 2:\n",
    "            for i in range(len(frames)-1):\n",
    "                #print (slicedict[key][frames[i]]['fraction'], slicedict[key][frames[i+1]]['fraction'] )\n",
    "                if slicedict[key][frames[i]]['fraction'] < slicedict[key][frames[i+1]]['fraction']:\n",
    "                    ESF.append( key +'_'+ frames[i])\n",
    "                    ESVlist.append(slicedict[key][frames[i]]['Volume'])\n",
    "                    EDF.append(key +'_'+ frames[i+1])\n",
    "                    EDVlist.append(slicedict[key][frames[i+1]]['Volume'])\n",
    "                else:\n",
    "                    ESF.append(key +'_'+ frames[i+1])\n",
    "                    ESVlist.append(slicedict[key][frames[i+1]]['Volume'])\n",
    "                    EDF.append(key +'_' + frames [i])\n",
    "                    EDVlist.append(slicedict[key][frames[i]]['Volume'])\n",
    "    \n",
    "    \n",
    "    \n",
    "    ESV = sum(ESVlist)\n",
    "    EDV = sum(EDVlist)\n",
    "    \n",
    "    ESV = ESV / 1000\n",
    "    EDV = EDV / 1000\n",
    "    return ESF, ESV, EDF, EDV"
   ]
  },
  {
   "cell_type": "code",
   "execution_count": 10,
   "metadata": {},
   "outputs": [],
   "source": [
    "def getNiftiHeader(patient, slicenum, framenum):\n",
    "    imgpatientpath = ACDCimgpath+patient\n",
    "    slicepath = imgpatientpath+'/'+patient+'_'+slicenum\n",
    "    num = int(framenum.split('frame')[1])\n",
    "    framepath = slicepath+'/'+patient+'_'+slicenum+'_frame'+str(num)+'.nii'\n",
    "    return imgpatientpath, slicepath, framepath"
   ]
  },
  {
   "cell_type": "code",
   "execution_count": 11,
   "metadata": {},
   "outputs": [],
   "source": [
    "def getfrac(img):\n",
    "    frac = (sum(i == 1 for i in img.flatten()))/float(len(img.flatten()))\n",
    "    return frac"
   ]
  },
  {
   "cell_type": "code",
   "execution_count": 12,
   "metadata": {},
   "outputs": [],
   "source": [
    "def getarea(img, frac, ps): \n",
    "    #area = frac * ((sum(i ==1 for i in img.flatten())) * len(img))\n",
    "    #area = frac * (ps * len(img))\n",
    "    area = frac * (ps*len(img))**2\n",
    "    return area"
   ]
  },
  {
   "cell_type": "code",
   "execution_count": null,
   "metadata": {},
   "outputs": [],
   "source": []
  }
 ],
 "metadata": {
  "anaconda-cloud": {},
  "kernelspec": {
   "display_name": "Python 3",
   "language": "python",
   "name": "python3"
  },
  "language_info": {
   "codemirror_mode": {
    "name": "ipython",
    "version": 3
   },
   "file_extension": ".py",
   "mimetype": "text/x-python",
   "name": "python",
   "nbconvert_exporter": "python",
   "pygments_lexer": "ipython3",
   "version": "3.5.2"
  }
 },
 "nbformat": 4,
 "nbformat_minor": 1
}
