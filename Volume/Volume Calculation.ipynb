{
 "cells": [
  {
   "cell_type": "code",
   "execution_count": 1,
   "metadata": {
    "collapsed": true
   },
   "outputs": [],
   "source": [
    "import dicom\n",
    "import numpy as np\n",
    "import glob"
   ]
  },
  {
   "cell_type": "code",
   "execution_count": 2,
   "metadata": {
    "collapsed": true
   },
   "outputs": [],
   "source": [
    "Path='../Data/Sample data (Sunny brook)/SC-HF-I-1/*'"
   ]
  },
  {
   "cell_type": "code",
   "execution_count": 3,
   "metadata": {
    "collapsed": true
   },
   "outputs": [],
   "source": [
    "files=glob.glob(Path)\n",
    "label_files=[s for s in files if \"label\" in s]"
   ]
  },
  {
   "cell_type": "code",
   "execution_count": 4,
   "metadata": {},
   "outputs": [
    {
     "data": {
      "text/plain": [
       "18"
      ]
     },
     "execution_count": 4,
     "metadata": {},
     "output_type": "execute_result"
    }
   ],
   "source": [
    "len(label_files)"
   ]
  },
  {
   "cell_type": "code",
   "execution_count": 5,
   "metadata": {},
   "outputs": [
    {
     "data": {
      "text/plain": [
       "['../Data/Sample data (Sunny brook)/SC-HF-I-1/IM-0004-0199.dcm.label.npy',\n",
       " '../Data/Sample data (Sunny brook)/SC-HF-I-1/IM-0004-0119.dcm.label.npy',\n",
       " '../Data/Sample data (Sunny brook)/SC-HF-I-1/IM-0004-0059.dcm.label.npy',\n",
       " '../Data/Sample data (Sunny brook)/SC-HF-I-1/IM-0004-0179.dcm.label.npy',\n",
       " '../Data/Sample data (Sunny brook)/SC-HF-I-1/IM-0004-0159.dcm.label.npy',\n",
       " '../Data/Sample data (Sunny brook)/SC-HF-I-1/IM-0004-0079.dcm.label.npy',\n",
       " '../Data/Sample data (Sunny brook)/SC-HF-I-1/IM-0004-0208.dcm.label.npy',\n",
       " '../Data/Sample data (Sunny brook)/SC-HF-I-1/IM-0004-0139.dcm.label.npy',\n",
       " '../Data/Sample data (Sunny brook)/SC-HF-I-1/IM-0004-0099.dcm.label.npy',\n",
       " '../Data/Sample data (Sunny brook)/SC-HF-I-1/IM-0004-0068.dcm.label.npy',\n",
       " '../Data/Sample data (Sunny brook)/SC-HF-I-1/IM-0004-0148.dcm.label.npy',\n",
       " '../Data/Sample data (Sunny brook)/SC-HF-I-1/IM-0004-0088.dcm.label.npy',\n",
       " '../Data/Sample data (Sunny brook)/SC-HF-I-1/IM-0004-0219.dcm.label.npy',\n",
       " '../Data/Sample data (Sunny brook)/SC-HF-I-1/IM-0004-0128.dcm.label.npy',\n",
       " '../Data/Sample data (Sunny brook)/SC-HF-I-1/IM-0004-0188.dcm.label.npy',\n",
       " '../Data/Sample data (Sunny brook)/SC-HF-I-1/IM-0004-0108.dcm.label.npy',\n",
       " '../Data/Sample data (Sunny brook)/SC-HF-I-1/IM-0004-0168.dcm.label.npy',\n",
       " '../Data/Sample data (Sunny brook)/SC-HF-I-1/IM-0004-0048.dcm.label.npy']"
      ]
     },
     "execution_count": 5,
     "metadata": {},
     "output_type": "execute_result"
    }
   ],
   "source": [
    "label_files"
   ]
  },
  {
   "cell_type": "code",
   "execution_count": 6,
   "metadata": {
    "collapsed": true
   },
   "outputs": [],
   "source": [
    "frame_name=[x.strip('../Data/Sample data (Sunny brook)/SC-HF-I-1/') for x in label_files]\n",
    "#print (frame_name)\n",
    "#frame_name=[x.strip('M-000-') for x in frame_name]\n",
    "frame_name=[x[7:] for x in frame_name]\n",
    "#print (frame_name)\n",
    "frame_name=[x.strip('.dc') for x in frame_name]\n",
    "#frame_number=[x.strip('0004-') for x in frame_name]\n",
    "frame_number=sorted(frame_name,key=int)\n",
    "frame_name=[str(x).zfill(4) for x in frame_number]"
   ]
  },
  {
   "cell_type": "code",
   "execution_count": 27,
   "metadata": {
    "collapsed": true
   },
   "outputs": [],
   "source": [
    "imgDict={}\n",
    "slDict={}\n",
    "frac={}\n",
    "area=[]\n",
    "L=[]\n",
    "T=[]\n",
    "for i in range(len(frame_number)):\n",
    "    path=('../Data/Sample data (Sunny brook)/challenge_training/SC-HF-I-1/IM-0004-'+str(frame_name[i])+'.dcm')\n",
    "    imgDict[frame_name[i]]=dicom.read_file(path)\n",
    "    slDict[frame_name[i]]=[np.dot(imgDict[frame_name[i]].ImagePositionPatient,\n",
    "                                 np.cross(imgDict[frame_name[i]].ImageOrientationPatient[0:3],\n",
    "                                         imgDict[frame_name[i]].ImageOrientationPatient[3:])),\n",
    "                           imgDict[frame_name[i]].SliceLocation,\n",
    "                          imgDict[frame_name[i]].ImagePositionPatient]\n",
    "                          #imgDict[frame_name[i]].ImageOrientationPatient]\n",
    "    labPath=('../Data/Sample data (Sunny brook)/SC-HF-I-1/IM-0004-'+str(frame_name[i])+'.dcm.img.npy')\n",
    "    label=np.load(labPath)\n",
    "    frac[frame_name[i]]=(sum(i == 1 for i in label.flatten()))/float(len(label.flatten()))\n",
    "    S=frac[frame_name[i]]*((imgDict[frame_name[i]].PixelSpacing[0]*len(imgDict[frame_name[i]].pixel_array))**2)\n",
    "    area.append(S)\n",
    "    L.append(len(imgDict[frame_name[i]].pixel_array))\n",
    "    T.append(imgDict[frame_name[i]].SliceThickness)"
   ]
  },
  {
   "cell_type": "code",
   "execution_count": 28,
   "metadata": {},
   "outputs": [
    {
     "data": {
      "text/plain": [
       "{'0048': [-58.903502601951502, '-30.072', ['176.111', '22.2895', '137.999']],\n",
       " '0059': [-58.903502601951502, '-30.072', ['176.111', '22.2895', '137.999']],\n",
       " '0068': [-68.904177775360026, '-36.792', ['182.831', '15.6245', '134.769']],\n",
       " '0079': [-68.904177775360026, '-36.792', ['182.831', '15.6245', '134.769']],\n",
       " '0088': [-78.903527885921477, '-43.511', ['189.55', '8.96048', '131.539']],\n",
       " '0099': [-78.903527885921477, '-43.511', ['189.55', '8.96048', '131.539']],\n",
       " '0108': [-88.903854143610261, '-50.23', ['196.269', '2.29548', '128.308']],\n",
       " '0119': [-88.903854143610261, '-50.23', ['196.269', '2.29548', '128.308']],\n",
       " '0128': [-98.904529317018785, '-56.949', ['202.989', '-4.36952', '125.078']],\n",
       " '0139': [-98.904529317018785, '-56.949', ['202.989', '-4.36952', '125.078']],\n",
       " '0148': [-108.90385276909183, '-63.669', ['209.708', '-11.0335', '121.848']],\n",
       " '0159': [-108.90385276909183, '-63.669', ['209.708', '-11.0335', '121.848']],\n",
       " '0168': [-118.90385601261919, '-70.388', ['216.427', '-17.6985', '118.618']],\n",
       " '0179': [-118.90385601261919, '-70.388', ['216.427', '-17.6985', '118.618']],\n",
       " '0188': [-128.90385925614652, '-77.107', ['223.146', '-24.3635', '115.388']],\n",
       " '0199': [-128.90385925614652, '-77.107', ['223.146', '-24.3635', '115.388']],\n",
       " '0208': [-138.90386796734495, '-83.827', ['229.866', '-31.0275', '112.158']],\n",
       " '0219': [-138.90386796734495, '-83.827', ['229.866', '-31.0275', '112.158']]}"
      ]
     },
     "execution_count": 28,
     "metadata": {},
     "output_type": "execute_result"
    }
   ],
   "source": [
    "slDict"
   ]
  },
  {
   "cell_type": "code",
   "execution_count": 33,
   "metadata": {},
   "outputs": [
    {
     "data": {
      "text/plain": [
       "array([[0, 0, 0, ..., 0, 0, 0],\n",
       "       [0, 0, 0, ..., 0, 0, 0],\n",
       "       [0, 0, 0, ..., 0, 0, 0],\n",
       "       ..., \n",
       "       [0, 0, 0, ..., 0, 0, 0],\n",
       "       [0, 0, 0, ..., 0, 0, 0],\n",
       "       [0, 0, 0, ..., 0, 0, 0]], dtype=int16)"
      ]
     },
     "execution_count": 33,
     "metadata": {},
     "output_type": "execute_result"
    }
   ],
   "source": [
    "imgDict['0048'].pixel_array"
   ]
  },
  {
   "cell_type": "code",
   "execution_count": 19,
   "metadata": {
    "scrolled": true
   },
   "outputs": [
    {
     "data": {
      "text/plain": [
       "{'0048': 0.0030975341796875,\n",
       " '0059': 0.003875732421875,\n",
       " '0068': 0.002716064453125,\n",
       " '0079': 0.0031890869140625,\n",
       " '0088': 0.0032958984375,\n",
       " '0099': 0.0027618408203125,\n",
       " '0108': 0.003448486328125,\n",
       " '0119': 0.00323486328125,\n",
       " '0128': 0.0030364990234375,\n",
       " '0139': 0.003662109375,\n",
       " '0148': 0.0037078857421875,\n",
       " '0159': 0.003265380859375,\n",
       " '0168': 0.0038604736328125,\n",
       " '0179': 0.003814697265625,\n",
       " '0188': 0.0058441162109375,\n",
       " '0199': 0.005035400390625,\n",
       " '0208': 0.0184783935546875,\n",
       " '0219': 0.0186767578125}"
      ]
     },
     "execution_count": 19,
     "metadata": {},
     "output_type": "execute_result"
    }
   ],
   "source": [
    "frac"
   ]
  },
  {
   "cell_type": "code",
   "execution_count": 20,
   "metadata": {
    "collapsed": true
   },
   "outputs": [],
   "source": [
    "s_idx = [0, 2, 5, 7, 8, 11, 13, 15, 16 ]\n",
    "d_idx = [1, 3, 4, 6, 9, 10, 12, 14, 17 ]"
   ]
  },
  {
   "cell_type": "code",
   "execution_count": 13,
   "metadata": {
    "collapsed": true,
    "scrolled": true
   },
   "outputs": [],
   "source": [
    "#s_idx= np.arange(0, len(frame_name), 2)\n",
    "#d_idx= np.arange(1, len(frame_name), 2)"
   ]
  },
  {
   "cell_type": "code",
   "execution_count": 21,
   "metadata": {},
   "outputs": [
    {
     "name": "stdout",
     "output_type": "stream",
     "text": [
      "(12467.441379494394, 13832.34216357418)\n"
     ]
    }
   ],
   "source": [
    "#Volume Calculation Partially from 4th Place soln, the Patch Size is the same for each image so\n",
    "# the volume is 0 .... need to look into more\n",
    "ESV=0\n",
    "for i in range(len(s_idx)-1):\n",
    "    v=(area[s_idx[i]]+area[s_idx[i+1]]+np.sqrt(area[s_idx[i]]*area[s_idx[i+1]]))#*((L[i+1]-L[i])/2.0)\n",
    "    ESV=ESV+v\n",
    "    \n",
    "EDV=0\n",
    "for i in range(len(d_idx)-1):\n",
    "    v=(area[d_idx[i]]+area[d_idx[i+1]]+np.sqrt(area[d_idx[i]]*area[d_idx[i+1]]))#*((L[i+1]-L[i])/2.0)\n",
    "    EDV=EDV+v\n",
    "\n",
    "print (ESV, EDV)"
   ]
  },
  {
   "cell_type": "code",
   "execution_count": null,
   "metadata": {
    "collapsed": true
   },
   "outputs": [],
   "source": []
  },
  {
   "cell_type": "code",
   "execution_count": 22,
   "metadata": {},
   "outputs": [
    {
     "name": "stdout",
     "output_type": "stream",
     "text": [
      "(55664.86615430432, 60711.71432813312)\n"
     ]
    }
   ],
   "source": [
    "# Sum (Height * Area) Method\n",
    "ESV=0\n",
    "for i in range(len(s_idx)):\n",
    "    v=T[s_idx[i]]*area[s_idx[i]]\n",
    "    ESV=ESV+v\n",
    "\n",
    "EDV=0\n",
    "for i in range(len(d_idx)):\n",
    "    v=T[d_idx[i]]*area[d_idx[i]]\n",
    "    EDV=EDV+v\n",
    "\n",
    "print (ESV, EDV)"
   ]
  },
  {
   "cell_type": "code",
   "execution_count": 38,
   "metadata": {},
   "outputs": [
    {
     "name": "stdout",
     "output_type": "stream",
     "text": [
      "(159.0424165625, 173.46197750000002)\n"
     ]
    }
   ],
   "source": [
    "# Sum (Height * Fraction) * (PixelSpacing * Length)\n",
    "ESV=0\n",
    "for i in range(len(s_idx)):\n",
    "    v=T[s_idx[i]]*frac[frame_name[s_idx[i]]]\n",
    "    ESV=ESV+v\n",
    "ESV=ESV*(imgDict[frame_name[0]].PixelSpacing[0]*len(imgDict[frame_name[0]].pixel_array))\n",
    "\n",
    "EDV=0\n",
    "for i in range(len(d_idx)):\n",
    "    v=T[d_idx[i]]*frac[frame_name[d_idx[i]]]\n",
    "    EDV=EDV+v\n",
    "EDV=EDV*(imgDict[frame_name[0]].PixelSpacing[0]*len(imgDict[frame_name[0]].pixel_array))\n",
    "\n",
    "print (ESV, EDV)"
   ]
  },
  {
   "cell_type": "code",
   "execution_count": 40,
   "metadata": {},
   "outputs": [
    {
     "name": "stdout",
     "output_type": "stream",
     "text": [
      "(85.55606156249999, 173.4619775)\n"
     ]
    }
   ],
   "source": [
    "# USE THIS\n",
    "ESV=0\n",
    "for i in range(len(s_idx)):\n",
    "    a = frac[frame_name[s_idx[1]]]*(imgDict[frame_name[0]].PixelSpacing[0])*len(imgDict[frame_name[0]].pixel_array)\n",
    "    v=T[s_idx[i]]*a\n",
    "    ESV=ESV+v\n",
    "#ESV=ESV*(imgDict[frame_name[0]].PixelSpacing[0]*len(imgDict[frame_name[0]].pixel_array))\n",
    "\n",
    "EDV=0\n",
    "for i in range(len(d_idx)):\n",
    "    a = frac[frame_name[d_idx[i]]] * (imgDict[frame_name[0]].PixelSpacing[0])*len(imgDict[frame_name[0]].pixel_array)\n",
    "    v=T[d_idx[i]]*a\n",
    "    EDV=EDV+v\n",
    "#EDV=EDV*(imgDict[frame_name[0]].PixelSpacing[0]*len(imgDict[frame_name[0]].pixel_array))\n",
    "\n",
    "print (ESV, EDV)"
   ]
  },
  {
   "cell_type": "code",
   "execution_count": null,
   "metadata": {
    "collapsed": true
   },
   "outputs": [],
   "source": []
  }
 ],
 "metadata": {
  "kernelspec": {
   "display_name": "Python 2",
   "language": "python",
   "name": "python2"
  },
  "language_info": {
   "codemirror_mode": {
    "name": "ipython",
    "version": 2
   },
   "file_extension": ".py",
   "mimetype": "text/x-python",
   "name": "python",
   "nbconvert_exporter": "python",
   "pygments_lexer": "ipython2",
   "version": "2.7.11"
  }
 },
 "nbformat": 4,
 "nbformat_minor": 2
}
