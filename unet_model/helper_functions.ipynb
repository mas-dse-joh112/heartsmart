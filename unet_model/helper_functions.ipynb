{
 "cells": [
  {
   "cell_type": "code",
   "execution_count": null,
   "metadata": {},
   "outputs": [],
   "source": [
    "import re, sys, math\n",
    "import glob\n",
    "import random\n",
    "import json\n",
    "import os \n",
    "import numpy as np\n",
    "import matplotlib.pyplot as plt\n",
    "from sklearn.metrics import log_loss\n",
    "from sklearn.metrics import accuracy_score, f1_score, precision_score, recall_score, classification_report, confusion_matrix\n",
    "from collections import OrderedDict\n",
    "import pandas as pd\n",
    "from helper_utilities import *\n",
    "from helper_plotutilities import *\n",
    "from unet_model  import *\n",
    "from unet_predict_sk import *\n",
    "\n",
    "%matplotlib inline\n"
   ]
  },
  {
   "cell_type": "code",
   "execution_count": 1,
   "metadata": {},
   "outputs": [
    {
     "data": {
      "text/plain": [
       "8"
      ]
     },
     "execution_count": 1,
     "metadata": {},
     "output_type": "execute_result"
    }
   ],
   "source": []
  },
  {
   "cell_type": "code",
   "execution_count": null,
   "metadata": {},
   "outputs": [],
   "source": [
    "# RESULTS_PATH = '/masvol/heartsmart/unet_model/baseline/results/'\n",
    "# image_file = \"/masvol/heartsmart/unet_model/baseline/data/combined_1_3_0_176_test_images.npy\"\n",
    "# #label_file = \"/masvol/heartsmart/unet_model/baseline/data/combined_1_3_0_176_test_labels.npy\"\n",
    "\n",
    "# for results_file in bd176 :\n",
    "#     m_name = results_file\n",
    "#     pred_file = RESULTS_PATH + results_file + 'z_predictions.npy'\n",
    "#     weights_file = RESULTS_PATH + results_file + '.hdf5'\n",
    "#     print (\"weights file\", weights_file)\n",
    "#     print (\"pred_file\", pred_file)\n",
    "\n",
    "\n",
    "#     mnet = predict_with_pretrained_weights(model_name=m_name, nGPU=0, model_file=weights_file, image_size = 176, \\\n",
    "#                                 test_image_file = image_file)\n",
    "#     #mnet.save_model_info(mpath)\n",
    "#     print (\"Saving predictions\")\n",
    "#     np.save(pred_file, mnet.predictions)"
   ]
  },
  {
   "cell_type": "code",
   "execution_count": null,
   "metadata": {},
   "outputs": [],
   "source": [
    "#explist256 = ['combined_1_3_256_epoch20', 'combined_1_3_256', 'combined_aug_1_3_256',\\\n",
    "# 'combined_drop_1_3_256','combined_aug_drop_1_3_256']\n",
    "\n",
    "\n",
    "explist256 = [ 'combined_1_3_256', 'combined_aug_1_3_256', 'combined_drop_1_3_256','combined_aug_drop_1_3_256']\n",
    "\n",
    "#image set that includes labels with zero contours in the training set\n",
    "explist256_0 = ['combined_1_3_0_256', 'combined_aug_1_3_0_256', 'combined_1_3_0_256_drop','combined_1_3_0_256_dicecoef', 'combined_1_3_0_256_drop_dicecoef']\n",
    "\n",
    "#explist176 = ['combined_1_3_176', 'combined_1_3_176_aug_dice', 'combined_1_3_176_aug_drop_dice']\n",
    "explist176 = ['combined_1_3_176', 'combined_1_3_176_dice', 'combined_1_3_176_aug_dice', 'combined_1_3_176_drop_dice', 'combined_1_3_176_aug_drop_dice']\n",
    "\n",
    "explist176_0 = ['1_3_0_176_bn','combined_1_3_0_176_dice', 'combined_1_3_0_176_aug_dice','combined_1_3_0_176_drop_dice', 'combined_1_3_0_176_aug_drop_dice', 'combined_1_3_0_176_aug_drop_dice2']\n"
   ]
  },
  {
   "cell_type": "code",
   "execution_count": null,
   "metadata": {},
   "outputs": [],
   "source": [
    "bn176 = [ '1_3_0_176_bn' , '1_3_0_176_bn2', '1_3_0_176_bn4', '1_3_0_176_bn_aug_drop']\n",
    "\n",
    "aug176 = [  '1_3_0_176_aug_dice', '1_3_0_176_aug2_dice1', '1_3_0_176_aug2_dice2', '1_3_0_176_aug2_dice3', \\\n",
    "    '1_3_0_176_aug_drop_dice', '1_3_0_176_aug_drop_dice2', '1_3_0_176_aug_bd', '1_3_0_176_aug_bd2', \\\n",
    "    '1_3_0_176_aug_ld1', '1_3_0_176_aug_ld2', '1_3_0_176_aug_ld3', '1_3_0_176_aug_drop_ld1', \\\n",
    "    '1_3_0_176_aug_drop_ld2', '1_3_0_176_aug_drop_ld3', '1_3_0_176_aug_bce', '1_3_0_176_aug_bce2'  \\\n",
    "    ]\n",
    "\n"
   ]
  },
  {
   "cell_type": "code",
   "execution_count": null,
   "metadata": {},
   "outputs": [],
   "source": [
    "RESULTS_PATH = '/masvol/heartsmart/unet_model/baseline/results/experiments/'\n",
    "label_file176_0 = '/masvol/heartsmart/unet_model/baseline/data/combined_1_3_0_176_test_labels.npy'\n",
    "keys = get_perf_keys()\n",
    "perf176bn = pd.DataFrame( keys, columns=[\"Attribute\"] )\n",
    "for results_file in bn176 :\n",
    "    print (results_file)\n",
    "    pred_file = RESULTS_PATH + results_file + '_predictions.npy'\n",
    "    perf = compute_performance_statistics(label_file176_0, pred_file)\n",
    "    perf176bn[results_file]= perf176bn['Attribute'].map(perf)"
   ]
  },
  {
   "cell_type": "code",
   "execution_count": null,
   "metadata": {},
   "outputs": [],
   "source": [
    "perf176bn"
   ]
  },
  {
   "cell_type": "code",
   "execution_count": null,
   "metadata": {},
   "outputs": [],
   "source": [
    "\n",
    "file_name = '/masvol/heartsmart/unet_model/baseline/results/experiments/1_3_0_176_perf.csv'\n",
    "perf176_0_df.to_csv(file_name)"
   ]
  },
  {
   "cell_type": "code",
   "execution_count": null,
   "metadata": {},
   "outputs": [],
   "source": [
    "RESULTS_PATH = '/masvol/heartsmart/unet_model/baseline/results/experiments/'\n",
    "label_file176_0 = '/masvol/heartsmart/unet_model/baseline/data/combined_1_3_0_176_test_labels.npy'\n",
    "keys = get_perf_keys()\n",
    "perf176_0_df = pd.DataFrame( keys, columns=[\"Attribute\"] )\n",
    "for results_file in aug176 :\n",
    "    print (results_file)\n",
    "    pred_file = RESULTS_PATH + results_file + '_predictions.npy'\n",
    "    perf = compute_performance_statistics(label_file176_0, pred_file)\n",
    "    perf176_0_df[results_file]= perf176_0_df['Attribute'].map(perf)\n",
    "    "
   ]
  },
  {
   "cell_type": "code",
   "execution_count": null,
   "metadata": {},
   "outputs": [],
   "source": [
    "perf176_0_df"
   ]
  },
  {
   "cell_type": "code",
   "execution_count": null,
   "metadata": {},
   "outputs": [],
   "source": [
    "# RESULTS_PATH = '/masvol/heartsmart/unet_model/baseline/results/'\n",
    "# label_file176 = '/masvol/heartsmart/unet_model/baseline/data/combined_1_3_176_test_labels.npy'\n",
    "\n",
    "# perf176_df = pd.DataFrame( keys, columns=[\"Attribute\"] )\n",
    "# for results_file in explist176 :\n",
    "#     pred_file = RESULTS_PATH + results_file + '_predictions.npy'\n",
    "#     perf = compute_performance_statistics(label_file176, pred_file)\n",
    "#     perf176_df[results_file]= perf176_df['Attribute'].map(perf)\n",
    "    "
   ]
  },
  {
   "cell_type": "code",
   "execution_count": null,
   "metadata": {},
   "outputs": [],
   "source": [
    "perf176_0_df[['Attribute','1_3_0_176_aug2_dice2',  '1_3_0_176_aug_bce' , '1_3_0_176_aug_bd2', '1_3_0_176_aug_drop_dice', '1_3_0_176_aug_ld1']]"
   ]
  },
  {
   "cell_type": "code",
   "execution_count": null,
   "metadata": {},
   "outputs": [],
   "source": [
    "# RESULTS_PATH = '/masvol/heartsmart/unet_model/baseline/results/'\n",
    "# label_file256 = '/masvol/heartsmart/unet_model/baseline/data/combined_1_3_256_test_labels.npy'\n",
    "\n",
    "# perf256_df = pd.DataFrame( keys, columns=[\"Attribute\"] )\n",
    "# for results_file in explist256 :\n",
    "#     pred_file = RESULTS_PATH + results_file + '_predictions.npy'\n",
    "#     perf = compute_performance_statistics(label_file256, pred_file)\n",
    "#     perf256_df[results_file]= perf256_df['Attribute'].map(perf)"
   ]
  },
  {
   "cell_type": "code",
   "execution_count": null,
   "metadata": {},
   "outputs": [],
   "source": [
    "# RESULTS_PATH = '/masvol/heartsmart/unet_model/baseline/results/'\n",
    "# label_file256_0 = '/masvol/heartsmart/unet_model/baseline/data/combined_1_3_0_256_test_labels.npy'\n",
    "\n",
    "# perf256_0_df = pd.DataFrame( keys, columns=[\"Attribute\"] )\n",
    "# for results_file in explist256_0 :\n",
    "#     pred_file = RESULTS_PATH + results_file + '_predictions.npy'\n",
    "#     perf = compute_performance_statistics(label_file256_0, pred_file)\n",
    "#     perf256_0_df[results_file]= perf256_0_df['Attribute'].map(perf)"
   ]
  },
  {
   "cell_type": "code",
   "execution_count": null,
   "metadata": {},
   "outputs": [],
   "source": [
    "perf256_df"
   ]
  },
  {
   "cell_type": "code",
   "execution_count": null,
   "metadata": {},
   "outputs": [],
   "source": [
    "file_name = '/masvol/heartsmart/unet_model/baseline/results/combined_1_3_0_176_perf_comparison_old.csv'\n",
    "perf176_0_df.to_csv(file_name, sep='\\t')"
   ]
  },
  {
   "cell_type": "code",
   "execution_count": null,
   "metadata": {},
   "outputs": [],
   "source": [
    "file_name = '/masvol/heartsmart/unet_model/baseline/results/combined_1_3_176_perf_comparison_old.csv'\n",
    "perf176_df.to_csv(file_name, sep='\\t')"
   ]
  },
  {
   "cell_type": "code",
   "execution_count": null,
   "metadata": {},
   "outputs": [],
   "source": [
    "file_name = '/masvol/heartsmart/unet_model/baseline/results/combined_1_3_0_256_perf_comparison.csv'\n",
    "perf256_0_df.to_csv(file_name, sep='\\t')"
   ]
  },
  {
   "cell_type": "code",
   "execution_count": null,
   "metadata": {},
   "outputs": [],
   "source": [
    "file_name = '/masvol/heartsmart/unet_model/baseline/results/combined_1_3_256_perf_comparison.csv'\n",
    "perf256_df.to_csv(file_name, sep='\\t')"
   ]
  },
  {
   "cell_type": "code",
   "execution_count": null,
   "metadata": {},
   "outputs": [],
   "source": [
    "#hist = '/masvol/heartsmart/unet_model/baseline/results/combined_1_3_176_drop_dice_learning_history.json'\n",
    "#hist = '/masvol/heartsmart/unet_model/baseline/results/1_3_0_176_bn_learning_history.json'\n",
    "hist = '/masvol/heartsmart/unet_model/baseline/results/experiments/combined_1_3_176x_aug_dice1_learning_history.json'\n",
    "\n",
    "plot_learning_history(hist)"
   ]
  },
  {
   "cell_type": "code",
   "execution_count": null,
   "metadata": {},
   "outputs": [],
   "source": [
    "#hist = '/masvol/heartsmart/unet_model/baseline/results/combined_1_3_0_256_dicecoef_learning_history.json'\n",
    "#hist = '/masvol/heartsmart/unet_model/baseline/results/combined_1_3_0_256_drop_dicecoef_learning_history.json'\n",
    "#hist = '/masvol/heartsmart/unet_model/baseline/results/combined_1_3_0_176_learning_history.json'\n",
    "hist = '/masvol/heartsmart/unet_model/baseline/results/combined_1_3_176x_aug_dice2_learning_history.json'\n",
    "#hist = '/masvol/heartsmart/unet_model/baseline/results/combined_1_3_0_256_dice_learning_history.json'\n",
    "\n",
    "plot_learning_history(hist)"
   ]
  },
  {
   "cell_type": "code",
   "execution_count": null,
   "metadata": {},
   "outputs": [],
   "source": [
    "perf176_df"
   ]
  },
  {
   "cell_type": "code",
   "execution_count": null,
   "metadata": {},
   "outputs": [],
   "source": [
    "hist = '/masvol/heartsmart/unet_model/baseline/results/1_3_0_256_bn_dice_learning_history.json'\n",
    "#hist = '/masvol/heartsmart/unet_model/baseline/results/combined_1_3_0_256_dice_learning_history.json'\n",
    "\n",
    "plot_learning_history(hist)"
   ]
  },
  {
   "cell_type": "code",
   "execution_count": null,
   "metadata": {},
   "outputs": [],
   "source": [
    "label_file = \"/masvol/heartsmart/unet_model/baseline/data/combined_1_3_0_176_test_labels.npy\"\n",
    "pred_file = \"/masvol/heartsmart/unet_model/baseline/results/experiments/1_3_0_176_aug2_dice1_predictions.npy\"\n",
    "y_true = np.load(label_file)\n",
    "y_pred = np.load(pred_file)\n",
    "\n",
    "\n",
    "y_true = y_true.flatten()\n",
    "y_pred = y_pred.flatten()\n",
    "smooth = 1.\n",
    "intersection = np.sum(y_true * y_pred)\n",
    "score = (2. * intersection + smooth) / (np.sum(y_true) + np.sum(y_pred) + smooth)\n"
   ]
  },
  {
   "cell_type": "code",
   "execution_count": null,
   "metadata": {},
   "outputs": [],
   "source": [
    "score"
   ]
  },
  {
   "cell_type": "code",
   "execution_count": null,
   "metadata": {},
   "outputs": [],
   "source": []
  },
  {
   "cell_type": "code",
   "execution_count": null,
   "metadata": {},
   "outputs": [],
   "source": []
  },
  {
   "cell_type": "code",
   "execution_count": null,
   "metadata": {},
   "outputs": [],
   "source": [
    "perf176_df"
   ]
  },
  {
   "cell_type": "code",
   "execution_count": null,
   "metadata": {
    "scrolled": false
   },
   "outputs": [],
   "source": [
    "for results_file in explist256 :\n",
    "    history_file = RESULTS_PATH + results_file + '_learning_history.json'\n",
    "    print ('='*30)\n",
    "    print ('='*30)\n",
    "    print (\"Learning history of :\" + results_file)\n",
    "    print ('-'*30)\n",
    "    \n",
    "    plot_learning_history(history_file)\n",
    "    "
   ]
  },
  {
   "cell_type": "code",
   "execution_count": null,
   "metadata": {},
   "outputs": [],
   "source": []
  },
  {
   "cell_type": "code",
   "execution_count": null,
   "metadata": {
    "scrolled": false
   },
   "outputs": [],
   "source": [
    "for results_file in explist176 :\n",
    "    history_file = RESULTS_PATH + results_file + '_learning_history.json'\n",
    "    print ('='*30)\n",
    "    print ('='*30)\n",
    "    print (\"Learning history of :\" + results_file)\n",
    "    print ('-'*30)\n",
    "    \n",
    "    plot_learning_history(history_file)"
   ]
  },
  {
   "cell_type": "code",
   "execution_count": null,
   "metadata": {},
   "outputs": [],
   "source": [
    "# label_file = \"/masvol/heartsmart/unet_model/data/baseline/combined_1_3_256_test_labels.npy\"\n",
    "# pred_file = \"/masvol/heartsmart/unet_model/data/baseline/combined_1_3_256_predictions.npy\"\n",
    "# y_true_f = np.load(label_file)\n",
    "# y_pred_f = np.load(pred_file)\n",
    "# p = get_performance_statistics(y_true_f, y_pred_f)\n",
    "# print (p)"
   ]
  },
  {
   "cell_type": "code",
   "execution_count": null,
   "metadata": {},
   "outputs": [],
   "source": [
    "# perf_file = \"perf_values.json\"\n",
    "# print (\"Saving Performance values\", perf_file)\n",
    "# with open(perf_file, 'w') as file:\n",
    "#     json.dump(p, file, indent=2)\n",
    "# print('-'*30)"
   ]
  },
  {
   "cell_type": "code",
   "execution_count": null,
   "metadata": {
    "scrolled": false
   },
   "outputs": [],
   "source": [
    "weights_file = \"/masvol/heartsmart/unet_model/baseline/results/1_3_0_256_bn_dice.hdf5\"\n",
    "history_file = '/masvol/heartsmart/unet_model/baseline/results/1_3_0_256_bn_dice_learning_history.json'\n",
    "image_file = \"/masvol/heartsmart/unet_model/baseline/data/combined_1_3_0_256_test_images.npy\"\n",
    "label_file = \"/masvol/heartsmart/unet_model/baseline/data/combined_1_3_0_256_test_labels.npy\"\n",
    "pred_file = \"/masvol/heartsmart/unet_model/baseline/results/1_3_0_256_bn_dice_predictions.npy\"\n",
    "plot_learning_history(history_file)\n",
    "show_performance_statistics(label_file, pred_file)\n",
    "find_outliers(label_file, pred_file)\n",
    "display_images_labels_predictions (image_file, label_file, pred_file, num_images = 4, random_images = True)\n",
    "print('-'*30)\n",
    "print('-'*30)\n",
    "zcontour = [47, 68, 81, 82, 141, 155, 173, 202, 213]\n",
    "display_images_labels_predictions (image_file, label_file, pred_file, image_list = zcontour)\n"
   ]
  },
  {
   "cell_type": "code",
   "execution_count": null,
   "metadata": {
    "scrolled": false
   },
   "outputs": [],
   "source": [
    "weights_file = \"/masvol/heartsmart/unet_model/baseline/results/1_3_0_256_bn_dice.hdf5\"\n",
    "history_file = '/masvol/heartsmart/unet_model/baseline/results/1_3_0_256_bn_dice_learning_history.json'\n",
    "image_file = \"/masvol/heartsmart/unet_model/baseline/data/combined_1_3_0_256_test_images.npy\"\n",
    "label_file = \"/masvol/heartsmart/unet_model/baseline/data/combined_1_3_0_256_test_labels.npy\"\n",
    "pred_file = \"/masvol/heartsmart/unet_model/baseline/results/1_3_0_256_bn_dicep_predictions.npy\"\n",
    "#plot_learning_history(history_file)\n",
    "show_performance_statistics(label_file, pred_file)\n",
    "find_outliers(label_file, pred_file)\n",
    "display_images_labels_predictions (image_file, label_file, pred_file, num_images = 4, random_images = True)\n",
    "print('-'*30)\n",
    "print('-'*30)\n",
    "zcontour = [47, 68, 81, 82, 141, 155, 173, 202, 213]\n",
    "display_images_labels_predictions (image_file, label_file, pred_file, image_list = zcontour)\n"
   ]
  },
  {
   "cell_type": "code",
   "execution_count": null,
   "metadata": {},
   "outputs": [],
   "source": []
  },
  {
   "cell_type": "markdown",
   "metadata": {},
   "source": [
    "## Analysis on training with 256x256  combined data set (ACDC + Sunnybrook)\n",
    "### Below are the results of 4 tests\n",
    "1. Training with combined dataset\n",
    "2. Training with combined dataset + Augmentation\n",
    "3. Training with combined dataset (no augmentation),  using Unet with dropout layers\n",
    "4. Training with combined dataset + Augmentation,  using Unet with dropout layers"
   ]
  },
  {
   "cell_type": "markdown",
   "metadata": {},
   "source": [
    "## Analysis on training with 256x256  combined data set (ACDC + Sunnybrook) (No labels with zero contours)\n",
    "\n",
    "### data set prefix combined_1_3_256 \n",
    "\n",
    "### Below are the results of 4 tests\n",
    "1. Training with combined dataset\n",
    "2. Training with combined dataset + Augmentation\n",
    "3. Training with combined dataset (no augmentation),  using Unet with dropout layers\n",
    "4. Training with combined dataset + Augmentation,  using Unet with dropout layers"
   ]
  },
  {
   "cell_type": "code",
   "execution_count": null,
   "metadata": {
    "scrolled": false
   },
   "outputs": [],
   "source": [
    "# zcontour = [50, 53, 72, 73, 116, 118, 145, 188]\n",
    "# display_images_labels_predictions (image_file, label_file, pred_file, image_list = zcontour)"
   ]
  },
  {
   "cell_type": "code",
   "execution_count": null,
   "metadata": {
    "scrolled": false
   },
   "outputs": [],
   "source": [
    "weights_file = \"/masvol/heartsmart/unet_model/baseline/results/combined_1_3_256_dice.hdf5\"\n",
    "history_file = '/masvol/heartsmart/unet_model/baseline/results/combined_1_3_256_dice_learning_history.json'\n",
    "image_file = \"/masvol/heartsmart/unet_model/baseline/data/combined_1_3_256_test_images.npy\"\n",
    "label_file = \"/masvol/heartsmart/unet_model/baseline/data/combined_1_3_256_test_labels.npy\"\n",
    "pred_file = \"/masvol/heartsmart/unet_model/baseline/results/combined_1_3_256_dice_predictions.npy\"\n",
    "plot_learning_history(history_file)\n",
    "show_performance_statistics(label_file, pred_file)\n",
    "find_outliers(label_file, pred_file)\n",
    "display_images_labels_predictions (image_file, label_file, pred_file, num_images = 4, random_images = True)\n",
    "print('-'*30)\n",
    "print('-'*30)\n",
    "zcontour = [47, 68, 81, 82, 141, 155, 173, 202, 213]\n",
    "display_images_labels_predictions (image_file, label_file, pred_file, image_list = zcontour)\n"
   ]
  },
  {
   "cell_type": "code",
   "execution_count": null,
   "metadata": {
    "scrolled": false
   },
   "outputs": [],
   "source": [
    "weights_file = \"/masvol/heartsmart/unet_model/baseline/results/combined_1_3_256_aug_dice.hdf5\"\n",
    "history_file = '/masvol/heartsmart/unet_model/baseline/results/combined_1_3_256_aug_dice_learning_history.json'\n",
    "image_file = \"/masvol/heartsmart/unet_model/baseline/data/combined_1_3_256_test_images.npy\"\n",
    "label_file = \"/masvol/heartsmart/unet_model/baseline/data/combined_1_3_256_test_labels.npy\"\n",
    "pred_file = \"/masvol/heartsmart/unet_model/baseline/results/combined_1_3_256_aug_dice_predictions.npy\"\n",
    "plot_learning_history(history_file)\n",
    "show_performance_statistics(label_file, pred_file)\n",
    "find_outliers(label_file, pred_file)\n",
    "display_images_labels_predictions (image_file, label_file, pred_file, num_images = 4, random_images = True)\n",
    "print('-'*30)\n",
    "print('-'*30)\n",
    "zcontour = [47, 68, 81, 82, 141, 155, 173, 202, 213]\n",
    "display_images_labels_predictions (image_file, label_file, pred_file, image_list = zcontour)\n"
   ]
  },
  {
   "cell_type": "code",
   "execution_count": null,
   "metadata": {
    "scrolled": false
   },
   "outputs": [],
   "source": [
    "weights_file = \"/masvol/heartsmart/unet_model/baseline/results/combined_1_3_256_drop_dice.hdf5\"\n",
    "history_file = '/masvol/heartsmart/unet_model/baseline/results/combined_1_3_256_drop_dice_learning_history.json'\n",
    "image_file = \"/masvol/heartsmart/unet_model/baseline/data/combined_1_3_256_test_images.npy\"\n",
    "label_file = \"/masvol/heartsmart/unet_model/baseline/data/combined_1_3_256_test_labels.npy\"\n",
    "pred_file = \"/masvol/heartsmart/unet_model/baseline/results/combined_1_3_256_drop_dice_predictions.npy\"\n",
    "plot_learning_history(history_file)\n",
    "show_performance_statistics(label_file, pred_file)\n",
    "find_outliers(label_file, pred_file)\n",
    "display_images_labels_predictions (image_file, label_file, pred_file, num_images = 4, random_images = True)\n",
    "print('-'*30)\n",
    "print('-'*30)\n",
    "zcontour = [47, 68, 81, 82, 141, 155, 173, 202, 213]\n",
    "display_images_labels_predictions (image_file, label_file, pred_file, image_list = zcontour)\n"
   ]
  },
  {
   "cell_type": "code",
   "execution_count": null,
   "metadata": {
    "scrolled": false
   },
   "outputs": [],
   "source": [
    "weights_file = \"/masvol/heartsmart/unet_model/baseline/results/combined_1_3_256_aug_drop_dice.hdf5\"\n",
    "history_file = '/masvol/heartsmart/unet_model/baseline/results/combined_1_3_256_aug_drop_dice_learning_history.json'\n",
    "image_file = \"/masvol/heartsmart/unet_model/baseline/data/combined_1_3_256_test_images.npy\"\n",
    "label_file = \"/masvol/heartsmart/unet_model/baseline/data/combined_1_3_256_test_labels.npy\"\n",
    "pred_file = \"/masvol/heartsmart/unet_model/baseline/results/combined_1_3_256_aug_drop_dice_predictions.npy\"\n",
    "plot_learning_history(history_file)\n",
    "show_performance_statistics(label_file, pred_file)\n",
    "find_outliers(label_file, pred_file)\n",
    "display_images_labels_predictions (image_file, label_file, pred_file, num_images = 4, random_images = True)\n",
    "print('-'*30)\n",
    "print('-'*30)\n",
    "zcontour = [47, 68, 81, 82, 141, 155, 173, 202, 213]\n",
    "display_images_labels_predictions (image_file, label_file, pred_file, image_list = zcontour)\n"
   ]
  },
  {
   "cell_type": "code",
   "execution_count": null,
   "metadata": {},
   "outputs": [],
   "source": []
  },
  {
   "cell_type": "markdown",
   "metadata": {},
   "source": [
    "## Analysis on training with 256x256  combined data set (ACDC + Sunnybrook) + Labels with Zero Contours  \n",
    "### data set prefix combined_1_3_0_256 \n",
    "### Below are the results of 4 tests\n",
    "1. Training with combined dataset\n",
    "2. Training with combined dataset + Augmentation\n",
    "3. Training with combined dataset (no augmentation),  using Unet with dropout layers\n",
    "4. Training with combined dataset + Augmentation,  using Unet with dropout layers"
   ]
  },
  {
   "cell_type": "code",
   "execution_count": null,
   "metadata": {
    "scrolled": false
   },
   "outputs": [],
   "source": [
    "history_file = '/masvol/heartsmart/unet_model/baseline/results/combined_1_3_0_256_drop_dicecoef_learning_history.json'\n",
    "image_file = \"/masvol/heartsmart/unet_model/baseline/data/combined_1_3_0_256_test_images.npy\"\n",
    "label_file = \"/masvol/heartsmart/unet_model/baseline/data/combined_1_3_0_256_test_labels.npy\"\n",
    "pred_file = \"/masvol/heartsmart/unet_model/baseline/results/combined_1_3_0_256_drop_dicecoef_predictions.npy\"\n",
    "plot_learning_history(history_file)\n",
    "show_performance_statistics(label_file, pred_file)\n",
    "find_outliers(label_file, pred_file)\n",
    "display_images_labels_predictions (image_file, label_file, pred_file, num_images = 4, random_images = True)\n",
    "print('-'*30)\n",
    "print('-'*30)\n",
    "zcontour = [21, 84, 127, 220]\n",
    "display_images_labels_predictions (image_file, label_file, pred_file, image_list = zcontour)\n"
   ]
  },
  {
   "cell_type": "code",
   "execution_count": null,
   "metadata": {
    "scrolled": false
   },
   "outputs": [],
   "source": [
    "weights_file = \"/masvol/heartsmart/unet_model/baseline/results/combined_1_3_0_256_dice.hdf5\"\n",
    "history_file = '/masvol/heartsmart/unet_model/baseline/results/combined_1_3_0_256_dice_learning_history.json'\n",
    "image_file = \"/masvol/heartsmart/unet_model/baseline/data/combined_1_3_0_256_test_images.npy\"\n",
    "label_file = \"/masvol/heartsmart/unet_model/baseline/data/combined_1_3_0_256_test_labels.npy\"\n",
    "pred_file = \"/masvol/heartsmart/unet_model/baseline/results/combined_1_3_0_256_dice_predictions.npy\"\n",
    "plot_learning_history(history_file)\n",
    "show_performance_statistics(label_file, pred_file)\n",
    "find_outliers(label_file, pred_file)\n",
    "display_images_labels_predictions (image_file, label_file, pred_file, num_images = 4, random_images = True)\n",
    "print('-'*30)\n",
    "print('-'*30)\n",
    "zcontour = [47, 68, 81, 82, 141, 155, 173, 202, 213]\n",
    "display_images_labels_predictions (image_file, label_file, pred_file, image_list = zcontour)\n"
   ]
  },
  {
   "cell_type": "code",
   "execution_count": null,
   "metadata": {
    "scrolled": false
   },
   "outputs": [],
   "source": [
    "weights_file = \"/masvol/heartsmart/unet_model/baseline/results/combined_1_3_0_256_aug_dice.hdf5\" \n",
    "history_file = '/masvol/heartsmart/unet_model/baseline/results/combined_1_3_0_256_aug_dice_learning_history.json'\n",
    "image_file = \"/masvol/heartsmart/unet_model/baseline/data/combined_1_3_0_256_test_images.npy\"\n",
    "label_file = \"/masvol/heartsmart/unet_model/baseline/data/combined_1_3_0_256_test_labels.npy\"\n",
    "pred_file = \"/masvol/heartsmart/unet_model/baseline/results/combined_1_3_0_256_aug_dice_predictions.npy\"\n",
    "plot_learning_history(history_file)\n",
    "show_performance_statistics(label_file, pred_file)\n",
    "find_outliers(label_file, pred_file)\n",
    "display_images_labels_predictions (image_file, label_file, pred_file, num_images = 4, random_images = True)\n",
    "print('-'*30)\n",
    "print('-'*30)\n",
    "zcontour = [47, 68, 81, 82, 141, 155, 173, 202, 213]\n",
    "display_images_labels_predictions (image_file, label_file, pred_file, image_list = zcontour)\n"
   ]
  },
  {
   "cell_type": "code",
   "execution_count": null,
   "metadata": {
    "scrolled": false
   },
   "outputs": [],
   "source": [
    "zcontour = [2, 10, 13, 21, 38, 50, 72, 86, 87, 113, 116, 118, 151, 152, 184, 202, 203, 230]\n",
    "display_images_labels_predictions (image_file, label_file, pred_file, image_list = zcontour)"
   ]
  },
  {
   "cell_type": "code",
   "execution_count": null,
   "metadata": {
    "scrolled": false
   },
   "outputs": [],
   "source": [
    "weights_file = \"/masvol/heartsmart/unet_model/baseline/results/combined_1_3_0_256_drop_dice.hdf5\"\n",
    "history_file = '/masvol/heartsmart/unet_model/baseline/results/combined_1_3_0_256_drop_dice_learning_history.json'\n",
    "image_file = \"/masvol/heartsmart/unet_model/baseline/data/combined_1_3_0_256_test_images.npy\"\n",
    "label_file = \"/masvol/heartsmart/unet_model/baseline/data/combined_1_3_0_256_test_labels.npy\"\n",
    "pred_file = \"/masvol/heartsmart/unet_model/baseline/results/combined_1_3_0_256_drop_dice_predictions.npy\"\n",
    "plot_learning_history(history_file)\n",
    "show_performance_statistics(label_file, pred_file)\n",
    "find_outliers(label_file, pred_file)\n",
    "display_images_labels_predictions (image_file, label_file, pred_file, num_images = 4, random_images = True)\n",
    "print('-'*30)\n",
    "print('-'*30)\n",
    "zcontour = [47, 68, 81, 82, 141, 155, 173, 202, 213]\n",
    "display_images_labels_predictions (image_file, label_file, pred_file, image_list = zcontour)\n"
   ]
  },
  {
   "cell_type": "code",
   "execution_count": null,
   "metadata": {
    "scrolled": false
   },
   "outputs": [],
   "source": [
    "weights_file = \"/masvol/heartsmart/unet_model/baseline/results/combined_1_3_0_256_aug_drop_dice.hdf5\"\n",
    "history_file = '/masvol/heartsmart/unet_model/baseline/results/combined_1_3_0_256_aug_drop_dice_learning_history.json'\n",
    "image_file = \"/masvol/heartsmart/unet_model/baseline/data/combined_1_3_0_256_test_images.npy\"\n",
    "label_file = \"/masvol/heartsmart/unet_model/baseline/data/combined_1_3_0_256_test_labels.npy\"\n",
    "pred_file = \"/masvol/heartsmart/unet_model/baseline/results/combined_1_3_0_256_aug_drop_dice_predictions.npy\"\n",
    "plot_learning_history(history_file)\n",
    "show_performance_statistics(label_file, pred_file)\n",
    "find_outliers(label_file, pred_file)\n",
    "display_images_labels_predictions (image_file, label_file, pred_file, num_images = 4, random_images = True)\n",
    "print('-'*30)\n",
    "print('-'*30)\n",
    "zcontour = [47, 68, 81, 82, 141, 155, 173, 202, 213]\n",
    "display_images_labels_predictions (image_file, label_file, pred_file, image_list = zcontour)\n"
   ]
  },
  {
   "cell_type": "code",
   "execution_count": null,
   "metadata": {},
   "outputs": [],
   "source": []
  },
  {
   "cell_type": "markdown",
   "metadata": {},
   "source": [
    "## Analysis on training with 176x176  combined data set (ACDC + Sunnybrook)  ( no Labels with zero contours)\n",
    "### (data set prefix combined_1_3_176)\n",
    "### Below are the results of 4 tests\n",
    "1. Training with combined dataset\n",
    "2. Training with combined dataset + Augmentation\n",
    "3. Training with combined dataset (no augmentation),  using Unet with dropout layers\n",
    "4. Training with combined dataset + Augmentation,  using Unet with dropout layers"
   ]
  },
  {
   "cell_type": "code",
   "execution_count": null,
   "metadata": {
    "scrolled": false
   },
   "outputs": [],
   "source": [
    "weights_file = \"/masvol/heartsmart/unet_model/baseline/results/experiments/combined_1_3_176_dice.hdf5\"\n",
    "history_file = '/masvol/heartsmart/unet_model/baseline/results/experiments/combined_1_3_176x_aug_dice2_learning_history.json'\n",
    "image_file = \"/masvol/heartsmart/unet_model/baseline/data/combined_1_3_176_test_images.npy\"\n",
    "label_file = \"/masvol/heartsmart/unet_model/baseline/data/combined_1_3_176_test_labels.npy\"\n",
    "pred_file = \"/masvol/heartsmart/unet_model/baseline/results/experiments/combined_1_3_176x_aug_dice2_predictions.npy\"\n",
    "plot_learning_history(history_file)\n",
    "show_performance_statistics(label_file, pred_file)\n",
    "find_outliers(label_file, pred_file)\n",
    "display_images_labels_predictions (image_file, label_file, pred_file, num_images = 4, random_images = True)\n",
    "print('-'*30)\n",
    "print('-'*30)\n",
    "# zcontour = [47, 68, 81, 82, 141, 155, 173, 202, 213]\n",
    "# display_images_labels_predictions (image_file, label_file, pred_file, image_list = zcontour)\n"
   ]
  },
  {
   "cell_type": "code",
   "execution_count": null,
   "metadata": {
    "scrolled": false
   },
   "outputs": [],
   "source": [
    "zcontour = [55, 66, 81, 92, 117, 141, 173, 226]\n",
    "display_images_labels_predictions (image_file, label_file, pred_file, image_list = zcontour)"
   ]
  },
  {
   "cell_type": "code",
   "execution_count": null,
   "metadata": {
    "scrolled": false
   },
   "outputs": [],
   "source": [
    "weights_file = \"/masvol/heartsmart/unet_model/baseline/results/combined_1_3_176_aug_dice.hdf5\"\n",
    "history_file = '/masvol/heartsmart/unet_model/baseline/results/experiments/combined_1_3_176_aug_dice_learning_history.json'\n",
    "image_file = \"/masvol/heartsmart/unet_model/baseline/data/combined_1_3_176_test_images.npy\"\n",
    "label_file = \"/masvol/heartsmart/unet_model/baseline/data/combined_1_3_176_test_labels.npy\"\n",
    "pred_file = \"/masvol/heartsmart/unet_model/baseline/results/experiments/combined_1_3_176_aug_dice_predictions.npy\"\n",
    "plot_learning_history(history_file)\n",
    "show_performance_statistics(label_file, pred_file)\n",
    "find_outliers(label_file, pred_file)\n",
    "display_images_labels_predictions (image_file, label_file, pred_file, num_images = 4, random_images = True)\n",
    "print('-'*30)\n",
    "print('-'*30)\n",
    "zcontour = [47, 68, 81, 82, 141, 155, 173, 202, 213]\n",
    "display_images_labels_predictions (image_file, label_file, pred_file, image_list = zcontour)\n"
   ]
  },
  {
   "cell_type": "code",
   "execution_count": null,
   "metadata": {
    "scrolled": false
   },
   "outputs": [],
   "source": [
    "weights_file = \"/masvol/heartsmart/unet_model/baseline/results/combined_1_3_176_drop_dice.hdf5\"\n",
    "history_file = '/masvol/heartsmart/unet_model/baseline/results/combined_1_3_176_drop_dice_learning_history.json'\n",
    "image_file = \"/masvol/heartsmart/unet_model/baseline/data/combined_1_3_176_test_images.npy\"\n",
    "label_file = \"/masvol/heartsmart/unet_model/baseline/data/combined_1_3_176_test_labels.npy\"\n",
    "pred_file = \"/masvol/heartsmart/unet_model/baseline/results/combined_1_3_176_drop_dice_predictions.npy\"\n",
    "plot_learning_history(history_file)\n",
    "show_performance_statistics(label_file, pred_file)\n",
    "find_outliers(label_file, pred_file)\n",
    "display_images_labels_predictions (image_file, label_file, pred_file, num_images = 4, random_images = True)\n",
    "print('-'*30)\n",
    "print('-'*30)\n",
    "zcontour = [47, 68, 81, 82, 141, 155, 173, 202, 213]\n",
    "display_images_labels_predictions (image_file, label_file, pred_file, image_list = zcontour)\n"
   ]
  },
  {
   "cell_type": "code",
   "execution_count": null,
   "metadata": {
    "scrolled": false
   },
   "outputs": [],
   "source": [
    "weights_file = \"/masvol/heartsmart/unet_model/baseline/results/combined_1_3_176_aug_drop_dice.hdf5\"\n",
    "history_file = '/masvol/heartsmart/unet_model/baseline/results/combined_1_3_176_aug_drop_dice_learning_history.json'\n",
    "image_file = \"/masvol/heartsmart/unet_model/baseline/data/combined_1_3_176_test_images.npy\"\n",
    "label_file = \"/masvol/heartsmart/unet_model/baseline/data/combined_1_3_176_test_labels.npy\"\n",
    "pred_file = \"/masvol/heartsmart/unet_model/baseline/results/combined_1_3_176_aug_drop_dice_predictions.npy\"\n",
    "plot_learning_history(history_file)\n",
    "show_performance_statistics(label_file, pred_file)\n",
    "find_outliers(label_file, pred_file)\n",
    "display_images_labels_predictions (image_file, label_file, pred_file, num_images = 4, random_images = True)\n",
    "print('-'*30)\n",
    "print('-'*30)\n",
    "zcontour = [47, 68, 81, 82, 141, 155, 173, 202, 213]\n",
    "display_images_labels_predictions (image_file, label_file, pred_file, image_list = zcontour)\n"
   ]
  },
  {
   "cell_type": "code",
   "execution_count": null,
   "metadata": {},
   "outputs": [],
   "source": [
    "zcontour = [173, 188]\n",
    "display_images_labels_predictions (image_file, label_file, pred_file, image_list = zcontour)"
   ]
  },
  {
   "cell_type": "code",
   "execution_count": null,
   "metadata": {},
   "outputs": [],
   "source": [
    "zcontour = [55, 81, 82, 141]\n",
    "display_images_labels_predictions (image_file, label_file, pred_file, image_list = zcontour)"
   ]
  },
  {
   "cell_type": "code",
   "execution_count": null,
   "metadata": {},
   "outputs": [],
   "source": []
  },
  {
   "cell_type": "markdown",
   "metadata": {},
   "source": [
    "## Analysis on training with 176x176  combined data set (ACDC + Sunnybrook) + Labels with Zero Contours  \n",
    "### (data set prefix combined_1_3_0_176)\n",
    "### Below are the results of 4 tests\n",
    "1. Training with combined dataset\n",
    "2. Training with combined dataset + Augmentation\n",
    "3. Training with combined dataset (no augmentation),  using Unet with dropout layers\n",
    "4. Training with combined dataset + Augmentation,  using Unet with dropout layers"
   ]
  },
  {
   "cell_type": "code",
   "execution_count": null,
   "metadata": {
    "scrolled": false
   },
   "outputs": [],
   "source": [
    "\n",
    "weights_file = \"/masvol/heartsmart/unet_model/baseline/results/combined_1_3_0_176_dice.hdf5\"\n",
    "history_file = '/masvol/heartsmart/unet_model/baseline/results/combined_1_3_0_176_dice_learning_history.json'\n",
    "image_file = \"/masvol/heartsmart/unet_model/baseline/data/combined_1_3_0_176_test_images.npy\"\n",
    "label_file = \"/masvol/heartsmart/unet_model/baseline/data/combined_1_3_0_176_test_labels.npy\"\n",
    "pred_file = \"/masvol/heartsmart/unet_model/baseline/results/combined_1_3_0_176_dice_predictions.npy\"\n",
    "plot_learning_history(history_file)\n",
    "show_performance_statistics(label_file, pred_file)\n",
    "find_outliers(label_file, pred_file)\n",
    "display_images_labels_predictions (image_file, label_file, pred_file, num_images = 4, random_images = True)\n",
    "print('-'*30)\n",
    "print('-'*30)\n",
    "zcontour = [47, 68, 81, 82, 141, 155, 173, 202, 213]\n",
    "display_images_labels_predictions (image_file, label_file, pred_file, image_list = zcontour)\n"
   ]
  },
  {
   "cell_type": "code",
   "execution_count": null,
   "metadata": {},
   "outputs": [],
   "source": [
    "# zcontour = [8, 14, 20, 32, 39, 95, 135]\n",
    "# display_images_labels_predictions (image_file, label_file, pred_file, image_list = zcontour)"
   ]
  },
  {
   "cell_type": "code",
   "execution_count": null,
   "metadata": {
    "scrolled": false
   },
   "outputs": [],
   "source": [
    "weights_file = \"/masvol/heartsmart/unet_model/baseline/results/combined_1_3_0_176_aug_dice.hdf5\"\n",
    "history_file = '/masvol/heartsmart/unet_model/baseline/results/combined_1_3_0_176_aug_dice_learning_history.json'\n",
    "image_file = \"/masvol/heartsmart/unet_model/baseline/data/combined_1_3_0_176_test_images.npy\"\n",
    "label_file = \"/masvol/heartsmart/unet_model/baseline/data/combined_1_3_0_176_test_labels.npy\"\n",
    "pred_file = \"/masvol/heartsmart/unet_model/baseline/results/combined_1_3_0_176_aug_dice_predictions.npy\"\n",
    "plot_learning_history(history_file)\n",
    "show_performance_statistics(label_file, pred_file)\n",
    "find_outliers(label_file, pred_file)\n",
    "display_images_labels_predictions (image_file, label_file, pred_file, num_images = 4, random_images = True)\n",
    "print('-'*30)\n",
    "print('-'*30)\n",
    "zcontour = [47, 68, 81, 82, 141, 155, 173, 202, 213]\n",
    "display_images_labels_predictions (image_file, label_file, pred_file, image_list = zcontour)\n"
   ]
  },
  {
   "cell_type": "code",
   "execution_count": null,
   "metadata": {},
   "outputs": [],
   "source": [
    "# Sample Index of labels with zero contours [8, 14, 20, 32, 39, 95, 135]\n",
    "# Sample Index of predictions with zero contours [14, 20, 77, 95, 135, 169, 189]\n",
    "# Sample Index where missed predictions >= 100% 6 [8, 32, 39, 77, 169, 189]\n",
    "# zcontour = [8, 14, 20, 32, 39, 95, 135]\n",
    "# display_images_labels_predictions (image_file, label_file, pred_file, image_list = zcontour)\n"
   ]
  },
  {
   "cell_type": "code",
   "execution_count": null,
   "metadata": {},
   "outputs": [],
   "source": [
    "# zcontour = [14, 20, 77, 95, 135, 169, 189]\n",
    "# display_images_labels_predictions (image_file, label_file, pred_file, image_list = zcontour)"
   ]
  },
  {
   "cell_type": "code",
   "execution_count": null,
   "metadata": {},
   "outputs": [],
   "source": [
    "# zcontour = [8, 32, 39, 77, 169, 189]\n",
    "# #display_images_labels_predictions (image_file, label_file, pred_file, image_list = zcontour)\n",
    "# display_images_predictions (image_file,  pred_file, image_list = zcontour)"
   ]
  },
  {
   "cell_type": "code",
   "execution_count": null,
   "metadata": {
    "scrolled": false
   },
   "outputs": [],
   "source": [
    "weights_file = \"/masvol/heartsmart/unet_model/baseline/results/combined_1_3_0_176_drop_dice.hdf5\"\n",
    "history_file = '/masvol/heartsmart/unet_model/baseline/results/combined_1_3_0_176_drop_dice_learning_history.json'\n",
    "image_file = \"/masvol/heartsmart/unet_model/baseline/data/combined_1_3_0_176_test_images.npy\"\n",
    "label_file = \"/masvol/heartsmart/unet_model/baseline/data/combined_1_3_0_176_test_labels.npy\"\n",
    "pred_file = \"/masvol/heartsmart/unet_model/baseline/results/combined_1_3_0_176_drop_dice_predictions.npy\"\n",
    "plot_learning_history(history_file)\n",
    "show_performance_statistics(label_file, pred_file)\n",
    "find_outliers(label_file, pred_file)\n",
    "display_images_labels_predictions (image_file, label_file, pred_file, num_images = 4, random_images = True)\n",
    "print('-'*30)\n",
    "print('-'*30)\n",
    "zcontour = [4, 8, 32, 39, 46, 63, 65, 77,]\n",
    "display_images_labels_predictions (image_file, label_file, pred_file, image_list = zcontour)\n",
    "#combined_1_3_0_176_drop_dice"
   ]
  },
  {
   "cell_type": "code",
   "execution_count": null,
   "metadata": {
    "scrolled": false
   },
   "outputs": [],
   "source": [
    "weights_file = \"/masvol/heartsmart/unet_model/baseline/results/combined_1_3_0_176_aug_drop_dice.hdf5\"\n",
    "history_file = '/masvol/heartsmart/unet_model/baseline/results/combined_1_3_0_176_aug_drop_dice_learning_history.json'\n",
    "image_file = \"/masvol/heartsmart/unet_model/baseline/data/combined_1_3_0_176_test_images.npy\"\n",
    "label_file = \"/masvol/heartsmart/unet_model/baseline/data/combined_1_3_0_176_test_labels.npy\"\n",
    "pred_file = \"/masvol/heartsmart/unet_model/baseline/results/combined_1_3_0_176_aug_drop_dice_predictions.npy\"\n",
    "plot_learning_history(history_file)\n",
    "show_performance_statistics(label_file, pred_file)\n",
    "find_outliers(label_file, pred_file)\n",
    "display_images_labels_predictions (image_file, label_file, pred_file, num_images = 4, random_images = True)\n",
    "print('-'*30)\n",
    "print('-'*30)\n",
    "zcontour = [47, 68, 81, 82, 141, 155, 173, 202, 213]\n",
    "display_images_labels_predictions (image_file, label_file, pred_file, image_list = zcontour)\n",
    "#combined_1_3_0_176_drop_dice"
   ]
  },
  {
   "cell_type": "code",
   "execution_count": null,
   "metadata": {},
   "outputs": [],
   "source": [
    "# zcontour = [8, 14, 20, 32, 39, 95, 135]\n",
    "# display_images_labels_predictions (image_file, label_file, pred_file, image_list = zcontour)"
   ]
  },
  {
   "cell_type": "code",
   "execution_count": null,
   "metadata": {
    "scrolled": false
   },
   "outputs": [],
   "source": [
    "# #zcontour = [14, 20, 46, 65, 77, 102, 104, 154, 169, 189]\n",
    "# zcontour = [14, 20, 63, 77, 95, 104, 135, 169, 189, 198, 212]\n",
    "# display_images_labels_predictions (image_file, label_file, pred_file, image_list = zcontour)"
   ]
  },
  {
   "cell_type": "code",
   "execution_count": null,
   "metadata": {},
   "outputs": [],
   "source": [
    "## "
   ]
  },
  {
   "cell_type": "markdown",
   "metadata": {},
   "source": [
    "## 176x176 images.. Training with BatchNormalization"
   ]
  },
  {
   "cell_type": "code",
   "execution_count": null,
   "metadata": {
    "scrolled": false
   },
   "outputs": [],
   "source": [
    "weights_file = \"/masvol/heartsmart/unet_model/baseline/results/1_3_0_176_bn.hdf5\"\n",
    "history_file = '/masvol/heartsmart/unet_model/baseline/results/1_3_0_176_bn_learning_history.json'\n",
    "image_file = \"/masvol/heartsmart/unet_model/baseline/data/combined_1_3_0_176_test_images.npy\"\n",
    "label_file = \"/masvol/heartsmart/unet_model/baseline/data/combined_1_3_0_176_test_labels.npy\"\n",
    "pred_file = \"/masvol/heartsmart/unet_model/baseline/results/1_3_0_176_bn_predictions.npy\"\n",
    "plot_learning_history(history_file)\n",
    "show_performance_statistics(label_file, pred_file)\n",
    "find_outliers(label_file, pred_file)\n",
    "display_images_labels_predictions (image_file, label_file, pred_file, num_images = 4, random_images = True)\n",
    "print('-'*30)\n",
    "print('-'*30)\n",
    "zcontour = [4, 8, 32, 39, 63, 65, 67, 77, 83, 104, 144, 169, 198, 201]\n",
    "display_images_predictions (image_file, pred_file, image_list = zcontour)\n",
    "#combined_1_3_0_176_drop_dice"
   ]
  },
  {
   "cell_type": "code",
   "execution_count": null,
   "metadata": {},
   "outputs": [],
   "source": [
    "zcontour = [8, 32, 39, 77, 169, 189]\n",
    "display_images_labels_predictions (image_file, label_file, pred_file, image_list = zcontour)"
   ]
  },
  {
   "cell_type": "code",
   "execution_count": null,
   "metadata": {
    "scrolled": false
   },
   "outputs": [],
   "source": [
    "#'1_3_0_176_bn_drop_learning_history.json'\n",
    "weights_file = \"/masvol/heartsmart/unet_model/baseline/results/1_3_0_176_bn_drop.hdf5\"\n",
    "history_file = '/masvol/heartsmart/unet_model/baseline/results/1_3_0_176_bn_drop_learning_history.json'\n",
    "image_file = \"/masvol/heartsmart/unet_model/baseline/data/combined_1_3_0_176_test_images.npy\"\n",
    "label_file = \"/masvol/heartsmart/unet_model/baseline/data/combined_1_3_0_176_test_labels.npy\"\n",
    "pred_file = \"/masvol/heartsmart/unet_model/baseline/results/1_3_0_176_bn_drop_predictions.npy\"\n",
    "plot_learning_history(history_file)\n",
    "show_performance_statistics(label_file, pred_file)\n",
    "find_outliers(label_file, pred_file)\n",
    "display_images_labels_predictions (image_file, label_file, pred_file, num_images = 4, random_images = True)\n",
    "print('-'*30)\n",
    "print('-'*30)\n",
    "zcontour = [4, 8, 32, 39, 63, 65, 67, 77, 83, 104, 144, 169, 198, 201]\n",
    "display_images_labels_predictions (image_file, label_file, pred_file, image_list = zcontour)\n",
    "#combined_1_3_0_176_drop_dice"
   ]
  },
  {
   "cell_type": "code",
   "execution_count": null,
   "metadata": {
    "scrolled": false
   },
   "outputs": [],
   "source": [
    "#'1_3_0_176_bn_drop_learning_history.json'\n",
    "weights_file = \"/masvol/heartsmart/unet_model/baseline/results/1_3_0_176_bn2.hdf5\"\n",
    "history_file = '/masvol/heartsmart/unet_model/baseline/results/1_3_0_176_bn2_learning_history.json'\n",
    "image_file = \"/masvol/heartsmart/unet_model/baseline/data/combined_1_3_0_176_test_images.npy\"\n",
    "label_file = \"/masvol/heartsmart/unet_model/baseline/data/combined_1_3_0_176_test_labels.npy\"\n",
    "pred_file = \"/masvol/heartsmart/unet_model/baseline/results/1_3_0_176_bn2_predictions.npy\"\n",
    "plot_learning_history(history_file)\n",
    "show_performance_statistics(label_file, pred_file)\n",
    "find_outliers(label_file, pred_file)\n",
    "display_images_labels_predictions (image_file, label_file, pred_file, num_images = 4, random_images = True)\n",
    "print('-'*30)\n",
    "print('-'*30)\n",
    "zcontour = [4, 8, 32, 39, 63, 65, 67, 77, 83, 104, 144, 169, 198, 201]\n",
    "display_images_labels_predictions (image_file, label_file, pred_file, image_list = zcontour)\n",
    "#combined_1_3_0_176_drop_dice"
   ]
  },
  {
   "cell_type": "code",
   "execution_count": null,
   "metadata": {},
   "outputs": [],
   "source": []
  },
  {
   "cell_type": "markdown",
   "metadata": {},
   "source": [
    "## Analysis of predictions on  DSB data set (256x256  images)"
   ]
  },
  {
   "cell_type": "code",
   "execution_count": null,
   "metadata": {
    "scrolled": false
   },
   "outputs": [],
   "source": [
    "image_file = \"/masvol/heartsmart/unet_model/data/baseline/combined_1_3_256_test_images.npy\"\n",
    "pred_file = \"/masvol/heartsmart/unet_model/data/baseline/combined_1_3_256_predictions.npy\"\n",
    "find_outliers_in_prediction(pred_file)\n",
    "display_images_predictions (image_file, pred_file, num_images = 4, random_images = True)\n",
    "print (\"-\"*30)\n",
    "imglist = [21, 84, 127]\n",
    "display_images_predictions (image_file, pred_file, image_list = imglist)\n"
   ]
  },
  {
   "cell_type": "code",
   "execution_count": null,
   "metadata": {},
   "outputs": [],
   "source": []
  },
  {
   "cell_type": "markdown",
   "metadata": {},
   "source": [
    "## Analysis of predictions on  DSB data set (176x176  images)"
   ]
  },
  {
   "cell_type": "code",
   "execution_count": null,
   "metadata": {
    "scrolled": false
   },
   "outputs": [],
   "source": [
    "# image_file = \"/masvol/heartsmart/unet_model/data/baseline/combined_1_3_176_test_images.npy\"\n",
    "# pred_file = \"/masvol/heartsmart/unet_model/data/baseline/combined_1_3_176_predictions.npy\"\n",
    "# find_outliers_in_prediction(pred_file)\n",
    "# display_images_predictions (image_file, pred_file, num_images = 4, random_images = True)\n",
    "# print (\"-\"*30)\n",
    "# print (\"-\"*30)\n",
    "# imglist = [173]\n",
    "# display_images_predictions (image_file, pred_file, image_list = imglist)"
   ]
  },
  {
   "cell_type": "code",
   "execution_count": null,
   "metadata": {},
   "outputs": [],
   "source": [
    "RESULTS_PATH = '/masvol/heartsmart/unet_model/baseline/results/experiments/'\n",
    "#label_file = \"/masvol/heartsmart/unet_model/baseline/data/combined_1_3_0_176_test_labels.npy\"\n",
    "\n",
    "\n",
    "m_name = 'dsb_315_176'\n",
    "image_file = \"/masvol/output/dsb/norm/outlier_testing/m1t3/\" + m_name+ \"_train.npy\"\n",
    "pred_file = RESULTS_PATH + m_name + '_predictions.npy'\n",
    "#weights_file = RESULTS_PATH + 'combined_1_3_176x_aug_dice2.hdf5'\n",
    "weights_file = '/masvol/heartsmart/unet_model/baseline/results/final/1_3_0_176_aug_ld1.hdf5'\n",
    "mnet = predict_with_pretrained_weights(model_name=m_name, nGPU=0, model_file=weights_file, image_size = 176, \\\n",
    "                            test_image_file = image_file)\n",
    "\n",
    "#mnet.save_model_info(mpath)\n",
    "print (\"Saving predictions\")\n",
    "np.save(pred_file, mnet.predictions)\n",
    "find_outliers_in_prediction(pred_file)"
   ]
  },
  {
   "cell_type": "code",
   "execution_count": null,
   "metadata": {
    "scrolled": false
   },
   "outputs": [],
   "source": [
    "\n",
    "display_images_predictions (image_file, pred_file, num_images = 10, random_images = True)\n",
    "print (\"-\"*30)\n"
   ]
  },
  {
   "cell_type": "code",
   "execution_count": null,
   "metadata": {
    "scrolled": false
   },
   "outputs": [],
   "source": [
    "imglist = [25, 29, 38, 50, 52, 55, 58, 64, 115, 117, 119, 187, 199, 202, 203, 211, 214, 246, 247, 282, 311, 314, 324, 326, 329, 343, 370, 373, 374, 386, 389, 397, 408, 410]\n",
    "display_images_predictions (image_file, pred_file, image_list = imglist)"
   ]
  },
  {
   "cell_type": "code",
   "execution_count": null,
   "metadata": {},
   "outputs": [],
   "source": []
  },
  {
   "cell_type": "code",
   "execution_count": null,
   "metadata": {},
   "outputs": [],
   "source": []
  },
  {
   "cell_type": "code",
   "execution_count": null,
   "metadata": {},
   "outputs": [],
   "source": []
  }
 ],
 "metadata": {
  "kernelspec": {
   "display_name": "Python 3",
   "language": "python",
   "name": "python3"
  },
  "language_info": {
   "codemirror_mode": {
    "name": "ipython",
    "version": 3
   },
   "file_extension": ".py",
   "mimetype": "text/x-python",
   "name": "python",
   "nbconvert_exporter": "python",
   "pygments_lexer": "ipython3",
   "version": "3.5.2"
  }
 },
 "nbformat": 4,
 "nbformat_minor": 2
}
