{
 "cells": [
  {
   "cell_type": "code",
   "execution_count": 1,
   "metadata": {},
   "outputs": [
    {
     "name": "stderr",
     "output_type": "stream",
     "text": [
      "/usr/local/lib/python3.5/dist-packages/h5py/__init__.py:36: FutureWarning: Conversion of the second argument of issubdtype from `float` to `np.floating` is deprecated. In future, it will be treated as `np.float64 == np.dtype(float).type`.\n",
      "  from ._conv import register_converters as _register_converters\n",
      "Using TensorFlow backend.\n"
     ]
    },
    {
     "name": "stdout",
     "output_type": "stream",
     "text": [
      "\n",
      "Successfully imported packages!!!\n",
      "\n",
      "START: 1526623808.7187593\n",
      "\n",
      "Successfully imported packages!!!\n",
      "\n"
     ]
    }
   ],
   "source": [
    "#!/usr/bin/env python\n",
    "import re, sys, math\n",
    "import glob\n",
    "import random\n",
    "import json\n",
    "import os \n",
    "import numpy as np\n",
    "import matplotlib.pyplot as plt\n",
    "from sklearn.metrics import log_loss\n",
    "from sklearn.metrics import accuracy_score, f1_score, precision_score, recall_score, classification_report, confusion_matrix\n",
    "from collections import OrderedDict\n",
    "import pandas as pd\n",
    "from helper_utilities import *\n",
    "from helper_plotutilities import *\n",
    "from unet_model  import *\n",
    "from unet_predict_sk import *\n",
    "\n",
    "%matplotlib inline"
   ]
  },
  {
   "cell_type": "code",
   "execution_count": 7,
   "metadata": {},
   "outputs": [],
   "source": [
    "##explist256 = ['combined_1_3_256_epoch20', 'combined_1_3_256', 'combined_aug_1_3_256',\\\n",
    "# 'combined_drop_1_3_256','combined_aug_drop_1_3_256']\n",
    "keys = [\"samples\", \"logloss\", \"weighted_logloss\",\"accuracy\", \"weighted_accuracy\", \"precision\",\"recall\", \"f1_score\", \"true_positive\", \\\n",
    "       \"false_positive\",\"true_negative\",\"false_negative\", \"zero_contour_labels\", \"zero_contour_pred\", \\\n",
    "       \"missed_pred_lt_05\", \"missed_pred_gt_25\", \"missed_pred_gt_50\", \"missed_pred_eq_100\"]\n",
    "\n",
    "explist256 = [ 'combined_1_3_256', 'combined_aug_1_3_256', 'combined_drop_1_3_256','combined_aug_drop_1_3_256']\n",
    "\n",
    "#image set that includes labels with zero contours in the training set\n",
    "#explist256_0 = ['combined_1_3_0_256', 'combined_1_3_0_256_dice','combined_1_3_0_256_aug_dice',  'combined_aug_1_3_0_256', 'combined_1_3_0_256_drop','combined_1_3_0_256_dicecoef', 'combined_1_3_0_256_drop_dicecoef']\n",
    "explist256_0 = [ 'combined_1_3_0_256_dice','combined_1_3_0_256_aug_dice']\n",
    "\n",
    "#explist176 = ['combined_1_3_176', 'combined_1_3_176_aug_dice', 'combined_1_3_176_aug_drop_dice']\n",
    "explist176 = ['combined_1_3_176', 'combined_1_3_176_dice', 'combined_1_3_176_aug_dice', 'combined_1_3_176_drop_dice', 'combined_1_3_176_aug_drop_dice']\n",
    "\n",
    "explist176_0 = ['combined_1_3_0_176_dice', 'combined_1_3_0_176_aug_dice','combined_1_3_0_176_drop_dice', 'combined_1_3_0_176_aug_drop_dice', 'combined_1_3_0_176_aug_drop_dice2']\n",
    "explist176_0_bn = ['1_3_0_176_bn', '1_3_0_176_bn2', '1_3_0_176_bn4','1_3_0_176_bn_drop', '1_3_0_176_bn_aug_drop']\n",
    "explist256_0_bn = ['1_3_0_256_bn_dice']\n",
    "\n",
    "bd176 = ['1_3_0_176_aug_bd', '1_3_0_176_aug_bd2']\n"
   ]
  },
  {
   "cell_type": "code",
   "execution_count": 3,
   "metadata": {},
   "outputs": [],
   "source": [
    "\n",
    "            \n",
    "#################\n",
    "# Method to create a U-net model and train it\n",
    "# Create a U-Net model, train the model and run the predictions and save the trained weights and predictions\n",
    "#\n",
    "##########################\n",
    "# /masvol/heartsmart/unet_model/data/sunnybrook_176_train_images.npy \n",
    "# /masvol/heartsmart/unet_model/data/sunnybrook_176_train_images.npy \n",
    "# /masvol/heartsmart/unet_model/data/sunnybrook_176_train_labels.npy\n",
    "\n",
    "def train_unet_model (model_name, nGPU, image_size, training_images, training_labels, test_images, test_labels, model_path, dropout, optimizer, learningrate, lossfun, batch_size, epochs, augmentation = False, model_summary = False):\n",
    "    \n",
    "    #samples, x, y, z = pred.shape\n",
    "    \n",
    "    train_data = {}\n",
    "    test_data = {}\n",
    "\n",
    "    train_data[\"images\"] = training_images\n",
    "    train_data[\"labels\"] = training_labels\n",
    "    test_data[\"images\"] = test_images\n",
    "    test_data[\"labels\"] = test_labels\n",
    "\n",
    "    \n",
    "    if not os.path.exists(model_path):\n",
    "        print (\"creating dir \", model_path)\n",
    "        os.makedirs(model_path)\n",
    "            \n",
    "    # get the u-net model and load train and test data\n",
    "    myunet = myUnet(model_name = model_name, nGPU = nGPU, image_size = image_size, dropout = dropout, optimizer = optimizer, lr=learningrate, loss_fn = lossfn)\n",
    "    myunet.load_data (train_data, test_data)\n",
    "\n",
    "    if (model_summary == True):\n",
    "        print (\"Printing model summary \")\n",
    "        #myunet.model.summary()\n",
    "        myunet.parallel_model.summary()\n",
    "        \n",
    "    res = myunet.train_and_predict(model_path, batch_size = batch_size, nb_epoch = epochs, augmentation = augmentation)\n",
    "    \n",
    "#     if (augmentation == True) :\n",
    "#         res = myunet.train_with_augmentation(model_file, batch_size = batch_size, nb_epoch = epochs)\n",
    "#     else :\n",
    "#         res = myunet.train_and_predict(model_file, batch_size = batch_size, nb_epoch = epochs)\n",
    "        \n",
    "    return myunet\n",
    "\n",
    "def predict_with_pretrained_weights(model_name, nGPU, model_file, image_size, test_image_file, test_label_file = \"none\"):\n",
    "    img_size_list = [176, 256]\n",
    "    if image_size not in img_size_list:\n",
    "        print (\"image size %d is not supported\"%image_size)\n",
    "        return \n",
    "    \n",
    "    size_str = str(image_size)\n",
    "    \n",
    "    test_data = {}\n",
    "    test_data[\"images\"] = test_image_file\n",
    "    test_data[\"labels\"] = test_label_file\n",
    "\n",
    "    model_file = model_file\n",
    "\n",
    "    print('-'*30)\n",
    "    print (\"Get Test images and labels...\")\n",
    "    if test_label_file == \"none\": \n",
    "        ts = load_images(test_image_file)\n",
    "        tl = \"none\"\n",
    "    else :\n",
    "        ts , tl= load_images_and_labels(test_data)\n",
    "\n",
    "    print('-'*30)\n",
    "    print (\"Creating U-net model...\")\n",
    "    myunet = myUnet(model_name = model_name, nGPU = nGPU, image_size = image_size)\n",
    "    print('-'*30)\n",
    "    print (\"Loading the pre-trained weights...\")\n",
    "    myunet.load_pretrained_weights(model_file)\n",
    "    print('-'*30)\n",
    "\n",
    "    print('Run predictions...')\n",
    "    myunet.predict(test_image_array = ts, test_label_array = tl)\n",
    "    print('-'*30)\n",
    "\n",
    "    return myunet"
   ]
  },
  {
   "cell_type": "code",
   "execution_count": null,
   "metadata": {},
   "outputs": [],
   "source": []
  },
  {
   "cell_type": "code",
   "execution_count": null,
   "metadata": {},
   "outputs": [],
   "source": []
  },
  {
   "cell_type": "code",
   "execution_count": null,
   "metadata": {},
   "outputs": [],
   "source": [
    "len(threshold), fpr.max(),"
   ]
  },
  {
   "cell_type": "code",
   "execution_count": null,
   "metadata": {},
   "outputs": [],
   "source": []
  },
  {
   "cell_type": "code",
   "execution_count": null,
   "metadata": {},
   "outputs": [],
   "source": []
  },
  {
   "cell_type": "code",
   "execution_count": 8,
   "metadata": {},
   "outputs": [
    {
     "name": "stdout",
     "output_type": "stream",
     "text": [
      "weights file /masvol/heartsmart/unet_model/baseline/results/1_3_0_176_aug_bd.hdf5\n",
      "pred_file /masvol/heartsmart/unet_model/baseline/results/1_3_0_176_aug_bdz_predictions.npy\n",
      "------------------------------\n",
      "Get Test images and labels...\n",
      "------------------------------\n",
      "load np arrays of images ...\n",
      "------------------------------\n",
      "Loading files :  /masvol/heartsmart/unet_model/baseline/data/combined_1_3_0_176_test_images.npy\n",
      "shape, max, min, mean of original image set: (270, 176, 176, 1) 1.0 0.0 0.20691323\n",
      "shape, max, min, mean after normalization: (270, 176, 176, 1) 1.0 0.0 0.20691323\n",
      "------------------------------\n",
      "Creating U-net model...\n",
      "------------------------------\n",
      "Building U-net model\n",
      "------------------------------\n",
      "conv1 shape: (?, 176, 176, 64)\n",
      "conv1 shape: (?, 176, 176, 64)\n",
      "pool1 shape: (?, 88, 88, 64)\n",
      "conv2 shape: (?, 88, 88, 128)\n",
      "conv2 shape: (?, 88, 88, 128)\n",
      "pool2 shape: (?, 44, 44, 128)\n",
      "conv3 shape: (?, 44, 44, 256)\n",
      "conv3 shape: (?, 44, 44, 256)\n",
      "pool3 shape: (?, 22, 22, 256)\n",
      "Adding .5 dropout layer\n",
      "Adding .5 dropout layer\n",
      "Adding .5 dropout layer\n",
      "Adding .5 dropout layer\n",
      "compiling the model\n",
      "------------------------------\n",
      "Loading the pre-trained weights...\n",
      "------------------------------\n",
      "Loading pre-trained weights...\n"
     ]
    },
    {
     "name": "stderr",
     "output_type": "stream",
     "text": [
      "/masvol/heartsmart/unet_model/unet_model.py:193: UserWarning: Update your `Model` call to the Keras 2 API: `Model(inputs=Tensor(\"in..., outputs=Tensor(\"co...)`\n",
      "  self.model = Model(input = inputs, output = conv10)\n"
     ]
    },
    {
     "name": "stdout",
     "output_type": "stream",
     "text": [
      "------------------------------\n",
      "------------------------------\n",
      "Run predictions...\n",
      "------------------------------\n",
      "predict test data....\n",
      "270/270 [==============================] - 3s 11ms/step\n",
      "------------------------------\n",
      "------------------------------\n",
      "------------------------------\n",
      "Saving predictions\n",
      "weights file /masvol/heartsmart/unet_model/baseline/results/1_3_0_176_aug_bd2.hdf5\n",
      "pred_file /masvol/heartsmart/unet_model/baseline/results/1_3_0_176_aug_bd2z_predictions.npy\n",
      "------------------------------\n",
      "Get Test images and labels...\n",
      "------------------------------\n",
      "load np arrays of images ...\n",
      "------------------------------\n",
      "Loading files :  /masvol/heartsmart/unet_model/baseline/data/combined_1_3_0_176_test_images.npy\n",
      "shape, max, min, mean of original image set: (270, 176, 176, 1) 1.0 0.0 0.20691323\n",
      "shape, max, min, mean after normalization: (270, 176, 176, 1) 1.0 0.0 0.20691323\n",
      "------------------------------\n",
      "Creating U-net model...\n",
      "------------------------------\n",
      "Building U-net model\n",
      "------------------------------\n",
      "conv1 shape: (?, 176, 176, 64)\n",
      "conv1 shape: (?, 176, 176, 64)\n",
      "pool1 shape: (?, 88, 88, 64)\n",
      "conv2 shape: (?, 88, 88, 128)\n",
      "conv2 shape: (?, 88, 88, 128)\n",
      "pool2 shape: (?, 44, 44, 128)\n",
      "conv3 shape: (?, 44, 44, 256)\n",
      "conv3 shape: (?, 44, 44, 256)\n",
      "pool3 shape: (?, 22, 22, 256)\n",
      "Adding .5 dropout layer\n",
      "Adding .5 dropout layer\n",
      "Adding .5 dropout layer\n",
      "Adding .5 dropout layer\n",
      "compiling the model\n",
      "------------------------------\n",
      "Loading the pre-trained weights...\n",
      "------------------------------\n",
      "Loading pre-trained weights...\n",
      "------------------------------\n",
      "------------------------------\n",
      "Run predictions...\n",
      "------------------------------\n",
      "predict test data....\n",
      "270/270 [==============================] - 3s 11ms/step\n",
      "------------------------------\n",
      "------------------------------\n",
      "------------------------------\n",
      "Saving predictions\n"
     ]
    }
   ],
   "source": [
    "# RESULTS_PATH = '/masvol/heartsmart/unet_model/baseline/results/'\n",
    "# image_file = \"/masvol/heartsmart/unet_model/baseline/data/combined_1_3_0_176_test_images.npy\"\n",
    "# #label_file = \"/masvol/heartsmart/unet_model/baseline/data/combined_1_3_0_176_test_labels.npy\"\n",
    "\n",
    "# for results_file in bd176 :\n",
    "#     m_name = results_file\n",
    "#     pred_file = RESULTS_PATH + results_file + 'z_predictions.npy'\n",
    "#     weights_file = RESULTS_PATH + results_file + '.hdf5'\n",
    "#     print (\"weights file\", weights_file)\n",
    "#     print (\"pred_file\", pred_file)\n",
    "\n",
    "\n",
    "#     mnet = predict_with_pretrained_weights(model_name=m_name, nGPU=0, model_file=weights_file, image_size = 176, \\\n",
    "#                                 test_image_file = image_file)\n",
    "#     #mnet.save_model_info(mpath)\n",
    "#     print (\"Saving predictions\")\n",
    "#     np.save(pred_file, mnet.predictions)"
   ]
  },
  {
   "cell_type": "code",
   "execution_count": null,
   "metadata": {
    "scrolled": false
   },
   "outputs": [],
   "source": []
  },
  {
   "cell_type": "code",
   "execution_count": 9,
   "metadata": {
    "scrolled": false
   },
   "outputs": [],
   "source": [
    "# RESULTS_PATH = '/masvol/heartsmart/unet_model/baseline/results/'\n",
    "# label_file176 = '/masvol/heartsmart/unet_model/baseline/data/combined_1_3_0_176_test_labels.npy'\n",
    "\n",
    "# perf176bd = pd.DataFrame( keys, columns=[\"Attribute\"] )\n",
    "# for results_file in bd176 :\n",
    "#     pred_file = RESULTS_PATH + results_file + '_predictions.npy'\n",
    "#     perf = compute_performance_statistics(label_file176, pred_file)\n",
    "#     perf176bd[results_file]= perf176bd['Attribute'].map(perf)\n",
    "\n",
    "#     results_filep = results_file+\"z\"\n",
    "#     pred_file = RESULTS_PATH + results_filep + '_predictions.npy'\n",
    "#     perf = compute_performance_statistics(label_file176, pred_file)\n",
    "#     perf176bd[results_filep]= perf176bd['Attribute'].map(perf)\n"
   ]
  },
  {
   "cell_type": "code",
   "execution_count": 10,
   "metadata": {},
   "outputs": [
    {
     "data": {
      "text/html": [
       "<div>\n",
       "<style scoped>\n",
       "    .dataframe tbody tr th:only-of-type {\n",
       "        vertical-align: middle;\n",
       "    }\n",
       "\n",
       "    .dataframe tbody tr th {\n",
       "        vertical-align: top;\n",
       "    }\n",
       "\n",
       "    .dataframe thead th {\n",
       "        text-align: right;\n",
       "    }\n",
       "</style>\n",
       "<table border=\"1\" class=\"dataframe\">\n",
       "  <thead>\n",
       "    <tr style=\"text-align: right;\">\n",
       "      <th></th>\n",
       "      <th>Attribute</th>\n",
       "      <th>1_3_0_176_aug_bd</th>\n",
       "      <th>1_3_0_176_aug_bdz</th>\n",
       "      <th>1_3_0_176_aug_bd2</th>\n",
       "      <th>1_3_0_176_aug_bd2z</th>\n",
       "    </tr>\n",
       "  </thead>\n",
       "  <tbody>\n",
       "    <tr>\n",
       "      <th>0</th>\n",
       "      <td>samples</td>\n",
       "      <td>2.700000e+02</td>\n",
       "      <td>2.700000e+02</td>\n",
       "      <td>2.700000e+02</td>\n",
       "      <td>2.700000e+02</td>\n",
       "    </tr>\n",
       "    <tr>\n",
       "      <th>1</th>\n",
       "      <td>logloss</td>\n",
       "      <td>3.314687e-02</td>\n",
       "      <td>3.314687e-02</td>\n",
       "      <td>3.286729e-02</td>\n",
       "      <td>3.286729e-02</td>\n",
       "    </tr>\n",
       "    <tr>\n",
       "      <th>2</th>\n",
       "      <td>weighted_logloss</td>\n",
       "      <td>7.729452e-02</td>\n",
       "      <td>7.729452e-02</td>\n",
       "      <td>8.872644e-02</td>\n",
       "      <td>8.872644e-02</td>\n",
       "    </tr>\n",
       "    <tr>\n",
       "      <th>3</th>\n",
       "      <td>accuracy</td>\n",
       "      <td>9.673965e-01</td>\n",
       "      <td>9.673965e-01</td>\n",
       "      <td>9.676670e-01</td>\n",
       "      <td>9.676670e-01</td>\n",
       "    </tr>\n",
       "    <tr>\n",
       "      <th>4</th>\n",
       "      <td>weighted_accuracy</td>\n",
       "      <td>9.256172e-01</td>\n",
       "      <td>9.256172e-01</td>\n",
       "      <td>9.150959e-01</td>\n",
       "      <td>9.150959e-01</td>\n",
       "    </tr>\n",
       "    <tr>\n",
       "      <th>5</th>\n",
       "      <td>precision</td>\n",
       "      <td>9.452434e-01</td>\n",
       "      <td>9.452434e-01</td>\n",
       "      <td>9.561431e-01</td>\n",
       "      <td>9.561431e-01</td>\n",
       "    </tr>\n",
       "    <tr>\n",
       "      <th>6</th>\n",
       "      <td>recall</td>\n",
       "      <td>9.512370e-01</td>\n",
       "      <td>9.512370e-01</td>\n",
       "      <td>9.475576e-01</td>\n",
       "      <td>9.475576e-01</td>\n",
       "    </tr>\n",
       "    <tr>\n",
       "      <th>7</th>\n",
       "      <td>f1_score</td>\n",
       "      <td>9.482307e-01</td>\n",
       "      <td>9.482307e-01</td>\n",
       "      <td>9.518310e-01</td>\n",
       "      <td>9.518310e-01</td>\n",
       "    </tr>\n",
       "    <tr>\n",
       "      <th>8</th>\n",
       "      <td>true_positive</td>\n",
       "      <td>4.167550e+05</td>\n",
       "      <td>4.167550e+05</td>\n",
       "      <td>4.151430e+05</td>\n",
       "      <td>4.151430e+05</td>\n",
       "    </tr>\n",
       "    <tr>\n",
       "      <th>9</th>\n",
       "      <td>false_positive</td>\n",
       "      <td>2.414200e+04</td>\n",
       "      <td>2.414200e+04</td>\n",
       "      <td>1.904200e+04</td>\n",
       "      <td>1.904200e+04</td>\n",
       "    </tr>\n",
       "    <tr>\n",
       "      <th>10</th>\n",
       "      <td>true_negative</td>\n",
       "      <td>7.901259e+06</td>\n",
       "      <td>7.901259e+06</td>\n",
       "      <td>7.906359e+06</td>\n",
       "      <td>7.906359e+06</td>\n",
       "    </tr>\n",
       "    <tr>\n",
       "      <th>11</th>\n",
       "      <td>false_negative</td>\n",
       "      <td>2.136400e+04</td>\n",
       "      <td>2.136400e+04</td>\n",
       "      <td>2.297600e+04</td>\n",
       "      <td>2.297600e+04</td>\n",
       "    </tr>\n",
       "    <tr>\n",
       "      <th>12</th>\n",
       "      <td>zero_contour_labels</td>\n",
       "      <td>7.000000e+00</td>\n",
       "      <td>7.000000e+00</td>\n",
       "      <td>7.000000e+00</td>\n",
       "      <td>7.000000e+00</td>\n",
       "    </tr>\n",
       "    <tr>\n",
       "      <th>13</th>\n",
       "      <td>zero_contour_pred</td>\n",
       "      <td>5.000000e+00</td>\n",
       "      <td>5.000000e+00</td>\n",
       "      <td>9.000000e+00</td>\n",
       "      <td>9.000000e+00</td>\n",
       "    </tr>\n",
       "    <tr>\n",
       "      <th>14</th>\n",
       "      <td>missed_pred_lt_05</td>\n",
       "      <td>3.000000e+00</td>\n",
       "      <td>3.000000e+00</td>\n",
       "      <td>7.000000e+00</td>\n",
       "      <td>7.000000e+00</td>\n",
       "    </tr>\n",
       "    <tr>\n",
       "      <th>15</th>\n",
       "      <td>missed_pred_gt_25</td>\n",
       "      <td>3.500000e+01</td>\n",
       "      <td>3.500000e+01</td>\n",
       "      <td>2.600000e+01</td>\n",
       "      <td>2.600000e+01</td>\n",
       "    </tr>\n",
       "    <tr>\n",
       "      <th>16</th>\n",
       "      <td>missed_pred_gt_50</td>\n",
       "      <td>1.900000e+01</td>\n",
       "      <td>1.900000e+01</td>\n",
       "      <td>1.300000e+01</td>\n",
       "      <td>1.300000e+01</td>\n",
       "    </tr>\n",
       "    <tr>\n",
       "      <th>17</th>\n",
       "      <td>missed_pred_eq_100</td>\n",
       "      <td>8.000000e+00</td>\n",
       "      <td>8.000000e+00</td>\n",
       "      <td>7.000000e+00</td>\n",
       "      <td>7.000000e+00</td>\n",
       "    </tr>\n",
       "  </tbody>\n",
       "</table>\n",
       "</div>"
      ],
      "text/plain": [
       "              Attribute  1_3_0_176_aug_bd  1_3_0_176_aug_bdz  \\\n",
       "0               samples      2.700000e+02       2.700000e+02   \n",
       "1               logloss      3.314687e-02       3.314687e-02   \n",
       "2      weighted_logloss      7.729452e-02       7.729452e-02   \n",
       "3              accuracy      9.673965e-01       9.673965e-01   \n",
       "4     weighted_accuracy      9.256172e-01       9.256172e-01   \n",
       "5             precision      9.452434e-01       9.452434e-01   \n",
       "6                recall      9.512370e-01       9.512370e-01   \n",
       "7              f1_score      9.482307e-01       9.482307e-01   \n",
       "8         true_positive      4.167550e+05       4.167550e+05   \n",
       "9        false_positive      2.414200e+04       2.414200e+04   \n",
       "10        true_negative      7.901259e+06       7.901259e+06   \n",
       "11       false_negative      2.136400e+04       2.136400e+04   \n",
       "12  zero_contour_labels      7.000000e+00       7.000000e+00   \n",
       "13    zero_contour_pred      5.000000e+00       5.000000e+00   \n",
       "14    missed_pred_lt_05      3.000000e+00       3.000000e+00   \n",
       "15    missed_pred_gt_25      3.500000e+01       3.500000e+01   \n",
       "16    missed_pred_gt_50      1.900000e+01       1.900000e+01   \n",
       "17   missed_pred_eq_100      8.000000e+00       8.000000e+00   \n",
       "\n",
       "    1_3_0_176_aug_bd2  1_3_0_176_aug_bd2z  \n",
       "0        2.700000e+02        2.700000e+02  \n",
       "1        3.286729e-02        3.286729e-02  \n",
       "2        8.872644e-02        8.872644e-02  \n",
       "3        9.676670e-01        9.676670e-01  \n",
       "4        9.150959e-01        9.150959e-01  \n",
       "5        9.561431e-01        9.561431e-01  \n",
       "6        9.475576e-01        9.475576e-01  \n",
       "7        9.518310e-01        9.518310e-01  \n",
       "8        4.151430e+05        4.151430e+05  \n",
       "9        1.904200e+04        1.904200e+04  \n",
       "10       7.906359e+06        7.906359e+06  \n",
       "11       2.297600e+04        2.297600e+04  \n",
       "12       7.000000e+00        7.000000e+00  \n",
       "13       9.000000e+00        9.000000e+00  \n",
       "14       7.000000e+00        7.000000e+00  \n",
       "15       2.600000e+01        2.600000e+01  \n",
       "16       1.300000e+01        1.300000e+01  \n",
       "17       7.000000e+00        7.000000e+00  "
      ]
     },
     "execution_count": 10,
     "metadata": {},
     "output_type": "execute_result"
    }
   ],
   "source": [
    "perf176bd"
   ]
  },
  {
   "cell_type": "code",
   "execution_count": null,
   "metadata": {
    "scrolled": false
   },
   "outputs": [],
   "source": [
    "RESULTS_PATH = '/masvol/heartsmart/unet_model/baseline/results/'\n",
    "label_file = '/masvol/heartsmart/unet_model/baseline/data/combined_1_3_0_256_test_labels.npy'\n",
    "\n",
    "perf256_0_df = pd.DataFrame( keys, columns=[\"Attribute\"] )\n",
    "for results_file in explist256_0 :\n",
    "    pred_file = RESULTS_PATH + results_file + '_predictions.npy'\n",
    "    perf = compute_performance_statistics(label_file, pred_file)\n",
    "    perf256_0_df[results_file]= perf256_0_df['Attribute'].map(perf)\n",
    "    \n",
    "    results_filep = results_file+\"z\"\n",
    "    pred_file = RESULTS_PATH + results_filep + '_predictions.npy'\n",
    "    perf = compute_performance_statistics(label_file, pred_file)\n",
    "    perf256_0_df[results_filep]= perf256_0_df['Attribute'].map(perf)\n"
   ]
  },
  {
   "cell_type": "code",
   "execution_count": null,
   "metadata": {},
   "outputs": [],
   "source": [
    "perf256_0_df"
   ]
  },
  {
   "cell_type": "code",
   "execution_count": null,
   "metadata": {},
   "outputs": [],
   "source": [
    "#image set that includes labels with zero contours in the training set\n",
    "col256_0 = ['combined_1_3_0_256', 'combined_aug_1_3_0_256', 'combined_1_3_0_256_drop','combined_1_3_0_256_dicecoef', 'combined_1_3_0_256_drop_dicecoef']\n",
    "\n",
    "#explist176 = ['combined_1_3_176', 'combined_1_3_176_aug_dice', 'combined_1_3_176_aug_drop_dice']\n",
    "col176 = [\"Attribute\",'combined_1_3_176z', 'combined_1_3_176_dicez', 'combined_1_3_176_aug_dicez', 'combined_1_3_176_drop_dicez', 'combined_1_3_176_aug_drop_dicez']\n",
    "\n",
    "col176_0 = ['combined_1_3_0_176_dice', 'combined_1_3_0_176_aug_dice','combined_1_3_0_176_drop_dice', 'combined_1_3_0_176_aug_drop_dice', 'combined_1_3_0_176_aug_drop_dice2']\n",
    "\n",
    "perf176_df2 = perf176_df[col176]\n",
    "perf176_df2"
   ]
  },
  {
   "cell_type": "code",
   "execution_count": null,
   "metadata": {},
   "outputs": [],
   "source": [
    "perf176_df2"
   ]
  },
  {
   "cell_type": "code",
   "execution_count": null,
   "metadata": {},
   "outputs": [],
   "source": [
    "!ls /masvol/heartsmart/unet_model/baseline/results/*.csv"
   ]
  },
  {
   "cell_type": "code",
   "execution_count": null,
   "metadata": {},
   "outputs": [],
   "source": [
    "df1 = pd.read_csv('/masvol/heartsmart/unet_model/baseline/results/combined_1_3_0_176_perf_comparison_old.csv', sep='\\t')"
   ]
  },
  {
   "cell_type": "code",
   "execution_count": null,
   "metadata": {},
   "outputs": [],
   "source": [
    "df1"
   ]
  },
  {
   "cell_type": "code",
   "execution_count": null,
   "metadata": {},
   "outputs": [],
   "source": [
    "df2 = pd.read_csv('/masvol/heartsmart/unet_model/baseline/results/1_3_0_176_perf_comparison.csv', sep='\\t')"
   ]
  },
  {
   "cell_type": "code",
   "execution_count": null,
   "metadata": {},
   "outputs": [],
   "source": [
    "df2"
   ]
  },
  {
   "cell_type": "code",
   "execution_count": null,
   "metadata": {},
   "outputs": [],
   "source": []
  },
  {
   "cell_type": "code",
   "execution_count": null,
   "metadata": {},
   "outputs": [],
   "source": []
  },
  {
   "cell_type": "code",
   "execution_count": null,
   "metadata": {},
   "outputs": [],
   "source": []
  },
  {
   "cell_type": "code",
   "execution_count": null,
   "metadata": {},
   "outputs": [],
   "source": [
    "file_name = '/masvol/heartsmart/unet_model/baseline/results/1_3_0_256_perf_comparision2.csv'\n",
    "perf256_0_df.to_csv(file_name, sep='\\t')"
   ]
  },
  {
   "cell_type": "code",
   "execution_count": null,
   "metadata": {},
   "outputs": [],
   "source": [
    "label_file = \"/masvol/heartsmart/unet_model/baseline/data/combined_1_3_0_176_test_labels.npy\"\n",
    "pred_file = \"/masvol/heartsmart/unet_model/baseline/results/combined_1_3_0_176_aug_dice_predictions.npy\"\n",
    "fpr, tpr, threshold, roc_auc = compute_roc_auc(label_file, pred_file)\n",
    "\n",
    "# method I: plt\n",
    "import matplotlib.pyplot as plt\n",
    "plt.title('Receiver Operating Characteristic')\n",
    "plt.plot(fpr, tpr, 'b', label = 'AUC = %0.2f' % roc_auc)\n",
    "plt.legend(loc = 'lower right')\n",
    "plt.plot([0, 1], [0, 1],'r--')\n",
    "plt.xlim([0, 1])\n",
    "plt.ylim([0, 1])\n",
    "plt.ylabel('True Positive Rate')\n",
    "plt.xlabel('False Positive Rate')\n",
    "plt.show()"
   ]
  },
  {
   "cell_type": "code",
   "execution_count": null,
   "metadata": {},
   "outputs": [],
   "source": []
  },
  {
   "cell_type": "code",
   "execution_count": null,
   "metadata": {
    "scrolled": false
   },
   "outputs": [],
   "source": [
    "#'1_3_0_176_bn_drop_learning_history.json'\n",
    "# weights_file = \"/masvol/heartsmart/unet_model/baseline/results/1_3_0_176_bn2.hdf5\"\n",
    "# #history_file = '/masvol/heartsmart/unet_model/baseline/results/1_3_0_176_bn2_learning_history.json'\n",
    "# image_file = \"/masvol/heartsmart/unet_model/baseline/data/combined_1_3_0_176_test_images.npy\"\n",
    "# label_file = \"/masvol/heartsmart/unet_model/baseline/data/combined_1_3_0_176_test_labels.npy\"\n",
    "# pred_file = \"/masvol/heartsmart/unet_model/baseline/results/bn_predictions.npy\"\n",
    "\n",
    "weights_file = \"/masvol/heartsmart/unet_model/baseline/results/1_3_0_256_bn_dice.hdf5\"\n",
    "history_file = '/masvol/heartsmart/unet_model/baseline/results/1_3_0_256_bn_dice_learning_history.json'\n",
    "image_file = \"/masvol/heartsmart/unet_model/baseline/data/combined_1_3_0_256_test_images.npy\"\n",
    "label_file = \"/masvol/heartsmart/unet_model/baseline/data/combined_1_3_0_256_test_labels.npy\"\n",
    "pred_file = \"/masvol/heartsmart/unet_model/baseline/results/1_3_0_256_bn_dice_predictions.npy\"\n",
    "\n",
    "m_name = \"1_3_0_256_bn_dicep\"\n",
    "mpath = \"/masvol/heartsmart/unet_model/baseline/results/\"\n",
    "\n",
    "mnet = predict_with_pretrained_weights(model_name=m_name, nGPU=0, model_file=weights_file, image_size = 256, \\\n",
    "                                test_image_file = image_file, test_label_file = label_file)\n",
    "#mnet.save_model_info(mpath)\n",
    "\n",
    "pred_file =  mpath + m_name + \"_predictions.npy\"\n",
    "print (\"Saving predictions\", pred_file)\n",
    "np.save(pred_file, mnet.predictions)\n",
    "\n",
    "# plot_learning_history(history_file)\n",
    "# show_performance_statistics(label_file, pred_file)\n",
    "# find_outliers(label_file, pred_file)\n",
    "# display_images_labels_predictions (image_file, label_file, pred_file, num_images = 4, random_images = True)\n",
    "# print('-'*30)\n",
    "# print('-'*30)\n",
    "# zcontour = [4, 8, 32, 39, 63, 65, 67, 77, 83, 104, 144, 169, 198, 201]\n",
    "# display_images_labels_predictions (image_file, label_file, pred_file, image_list = zcontour)\n",
    "#combined_1_3_0_176_drop_dice"
   ]
  },
  {
   "cell_type": "code",
   "execution_count": null,
   "metadata": {},
   "outputs": [],
   "source": [
    "!ls -lprt 1_3_0_256_bn_dicep*"
   ]
  },
  {
   "cell_type": "code",
   "execution_count": null,
   "metadata": {
    "scrolled": false
   },
   "outputs": [],
   "source": [
    "weights_file = \"/masvol/heartsmart/unet_model/baseline/results/1_3_0_176_bn2.hdf5\"\n",
    "#history_file = '/masvol/heartsmart/unet_model/baseline/results/1_3_0_176_bn2_learning_history.json'\n",
    "image_file = \"/masvol/heartsmart/unet_model/baseline/data/combined_1_3_0_176_test_images.npy\"\n",
    "label_file = \"/masvol/heartsmart/unet_model/baseline/data/combined_1_3_0_176_test_labels.npy\"\n",
    "pred_file = \"/masvol/heartsmart/unet_model/baseline/results/bn_predictions.npy\"\n",
    "\n",
    "m_name = \"bn\"\n",
    "mpath = \"/masvol/heartsmart/unet_model/baseline/results/\"\n",
    "\n",
    "\n",
    "#plot_learning_history(history_file)\n",
    "show_performance_statistics(label_file, pred_file)\n",
    "find_outliers(label_file, pred_file)\n",
    "display_images_labels_predictions (image_file, label_file, pred_file, num_images = 4, random_images = True)\n",
    "print('-'*30)\n",
    "print('-'*30)\n",
    "zcontour = [4, 8, 32, 39, 63, 65, 67, 77, 83, 104, 144, 169, 198, 201]\n",
    "display_images_labels_predictions (image_file, label_file, pred_file, image_list = zcontour)\n",
    "#combined_1_3_0_176_drop_dice"
   ]
  },
  {
   "cell_type": "code",
   "execution_count": null,
   "metadata": {},
   "outputs": [],
   "source": []
  },
  {
   "cell_type": "code",
   "execution_count": null,
   "metadata": {},
   "outputs": [],
   "source": [
    "# weights_file = \"/masvol/heartsmart/unet_model/baseline/results/combined_1_3_0_176_dice.hdf5\"\n",
    "# history_file = '/masvol/heartsmart/unet_model/baseline/results/combined_1_3_0_176_dice_learning_history.json'\n",
    "# image_file = \"/masvol/heartsmart/unet_model/baseline/data/combined_1_3_0_176_test_images.npy\"\n",
    "# label_file = \"/masvol/heartsmart/unet_model/baseline/data/combined_1_3_0_176_test_labels.npy\"\n",
    "# pred_file = \"/masvol/heartsmart/unet_model/baseline/results/combined_1_3_0_176_dice_predictions.npy\"\n",
    "\n",
    "# m_name = \"unet_prediction\"\n",
    "\n",
    "# mnet = predict_with_pretrained_weights(model_name=m_name, nGPU=0, model_file=weights_file, image_size = 176, \\\n",
    "#                                 test_image_file = image_file, test_label_file = label_file)"
   ]
  },
  {
   "cell_type": "code",
   "execution_count": null,
   "metadata": {},
   "outputs": [],
   "source": []
  },
  {
   "cell_type": "code",
   "execution_count": null,
   "metadata": {},
   "outputs": [],
   "source": [
    "\n",
    "weights_file = \"/masvol/heartsmart/unet_model/baseline/results/combined_1_3_0_176_dice.hdf5\"\n",
    "history_file = '/masvol/heartsmart/unet_model/baseline/results/combined_1_3_0_176_dice_learning_history.json'\n",
    "image_file = \"/masvol/heartsmart/unet_model/baseline/data/combined_1_3_0_176_test_images.npy\"\n",
    "label_file = \"/masvol/heartsmart/unet_model/baseline/data/combined_1_3_0_176_test_labels.npy\"\n",
    "pred_file = \"/masvol/heartsmart/unet_model/baseline/results/combined_1_3_0_176_dice_predictions.npy\"\n",
    "plot_learning_history(history_file)\n",
    "show_performance_statistics(label_file, pred_file)\n",
    "find_outliers(label_file, pred_file)\n",
    "display_images_labels_predictions (image_file, label_file, pred_file, num_images = 4, random_images = True)\n",
    "print('-'*30)\n",
    "print('-'*30)\n",
    "zcontour = [47, 68, 81, 82, 141, 155, 173, 202, 213]\n",
    "display_images_labels_predictions (image_file, label_file, pred_file, image_list = zcontour)"
   ]
  },
  {
   "cell_type": "code",
   "execution_count": null,
   "metadata": {},
   "outputs": [],
   "source": []
  },
  {
   "cell_type": "code",
   "execution_count": null,
   "metadata": {},
   "outputs": [],
   "source": []
  },
  {
   "cell_type": "code",
   "execution_count": null,
   "metadata": {},
   "outputs": [],
   "source": []
  },
  {
   "cell_type": "code",
   "execution_count": null,
   "metadata": {},
   "outputs": [],
   "source": []
  },
  {
   "cell_type": "code",
   "execution_count": null,
   "metadata": {},
   "outputs": [],
   "source": []
  },
  {
   "cell_type": "code",
   "execution_count": null,
   "metadata": {},
   "outputs": [],
   "source": []
  },
  {
   "cell_type": "code",
   "execution_count": null,
   "metadata": {},
   "outputs": [],
   "source": []
  },
  {
   "cell_type": "code",
   "execution_count": null,
   "metadata": {},
   "outputs": [],
   "source": []
  },
  {
   "cell_type": "code",
   "execution_count": null,
   "metadata": {},
   "outputs": [],
   "source": []
  },
  {
   "cell_type": "code",
   "execution_count": null,
   "metadata": {},
   "outputs": [],
   "source": [
    "RESULTS_PATH = '/masvol/heartsmart/unet_model/baseline/results/'\n",
    "label_file176_0 = '/masvol/heartsmart/unet_model/baseline/data/combined_1_3_0_176_test_labels.npy'\n",
    "\n",
    "perf176_0_df = pd.DataFrame( keys, columns=[\"Attribute\"] )\n",
    "for results_file in explist176_0 :\n",
    "    pred_file = RESULTS_PATH + results_file + '_predictions.npy'\n",
    "    perf = compute_performance_statistics(label_file176_0, pred_file)\n",
    "    perf176_0_df[results_file]= perf176_0_df['Attribute'].map(perf)\n",
    "    "
   ]
  },
  {
   "cell_type": "code",
   "execution_count": null,
   "metadata": {},
   "outputs": [],
   "source": [
    "perf176_0_df"
   ]
  },
  {
   "cell_type": "code",
   "execution_count": null,
   "metadata": {},
   "outputs": [],
   "source": [
    "RESULTS_PATH = '/masvol/heartsmart/unet_model/baseline/results/'\n",
    "label_file176 = '/masvol/heartsmart/unet_model/baseline/data/combined_1_3_176_test_labels.npy'\n",
    "\n",
    "perf176_df = pd.DataFrame( keys, columns=[\"Attribute\"] )\n",
    "for results_file in explist176 :\n",
    "    pred_file = RESULTS_PATH + results_file + '_predictions.npy'\n",
    "    perf = compute_performance_statistics(label_file176, pred_file)\n",
    "    perf176_df[results_file]= perf176_df['Attribute'].map(perf)\n",
    "    "
   ]
  },
  {
   "cell_type": "code",
   "execution_count": null,
   "metadata": {},
   "outputs": [],
   "source": [
    "perf176_df"
   ]
  },
  {
   "cell_type": "code",
   "execution_count": null,
   "metadata": {},
   "outputs": [],
   "source": [
    "RESULTS_PATH = '/masvol/heartsmart/unet_model/baseline/results/'\n",
    "label_file256 = '/masvol/heartsmart/unet_model/baseline/data/combined_1_3_256_test_labels.npy'\n",
    "\n",
    "perf256_df = pd.DataFrame( keys, columns=[\"Attribute\"] )\n",
    "for results_file in explist256 :\n",
    "    pred_file = RESULTS_PATH + results_file + '_predictions.npy'\n",
    "    perf = compute_performance_statistics(label_file256, pred_file)\n",
    "    perf256_df[results_file]= perf256_df['Attribute'].map(perf)"
   ]
  },
  {
   "cell_type": "code",
   "execution_count": null,
   "metadata": {},
   "outputs": [],
   "source": [
    "RESULTS_PATH = '/masvol/heartsmart/unet_model/baseline/results/'\n",
    "label_file256_0 = '/masvol/heartsmart/unet_model/baseline/data/combined_1_3_0_256_test_labels.npy'\n",
    "\n",
    "perf256_0_df = pd.DataFrame( keys, columns=[\"Attribute\"] )\n",
    "for results_file in explist256_0 :\n",
    "    pred_file = RESULTS_PATH + results_file + '_predictions.npy'\n",
    "    perf = compute_performance_statistics(label_file256_0, pred_file)\n",
    "    perf256_0_df[results_file]= perf256_0_df['Attribute'].map(perf)"
   ]
  },
  {
   "cell_type": "code",
   "execution_count": null,
   "metadata": {},
   "outputs": [],
   "source": [
    "perf256_df"
   ]
  },
  {
   "cell_type": "code",
   "execution_count": null,
   "metadata": {},
   "outputs": [],
   "source": [
    "perf256_0_df"
   ]
  },
  {
   "cell_type": "code",
   "execution_count": null,
   "metadata": {},
   "outputs": [],
   "source": [
    "x = .00001\n",
    "type(x)\n",
    "x"
   ]
  },
  {
   "cell_type": "code",
   "execution_count": null,
   "metadata": {},
   "outputs": [],
   "source": [
    "file_name = '/masvol/heartsmart/unet_model/baseline/results/combined_1_3_0_256_perf_comparison.csv'\n",
    "perf256_0_df.to_csv(file_name, sep='\\t')"
   ]
  },
  {
   "cell_type": "code",
   "execution_count": null,
   "metadata": {},
   "outputs": [],
   "source": [
    "file_name = '/masvol/heartsmart/unet_model/baseline/results/combined_1_3_256_perf_comparison.csv'\n",
    "perf256_df.to_csv(file_name, sep='\\t')"
   ]
  },
  {
   "cell_type": "code",
   "execution_count": null,
   "metadata": {},
   "outputs": [],
   "source": [
    "#hist = '/masvol/heartsmart/unet_model/baseline/results/combined_1_3_0_256_dicecoef_learning_history.json'\n",
    "#hist = '/masvol/heartsmart/unet_model/baseline/results/combined_1_3_0_256_drop_dicecoef_learning_history.json'\n",
    "hist = '/masvol/heartsmart/unet_model/baseline/results/combined_1_3_0_176_learning_history.json'\n",
    "hist = '/masvol/heartsmart/unet_model/baseline/results/combined_1_3_0_176_aug_drop_dice_learning_history.json'\n",
    "plot_learning_history(hist)"
   ]
  },
  {
   "cell_type": "code",
   "execution_count": null,
   "metadata": {},
   "outputs": [],
   "source": [
    "perf176_df"
   ]
  },
  {
   "cell_type": "code",
   "execution_count": null,
   "metadata": {},
   "outputs": [],
   "source": [
    "perf176_df"
   ]
  },
  {
   "cell_type": "code",
   "execution_count": null,
   "metadata": {
    "scrolled": false
   },
   "outputs": [],
   "source": [
    "for results_file in explist256 :\n",
    "    history_file = RESULTS_PATH + results_file + '_learning_history.json'\n",
    "    print ('='*30)\n",
    "    print ('='*30)\n",
    "    print (\"Learning history of :\" + results_file)\n",
    "    print ('-'*30)\n",
    "    \n",
    "    plot_learning_history(history_file)\n",
    "    "
   ]
  },
  {
   "cell_type": "code",
   "execution_count": null,
   "metadata": {},
   "outputs": [],
   "source": []
  },
  {
   "cell_type": "code",
   "execution_count": null,
   "metadata": {
    "scrolled": false
   },
   "outputs": [],
   "source": [
    "for results_file in explist176 :\n",
    "    history_file = RESULTS_PATH + results_file + '_learning_history.json'\n",
    "    print ('='*30)\n",
    "    print ('='*30)\n",
    "    print (\"Learning history of :\" + results_file)\n",
    "    print ('-'*30)\n",
    "    \n",
    "    plot_learning_history(history_file)"
   ]
  },
  {
   "cell_type": "code",
   "execution_count": null,
   "metadata": {},
   "outputs": [],
   "source": [
    "# label_file = \"/masvol/heartsmart/unet_model/data/baseline/combined_1_3_256_test_labels.npy\"\n",
    "# pred_file = \"/masvol/heartsmart/unet_model/data/baseline/combined_1_3_256_predictions.npy\"\n",
    "# y_true_f = np.load(label_file)\n",
    "# y_pred_f = np.load(pred_file)\n",
    "# p = get_performance_statistics(y_true_f, y_pred_f)\n",
    "# print (p)"
   ]
  },
  {
   "cell_type": "code",
   "execution_count": null,
   "metadata": {},
   "outputs": [],
   "source": [
    "# perf_file = \"perf_values.json\"\n",
    "# print (\"Saving Performance values\", perf_file)\n",
    "# with open(perf_file, 'w') as file:\n",
    "#     json.dump(p, file, indent=2)\n",
    "# print('-'*30)"
   ]
  },
  {
   "cell_type": "code",
   "execution_count": null,
   "metadata": {},
   "outputs": [],
   "source": []
  },
  {
   "cell_type": "markdown",
   "metadata": {},
   "source": [
    "## Analysis on training with 256x256  combined data set (ACDC + Sunnybrook)\n",
    "### Below are the results of 4 tests\n",
    "1. Training with combined dataset\n",
    "2. Training with combined dataset + Augmentation\n",
    "3. Training with combined dataset (no augmentation),  using Unet with dropout layers\n",
    "4. Training with combined dataset + Augmentation,  using Unet with dropout layers"
   ]
  },
  {
   "cell_type": "code",
   "execution_count": null,
   "metadata": {
    "scrolled": false
   },
   "outputs": [],
   "source": [
    "history_file = '/masvol/heartsmart/unet_model/baseline/results/combined_1_3_0_256_drop_dicecoef_learning_history.json'\n",
    "image_file = \"/masvol/heartsmart/unet_model/baseline/data/combined_1_3_0_256_test_images.npy\"\n",
    "label_file = \"/masvol/heartsmart/unet_model/baseline/data/combined_1_3_0_256_test_labels.npy\"\n",
    "pred_file = \"/masvol/heartsmart/unet_model/baseline/results/combined_1_3_0_256_drop_dicecoef_predictions.npy\"\n",
    "plot_learning_history(history_file)\n",
    "show_performance_statistics(label_file, pred_file)\n",
    "find_outliers(label_file, pred_file)\n",
    "display_images_labels_predictions (image_file, label_file, pred_file, num_images = 4, random_images = True)\n",
    "print('-'*30)\n",
    "print('-'*30)\n",
    "zcontour = [21, 84, 127, 220]\n",
    "display_images_labels_predictions (image_file, label_file, pred_file, image_list = zcontour)\n"
   ]
  },
  {
   "cell_type": "code",
   "execution_count": null,
   "metadata": {
    "scrolled": false
   },
   "outputs": [],
   "source": [
    "zcontour = [50, 53, 72, 73, 116, 118, 145, 188]\n",
    "display_images_labels_predictions (image_file, label_file, pred_file, image_list = zcontour)"
   ]
  },
  {
   "cell_type": "code",
   "execution_count": null,
   "metadata": {},
   "outputs": [],
   "source": []
  },
  {
   "cell_type": "code",
   "execution_count": null,
   "metadata": {},
   "outputs": [],
   "source": [
    "history_file = \"/masvol/heartsmart/unet_model/data/baseline/combined_1_3_256_learning_history.json\"\n",
    "image_file = \"/masvol/heartsmart/unet_model/data/baseline/combined_1_3_256_test_images.npy\"\n",
    "label_file = \"/masvol/heartsmart/unet_model/data/baseline/combined_1_3_256_test_labels.npy\"\n",
    "pred_file = \"/masvol/heartsmart/unet_model/data/baseline/combined_1_3_256_predictions.npy\"\n",
    "plot_learning_history(history_file)\n",
    "show_performance_statistics(label_file, pred_file)\n",
    "find_outliers(label_file, pred_file)\n",
    "display_images_labels_predictions (image_file, label_file, pred_file, num_images = 4, random_images = True)\n",
    "print('-'*30)\n",
    "print('-'*30)\n",
    "zcontour = [21, 84, 127, 220]\n",
    "display_images_labels_predictions (image_file, label_file, pred_file, image_list = zcontour)\n"
   ]
  },
  {
   "cell_type": "code",
   "execution_count": null,
   "metadata": {},
   "outputs": [],
   "source": []
  },
  {
   "cell_type": "code",
   "execution_count": null,
   "metadata": {
    "scrolled": false
   },
   "outputs": [],
   "source": [
    "history_file = \"/masvol/heartsmart/unet_model/data/baseline/combined_aug_1_3_256_learning_history.json\"\n",
    "image_file = \"/masvol/heartsmart/unet_model/data/baseline/combined_1_3_256_test_images.npy\"\n",
    "label_file = \"/masvol/heartsmart/unet_model/data/baseline/combined_1_3_256_test_labels.npy\"\n",
    "pred_file = \"/masvol/heartsmart/unet_model/data/baseline/combined_aug_1_3_256_predictions.npy\"\n",
    "#plot_learning_history(history_file)\n",
    "#show_performance_statistics(label_file, pred_file)\n",
    "find_outliers(label_file, pred_file)\n",
    "display_images_labels_predictions (image_file, label_file, pred_file, num_images = 4, random_images = True)\n",
    "print('-'*30)\n",
    "print('-'*30)\n",
    "zcontour = [21, 84, 127, 220]\n",
    "display_images_labels_predictions (image_file, label_file, pred_file, image_list = zcontour)"
   ]
  },
  {
   "cell_type": "code",
   "execution_count": null,
   "metadata": {
    "scrolled": false
   },
   "outputs": [],
   "source": [
    "history_file = \"/masvol/heartsmart/unet_model/data/baseline/combined_drop_1_3_256_learning_history.json\"\n",
    "image_file = \"/masvol/heartsmart/unet_model/data/baseline/combined_1_3_256_test_images.npy\"\n",
    "label_file = \"/masvol/heartsmart/unet_model/data/baseline/combined_1_3_256_test_labels.npy\"\n",
    "pred_file = \"/masvol/heartsmart/unet_model/data/baseline/combined_drop_1_3_256_predictions.npy\"\n",
    "plot_learning_history(history_file)\n",
    "show_performance_statistics(label_file, pred_file)\n",
    "find_outliers(label_file, pred_file)\n",
    "display_images_labels_predictions (image_file, label_file, pred_file, num_images = 4, random_images = True)\n",
    "print('-'*30)\n",
    "print('-'*30)\n",
    "zcontour = [11, 127, 165, 184, 192, 204, 217, 229]\n",
    "display_images_labels_predictions (image_file, label_file, pred_file, image_list = zcontour)"
   ]
  },
  {
   "cell_type": "code",
   "execution_count": null,
   "metadata": {
    "scrolled": false
   },
   "outputs": [],
   "source": [
    "history_file = \"/masvol/heartsmart/unet_model/data/baseline/combined_aug_drop_1_3_256_learning_history.json\"\n",
    "image_file = \"/masvol/heartsmart/unet_model/data/baseline/combined_1_3_256_test_images.npy\"\n",
    "label_file = \"/masvol/heartsmart/unet_model/data/baseline/combined_1_3_256_test_labels.npy\"\n",
    "pred_file = \"/masvol/heartsmart/unet_model/data/baseline/combined_aug_drop_1_3_256_predictions.npy\"\n",
    "plot_learning_history(history_file)\n",
    "show_performance_statistics(label_file, pred_file)\n",
    "find_outliers(label_file, pred_file)\n",
    "display_images_labels_predictions (image_file, label_file, pred_file, num_images = 4, random_images = True)\n",
    "print('-'*30)\n",
    "print('-'*30)\n",
    "zcontour = [11, 21, 22, 127, 192, 204, 217, 220]\n",
    "display_images_labels_predictions (image_file, label_file, pred_file, image_list = zcontour)"
   ]
  },
  {
   "cell_type": "code",
   "execution_count": null,
   "metadata": {},
   "outputs": [],
   "source": []
  },
  {
   "cell_type": "markdown",
   "metadata": {},
   "source": [
    "## Analysis on training with 176x176  combined data set (ACDC + Sunnybrook)\n",
    "### Below are the results of 4 tests\n",
    "1. Training with combined dataset\n",
    "2. Training with combined dataset + Augmentation\n",
    "3. Training with combined dataset (no augmentation),  using Unet with dropout layers\n",
    "4. Training with combined dataset + Augmentation,  using Unet with dropout layers"
   ]
  },
  {
   "cell_type": "code",
   "execution_count": null,
   "metadata": {
    "scrolled": false
   },
   "outputs": [],
   "source": [
    "weights_file = \"/masvol/heartsmart/unet_model/baseline/results/combined_1_3_176_aug_drop_dice.hdf5\"\n",
    "history_file = '/masvol/heartsmart/unet_model/baseline/results/combined_1_3_176_aug_drop_dice_learning_history.json'\n",
    "image_file = \"/masvol/heartsmart/unet_model/baseline/data/combined_1_3_176_test_images.npy\"\n",
    "label_file = \"/masvol/heartsmart/unet_model/baseline/data/combined_1_3_176_test_labels.npy\"\n",
    "pred_file = \"/masvol/heartsmart/unet_model/baseline/results/combined_1_3_176_aug_drop_dice_predictions.npy\"\n",
    "plot_learning_history(history_file)\n",
    "show_performance_statistics(label_file, pred_file)\n",
    "find_outliers(label_file, pred_file)\n",
    "display_images_labels_predictions (image_file, label_file, pred_file, num_images = 4, random_images = True)\n",
    "print('-'*30)\n",
    "print('-'*30)\n",
    "zcontour = [47, 68, 81, 82, 141, 155, 173, 202, 213]\n",
    "display_images_labels_predictions (image_file, label_file, pred_file, image_list = zcontour)\n"
   ]
  },
  {
   "cell_type": "code",
   "execution_count": null,
   "metadata": {
    "scrolled": false
   },
   "outputs": [],
   "source": [
    "weights_file = \"/masvol/heartsmart/unet_model/baseline/results/combined_1_3_176_aug_dice.hdf5\"\n",
    "history_file = '/masvol/heartsmart/unet_model/baseline/results/combined_1_3_176_aug_dice_learning_history.json'\n",
    "image_file = \"/masvol/heartsmart/unet_model/baseline/data/combined_1_3_176_test_images.npy\"\n",
    "label_file = \"/masvol/heartsmart/unet_model/baseline/data/combined_1_3_176_test_labels.npy\"\n",
    "pred_file = \"/masvol/heartsmart/unet_model/baseline/results/combined_1_3_176_aug_dice_predictions.npy\"\n",
    "plot_learning_history(history_file)\n",
    "show_performance_statistics(label_file, pred_file)\n",
    "find_outliers(label_file, pred_file)\n",
    "display_images_labels_predictions (image_file, label_file, pred_file, num_images = 4, random_images = True)\n",
    "print('-'*30)\n",
    "print('-'*30)\n",
    "zcontour = [47, 68, 81, 82, 141, 155, 173, 202, 213]\n",
    "display_images_labels_predictions (image_file, label_file, pred_file, image_list = zcontour)\n"
   ]
  },
  {
   "cell_type": "code",
   "execution_count": null,
   "metadata": {},
   "outputs": [],
   "source": [
    "zcontour = [173, 188]\n",
    "display_images_labels_predictions (image_file, label_file, pred_file, image_list = zcontour)"
   ]
  },
  {
   "cell_type": "code",
   "execution_count": null,
   "metadata": {},
   "outputs": [],
   "source": [
    "zcontour = [55, 81, 82, 141]\n",
    "display_images_labels_predictions (image_file, label_file, pred_file, image_list = zcontour)"
   ]
  },
  {
   "cell_type": "code",
   "execution_count": null,
   "metadata": {},
   "outputs": [],
   "source": []
  },
  {
   "cell_type": "code",
   "execution_count": null,
   "metadata": {
    "scrolled": false
   },
   "outputs": [],
   "source": [
    "weights_file = \"/masvol/heartsmart/unet_model/baseline/results/combined_1_3_0_176_aug_dice.hdf5\"\n",
    "history_file = '/masvol/heartsmart/unet_model/baseline/results/combined_1_3_0_176_aug_dice_learning_history.json'\n",
    "image_file = \"/masvol/heartsmart/unet_model/baseline/data/combined_1_3_0_176_test_images.npy\"\n",
    "label_file = \"/masvol/heartsmart/unet_model/baseline/data/combined_1_3_0_176_test_labels.npy\"\n",
    "pred_file = \"/masvol/heartsmart/unet_model/baseline/results/combined_1_3_0_176_aug_dice_predictions.npy\"\n",
    "plot_learning_history(history_file)\n",
    "show_performance_statistics(label_file, pred_file)\n",
    "find_outliers(label_file, pred_file)\n",
    "display_images_labels_predictions (image_file, label_file, pred_file, num_images = 4, random_images = True)\n",
    "print('-'*30)\n",
    "print('-'*30)\n",
    "zcontour = [47, 68, 81, 82, 141, 155, 173, 202, 213]\n",
    "display_images_labels_predictions (image_file, label_file, pred_file, image_list = zcontour)\n"
   ]
  },
  {
   "cell_type": "code",
   "execution_count": null,
   "metadata": {},
   "outputs": [],
   "source": [
    "# Sample Index of labels with zero contours [8, 14, 20, 32, 39, 95, 135]\n",
    "# Sample Index of predictions with zero contours [14, 20, 77, 95, 135, 169, 189]\n",
    "# Sample Index where missed predictions >= 100% 6 [8, 32, 39, 77, 169, 189]\n",
    "zcontour = [8, 14, 20, 32, 39, 95, 135]\n",
    "display_images_labels_predictions (image_file, label_file, pred_file, image_list = zcontour)\n"
   ]
  },
  {
   "cell_type": "code",
   "execution_count": null,
   "metadata": {},
   "outputs": [],
   "source": [
    "zcontour = [14, 20, 77, 95, 135, 169, 189]\n",
    "display_images_labels_predictions (image_file, label_file, pred_file, image_list = zcontour)"
   ]
  },
  {
   "cell_type": "code",
   "execution_count": null,
   "metadata": {},
   "outputs": [],
   "source": [
    "zcontour = [8, 32, 39, 77, 169, 189]\n",
    "#display_images_labels_predictions (image_file, label_file, pred_file, image_list = zcontour)\n",
    "display_images_predictions (image_file,  pred_file, image_list = zcontour)"
   ]
  },
  {
   "cell_type": "markdown",
   "metadata": {},
   "source": [
    "###  Runs with 176x176 images + labels with zero contours (combined_1_3_0 dataset)"
   ]
  },
  {
   "cell_type": "code",
   "execution_count": null,
   "metadata": {},
   "outputs": [],
   "source": [
    "\n",
    "weights_file = \"/masvol/heartsmart/unet_model/baseline/results/combined_1_3_0_176_dice.hdf5\"\n",
    "history_file = '/masvol/heartsmart/unet_model/baseline/results/combined_1_3_0_176_dice_learning_history.json'\n",
    "image_file = \"/masvol/heartsmart/unet_model/baseline/data/combined_1_3_0_176_test_images.npy\"\n",
    "label_file = \"/masvol/heartsmart/unet_model/baseline/data/combined_1_3_0_176_test_labels.npy\"\n",
    "pred_file = \"/masvol/heartsmart/unet_model/baseline/results/combined_1_3_0_176_dice_predictions.npy\"\n",
    "plot_learning_history(history_file)\n",
    "show_performance_statistics(label_file, pred_file)\n",
    "find_outliers(label_file, pred_file)\n",
    "display_images_labels_predictions (image_file, label_file, pred_file, num_images = 4, random_images = True)\n",
    "print('-'*30)\n",
    "print('-'*30)\n",
    "zcontour = [47, 68, 81, 82, 141, 155, 173, 202, 213]\n",
    "display_images_labels_predictions (image_file, label_file, pred_file, image_list = zcontour)\n"
   ]
  },
  {
   "cell_type": "code",
   "execution_count": null,
   "metadata": {
    "scrolled": false
   },
   "outputs": [],
   "source": [
    "weights_file = \"/masvol/heartsmart/unet_model/baseline/results/combined_1_3_0_176_aug_drop_dice.hdf5\"\n",
    "history_file = '/masvol/heartsmart/unet_model/baseline/results/combined_1_3_0_176_aug_drop_dice_learning_history.json'\n",
    "image_file = \"/masvol/heartsmart/unet_model/baseline/data/combined_1_3_0_176_test_images.npy\"\n",
    "label_file = \"/masvol/heartsmart/unet_model/baseline/data/combined_1_3_0_176_test_labels.npy\"\n",
    "pred_file = \"/masvol/heartsmart/unet_model/baseline/results/combined_1_3_0_176_aug_drop_dice_predictions.npy\"\n",
    "plot_learning_history(history_file)\n",
    "show_performance_statistics(label_file, pred_file)\n",
    "find_outliers(label_file, pred_file)\n",
    "display_images_labels_predictions (image_file, label_file, pred_file, num_images = 4, random_images = True)\n",
    "print('-'*30)\n",
    "print('-'*30)\n",
    "zcontour = [47, 68, 81, 82, 141, 155, 173, 202, 213]\n",
    "display_images_labels_predictions (image_file, label_file, pred_file, image_list = zcontour)\n"
   ]
  },
  {
   "cell_type": "code",
   "execution_count": null,
   "metadata": {},
   "outputs": [],
   "source": [
    "zcontour = [8, 14, 20, 32, 39, 95, 135]\n",
    "display_images_labels_predictions (image_file, label_file, pred_file, image_list = zcontour)"
   ]
  },
  {
   "cell_type": "code",
   "execution_count": null,
   "metadata": {
    "scrolled": false
   },
   "outputs": [],
   "source": [
    "#zcontour = [14, 20, 46, 65, 77, 102, 104, 154, 169, 189]\n",
    "zcontour = [14, 20, 63, 77, 95, 104, 135, 169, 189, 198, 212]\n",
    "display_images_labels_predictions (image_file, label_file, pred_file, image_list = zcontour)"
   ]
  },
  {
   "cell_type": "code",
   "execution_count": null,
   "metadata": {
    "scrolled": false
   },
   "outputs": [],
   "source": [
    "history_file = \"/masvol/heartsmart/unet_model/data/baseline/combined_drop_1_3_176_learning_history.json\"\n",
    "image_file = \"/masvol/heartsmart/unet_model/data/baseline/combined_1_3_176_test_images.npy\"\n",
    "label_file = \"/masvol/heartsmart/unet_model/data/baseline/combined_1_3_176_test_labels.npy\"\n",
    "pred_file = \"/masvol/heartsmart/unet_model/data/baseline/combined_drop_1_3_176_predictions.npy\"\n",
    "plot_learning_history(history_file)\n",
    "show_performance_statistics(label_file, pred_file)\n",
    "find_outliers(label_file, pred_file)\n",
    "display_images_labels_predictions (image_file, label_file, pred_file, num_images = 4, random_images = True)\n",
    "print('-'*30)\n",
    "print('-'*30)\n",
    "zcontour = [47, 68, 81, 82, 141, 155, 173, 202, 213]\n",
    "display_images_labels_predictions (image_file, label_file, pred_file, image_list = zcontour)"
   ]
  },
  {
   "cell_type": "code",
   "execution_count": null,
   "metadata": {
    "scrolled": false
   },
   "outputs": [],
   "source": [
    "zcontour = [0, 19, 47, 55, 68, 81 ]\n",
    "display_images_labels_predictions (image_file, label_file, pred_file, image_list = zcontour)"
   ]
  },
  {
   "cell_type": "code",
   "execution_count": null,
   "metadata": {},
   "outputs": [],
   "source": [
    "#Best predictions:\n",
    "bestp = [27, 112, 123]\n",
    "display_images_labels_predictions (image_file, label_file, pred_file, image_list = bestp)"
   ]
  },
  {
   "cell_type": "code",
   "execution_count": null,
   "metadata": {},
   "outputs": [],
   "source": [
    "history_file = \"/masvol/heartsmart/unet_model/data/baseline/combined_aug_drop_1_3_176_learning_history.json\"\n",
    "image_file = \"/masvol/heartsmart/unet_model/data/baseline/combined_1_3_176_test_images.npy\"\n",
    "label_file = \"/masvol/heartsmart/unet_model/data/baseline/combined_1_3_176_test_labels.npy\"\n",
    "pred_file = \"/masvol/heartsmart/unet_model/data/baseline/combined_aug_drop_1_3_176_predictions.npy\"\n",
    "plot_learning_history(history_file)\n",
    "show_performance_statistics(label_file, pred_file)\n",
    "find_outliers(label_file, pred_file)\n",
    "display_images_labels_predictions (image_file, label_file, pred_file, num_images = 4, random_images = True)\n",
    "print('-'*30)\n",
    "print('-'*30)\n",
    "zcontour = [47, 68, 81, 82, 141, 155, 173, 202, 213]\n",
    "display_images_labels_predictions (image_file, label_file, pred_file, image_list = zcontour)"
   ]
  },
  {
   "cell_type": "code",
   "execution_count": null,
   "metadata": {},
   "outputs": [],
   "source": [
    "## "
   ]
  },
  {
   "cell_type": "markdown",
   "metadata": {},
   "source": [
    "## Analysis of predictions on  DSB data set (256x256  images)"
   ]
  },
  {
   "cell_type": "code",
   "execution_count": null,
   "metadata": {
    "scrolled": false
   },
   "outputs": [],
   "source": [
    "image_file = \"/masvol/heartsmart/unet_model/data/baseline/combined_1_3_256_test_images.npy\"\n",
    "pred_file = \"/masvol/heartsmart/unet_model/data/baseline/combined_1_3_256_predictions.npy\"\n",
    "find_outliers_in_prediction(pred_file)\n",
    "display_images_predictions (image_file, pred_file, num_images = 4, random_images = True)\n",
    "print (\"-\"*30)\n",
    "imglist = [21, 84, 127]\n",
    "display_images_predictions (image_file, pred_file, image_list = imglist)\n"
   ]
  },
  {
   "cell_type": "code",
   "execution_count": null,
   "metadata": {},
   "outputs": [],
   "source": []
  },
  {
   "cell_type": "markdown",
   "metadata": {},
   "source": [
    "## Analysis of predictions on  DSB data set (176x176  images)"
   ]
  },
  {
   "cell_type": "code",
   "execution_count": null,
   "metadata": {
    "scrolled": false
   },
   "outputs": [],
   "source": [
    "image_file = \"/masvol/heartsmart/unet_model/data/baseline/combined_1_3_176_test_images.npy\"\n",
    "pred_file = \"/masvol/heartsmart/unet_model/data/baseline/combined_1_3_176_predictions.npy\"\n",
    "find_outliers_in_prediction(pred_file)\n",
    "display_images_predictions (image_file, pred_file, num_images = 4, random_images = True)\n",
    "print (\"-\"*30)\n",
    "print (\"-\"*30)\n",
    "imglist = [173]\n",
    "display_images_predictions (image_file, pred_file, image_list = imglist)"
   ]
  },
  {
   "cell_type": "code",
   "execution_count": null,
   "metadata": {},
   "outputs": [],
   "source": []
  }
 ],
 "metadata": {
  "kernelspec": {
   "display_name": "Python 3",
   "language": "python",
   "name": "python3"
  },
  "language_info": {
   "codemirror_mode": {
    "name": "ipython",
    "version": 3
   },
   "file_extension": ".py",
   "mimetype": "text/x-python",
   "name": "python",
   "nbconvert_exporter": "python",
   "pygments_lexer": "ipython3",
   "version": "3.5.2"
  }
 },
 "nbformat": 4,
 "nbformat_minor": 2
}
